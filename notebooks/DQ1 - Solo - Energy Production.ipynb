{
 "cells": [
  {
   "cell_type": "code",
   "execution_count": 1,
   "metadata": {},
   "outputs": [],
   "source": [
    "import pandas as pd\n",
    "import numpy as np\n",
    "import matplotlib.pyplot as plt\n",
    "import seaborn as sns\n",
    "import scipy.stats as stats\n",
    "import statsmodels.api as sm\n",
    "%matplotlib inline\n",
    "\n",
    "from mpl_toolkits.mplot3d import Axes3D"
   ]
  },
  {
   "cell_type": "code",
   "execution_count": 2,
   "metadata": {},
   "outputs": [],
   "source": [
    "gdp_df=pd.read_csv(\"../Notebooks/UNdata1.csv\", nrows=6729)\n",
    "energy_df=pd.read_csv(\"../Notebooks/UNdata3.csv\", nrows=59493)"
   ]
  },
  {
   "cell_type": "code",
   "execution_count": 3,
   "metadata": {},
   "outputs": [
    {
     "name": "stdout",
     "output_type": "stream",
     "text": [
      "<class 'pandas.core.frame.DataFrame'>\n",
      "RangeIndex: 59493 entries, 0 to 59492\n",
      "Data columns (total 6 columns):\n",
      " #   Column                   Non-Null Count  Dtype  \n",
      "---  ------                   --------------  -----  \n",
      " 0   Country or Area          59493 non-null  object \n",
      " 1   Commodity - Transaction  59493 non-null  object \n",
      " 2   Year                     59492 non-null  float64\n",
      " 3   Unit                     59492 non-null  object \n",
      " 4   Quantity                 59492 non-null  float64\n",
      " 5   Quantity Footnotes       15204 non-null  float64\n",
      "dtypes: float64(3), object(3)\n",
      "memory usage: 2.7+ MB\n"
     ]
    }
   ],
   "source": [
    "energy_df.info()"
   ]
  },
  {
   "cell_type": "code",
   "execution_count": 4,
   "metadata": {},
   "outputs": [
    {
     "name": "stdout",
     "output_type": "stream",
     "text": [
      "<class 'pandas.core.frame.DataFrame'>\n",
      "RangeIndex: 59493 entries, 0 to 59492\n",
      "Data columns (total 4 columns):\n",
      " #   Column           Non-Null Count  Dtype  \n",
      "---  ------           --------------  -----  \n",
      " 0   Country          59493 non-null  string \n",
      " 1   Year             59492 non-null  float64\n",
      " 2   Kw in Thousands  59492 non-null  float64\n",
      " 3   Kw               59492 non-null  float64\n",
      "dtypes: float64(3), string(1)\n",
      "memory usage: 1.8 MB\n",
      "\n",
      "\n",
      "       Country    Year  Kw in Thousands        Kw\n",
      "0  Afghanistan  2017.0            519.0  519000.0\n",
      "1  Afghanistan  2016.0            519.0  519000.0\n",
      "2  Afghanistan  2015.0            519.0  519000.0\n",
      "3  Afghanistan  2014.0            431.0  431000.0\n",
      "4  Afghanistan  2013.0            431.0  431000.0\n"
     ]
    }
   ],
   "source": [
    "#Cleaning up energy_df\n",
    "\n",
    "#Drop uneaded columns\n",
    "energy_df = energy_df.drop(labels = {'Quantity Footnotes', 'Unit', 'Commodity - Transaction'}, axis = 1)\n",
    "\n",
    "#Add column of full Kw value\n",
    "energy_df['Kw'] = energy_df['Quantity']*1000\n",
    "\n",
    "#Rename Columns\n",
    "energy_df = energy_df.rename(columns = {'Country or Area' : 'Country', 'Quantity' : 'Kw in Thousands'})\n",
    "\n",
    "#Convert 'Country' to a string\n",
    "energy_df = energy_df.astype({'Country':'string'})\n",
    "\n",
    "energy_df.info()\n",
    "\n",
    "print('\\n')\n",
    "\n",
    "print(energy_df.head())"
   ]
  },
  {
   "cell_type": "code",
   "execution_count": 5,
   "metadata": {},
   "outputs": [
    {
     "name": "stdout",
     "output_type": "stream",
     "text": [
      "<class 'pandas.core.frame.DataFrame'>\n",
      "RangeIndex: 6729 entries, 0 to 6728\n",
      "Data columns (total 3 columns):\n",
      " #   Column          Non-Null Count  Dtype  \n",
      "---  ------          --------------  -----  \n",
      " 0   Country         6729 non-null   string \n",
      " 1   Year            6729 non-null   int64  \n",
      " 2   GDP_Per_Capita  6729 non-null   float64\n",
      "dtypes: float64(1), int64(1), string(1)\n",
      "memory usage: 157.8 KB\n",
      "\n",
      "\n",
      "       Country  Year  GDP_Per_Capita\n",
      "0  Afghanistan  2018     1734.723214\n",
      "1  Afghanistan  2017     1758.465636\n",
      "2  Afghanistan  2016     1757.023490\n",
      "3  Afghanistan  2015     1766.593077\n",
      "4  Afghanistan  2014     1795.735834\n"
     ]
    }
   ],
   "source": [
    "#Cleaning up gdp_df\n",
    "\n",
    "#Drop uneaded columns\n",
    "gdp_df = gdp_df.drop(labels='Value Footnotes', axis=1)\n",
    "\n",
    "#Rename Columns\n",
    "gdp_df = gdp_df.rename(columns = {'Country or Area': 'Country', 'Value':'GDP_Per_Capita'})\n",
    "\n",
    "#Convert 'Country' to a string\n",
    "gdp_df = gdp_df.astype({'Country':'string'})\n",
    "                                  \n",
    "gdp_df.info()\n",
    "\n",
    "print('\\n')\n",
    "\n",
    "print(gdp_df.head())"
   ]
  },
  {
   "cell_type": "code",
   "execution_count": 6,
   "metadata": {},
   "outputs": [
    {
     "name": "stdout",
     "output_type": "stream",
     "text": [
      "<class 'pandas.core.frame.DataFrame'>\n",
      "Int64Index: 6305 entries, 0 to 6304\n",
      "Data columns (total 4 columns):\n",
      " #   Column           Non-Null Count  Dtype  \n",
      "---  ------           --------------  -----  \n",
      " 0   Country          6305 non-null   object \n",
      " 1   Year             6305 non-null   float64\n",
      " 2   Kw in Thousands  6305 non-null   float64\n",
      " 3   Kw               6305 non-null   float64\n",
      "dtypes: float64(3), object(1)\n",
      "memory usage: 246.3+ KB\n"
     ]
    },
    {
     "name": "stderr",
     "output_type": "stream",
     "text": [
      "<ipython-input-6-6213f5a8ae47>:3: FutureWarning: Indexing with multiple keys (implicitly converted to a tuple of keys) will be deprecated, use a list instead.\n",
      "  energy_df = energy_df.groupby(['Country', 'Year'], as_index=False)['Kw in Thousands', 'Kw'].sum()\n"
     ]
    }
   ],
   "source": [
    "#Creates true total Kw ignoring the various type of electricity in the original dataset\n",
    "\n",
    "energy_df = energy_df.groupby(['Country', 'Year'], as_index=False)['Kw in Thousands', 'Kw'].sum()\n",
    "\n",
    "energy_df.info()"
   ]
  },
  {
   "cell_type": "code",
   "execution_count": 7,
   "metadata": {},
   "outputs": [
    {
     "name": "stdout",
     "output_type": "stream",
     "text": [
      "<class 'pandas.core.frame.DataFrame'>\n",
      "Int64Index: 4468 entries, 0 to 4467\n",
      "Data columns (total 5 columns):\n",
      " #   Column           Non-Null Count  Dtype  \n",
      "---  ------           --------------  -----  \n",
      " 0   Country          4468 non-null   object \n",
      " 1   Year             4468 non-null   float64\n",
      " 2   Kw in Thousands  4468 non-null   float64\n",
      " 3   Kw               4468 non-null   float64\n",
      " 4   GDP_Per_Capita   4468 non-null   float64\n",
      "dtypes: float64(4), object(1)\n",
      "memory usage: 209.4+ KB\n",
      "          Country    Year  Kw in Thousands         Kw  GDP_Per_Capita\n",
      "0     Afghanistan  2002.0           1964.0  1964000.0     1016.245409\n",
      "1     Afghanistan  2003.0           1956.0  1956000.0     1055.557459\n",
      "2     Afghanistan  2004.0           1956.0  1956000.0     1025.208245\n",
      "3     Afghanistan  2005.0           1956.0  1956000.0     1099.104568\n",
      "4     Afghanistan  2006.0           1956.0  1956000.0     1123.871323\n",
      "...           ...     ...              ...        ...             ...\n",
      "4463     Zimbabwe  2014.0           7968.0  7968000.0     2506.490220\n",
      "4464     Zimbabwe  2015.0           7968.0  7968000.0     2509.008140\n",
      "4465     Zimbabwe  2016.0           8060.0  8060000.0     2489.097494\n",
      "4466     Zimbabwe  2017.0           8060.0  8060000.0     2568.410072\n",
      "4467     Zimbabwe  2018.0           9080.0  9080000.0     2688.406942\n",
      "\n",
      "[4468 rows x 5 columns]\n"
     ]
    }
   ],
   "source": [
    "energy_gdp = energy_df.merge(gdp_df, on = ['Country', 'Year'])\n",
    "\n",
    "energy_gdp.info()\n",
    "print(energy_gdp)"
   ]
  },
  {
   "cell_type": "code",
   "execution_count": 8,
   "metadata": {},
   "outputs": [
    {
     "data": {
      "text/plain": [
       "Country             170\n",
       "Year                 29\n",
       "Kw in Thousands    3116\n",
       "Kw                 3112\n",
       "GDP_Per_Capita     4468\n",
       "dtype: int64"
      ]
     },
     "execution_count": 8,
     "metadata": {},
     "output_type": "execute_result"
    }
   ],
   "source": [
    "energy_gdp.nunique()"
   ]
  },
  {
   "cell_type": "code",
   "execution_count": 27,
   "metadata": {},
   "outputs": [
    {
     "data": {
      "text/plain": [
       "0.14857634569026237"
      ]
     },
     "execution_count": 27,
     "metadata": {},
     "output_type": "execute_result"
    }
   ],
   "source": [
    "#What is the correlation? Woah, that's pretty low! I wonder what countries have high and low \n",
    "#individual values? \n",
    "\n",
    "energy_gdp['Kw'].corr(energy_gdp['GDP_Per_Capita'])"
   ]
  },
  {
   "cell_type": "code",
   "execution_count": 28,
   "metadata": {},
   "outputs": [
    {
     "name": "stderr",
     "output_type": "stream",
     "text": [
      "<ipython-input-28-fa193f903ae3>:1: FutureWarning: Indexing with multiple keys (implicitly converted to a tuple of keys) will be deprecated, use a list instead.\n",
      "  energy_gdp.groupby('Country')['Kw', 'GDP_Per_Capita'].corr()\n"
     ]
    },
    {
     "data": {
      "text/html": [
       "<div>\n",
       "<style scoped>\n",
       "    .dataframe tbody tr th:only-of-type {\n",
       "        vertical-align: middle;\n",
       "    }\n",
       "\n",
       "    .dataframe tbody tr th {\n",
       "        vertical-align: top;\n",
       "    }\n",
       "\n",
       "    .dataframe thead th {\n",
       "        text-align: right;\n",
       "    }\n",
       "</style>\n",
       "<table border=\"1\" class=\"dataframe\">\n",
       "  <thead>\n",
       "    <tr style=\"text-align: right;\">\n",
       "      <th></th>\n",
       "      <th></th>\n",
       "      <th>Kw</th>\n",
       "      <th>GDP_Per_Capita</th>\n",
       "    </tr>\n",
       "    <tr>\n",
       "      <th>Country</th>\n",
       "      <th></th>\n",
       "      <th></th>\n",
       "      <th></th>\n",
       "    </tr>\n",
       "  </thead>\n",
       "  <tbody>\n",
       "    <tr>\n",
       "      <th rowspan=\"2\" valign=\"top\">Afghanistan</th>\n",
       "      <th>Kw</th>\n",
       "      <td>1.000000</td>\n",
       "      <td>-0.274938</td>\n",
       "    </tr>\n",
       "    <tr>\n",
       "      <th>GDP_Per_Capita</th>\n",
       "      <td>-0.274938</td>\n",
       "      <td>1.000000</td>\n",
       "    </tr>\n",
       "    <tr>\n",
       "      <th rowspan=\"2\" valign=\"top\">Albania</th>\n",
       "      <th>Kw</th>\n",
       "      <td>1.000000</td>\n",
       "      <td>0.143536</td>\n",
       "    </tr>\n",
       "    <tr>\n",
       "      <th>GDP_Per_Capita</th>\n",
       "      <td>0.143536</td>\n",
       "      <td>1.000000</td>\n",
       "    </tr>\n",
       "    <tr>\n",
       "      <th>Algeria</th>\n",
       "      <th>Kw</th>\n",
       "      <td>1.000000</td>\n",
       "      <td>0.864059</td>\n",
       "    </tr>\n",
       "    <tr>\n",
       "      <th>...</th>\n",
       "      <th>...</th>\n",
       "      <td>...</td>\n",
       "      <td>...</td>\n",
       "    </tr>\n",
       "    <tr>\n",
       "      <th>Yemen</th>\n",
       "      <th>GDP_Per_Capita</th>\n",
       "      <td>-0.451992</td>\n",
       "      <td>1.000000</td>\n",
       "    </tr>\n",
       "    <tr>\n",
       "      <th rowspan=\"2\" valign=\"top\">Zambia</th>\n",
       "      <th>Kw</th>\n",
       "      <td>1.000000</td>\n",
       "      <td>0.799113</td>\n",
       "    </tr>\n",
       "    <tr>\n",
       "      <th>GDP_Per_Capita</th>\n",
       "      <td>0.799113</td>\n",
       "      <td>1.000000</td>\n",
       "    </tr>\n",
       "    <tr>\n",
       "      <th rowspan=\"2\" valign=\"top\">Zimbabwe</th>\n",
       "      <th>Kw</th>\n",
       "      <td>1.000000</td>\n",
       "      <td>-0.227518</td>\n",
       "    </tr>\n",
       "    <tr>\n",
       "      <th>GDP_Per_Capita</th>\n",
       "      <td>-0.227518</td>\n",
       "      <td>1.000000</td>\n",
       "    </tr>\n",
       "  </tbody>\n",
       "</table>\n",
       "<p>340 rows × 2 columns</p>\n",
       "</div>"
      ],
      "text/plain": [
       "                                  Kw  GDP_Per_Capita\n",
       "Country                                             \n",
       "Afghanistan Kw              1.000000       -0.274938\n",
       "            GDP_Per_Capita -0.274938        1.000000\n",
       "Albania     Kw              1.000000        0.143536\n",
       "            GDP_Per_Capita  0.143536        1.000000\n",
       "Algeria     Kw              1.000000        0.864059\n",
       "...                              ...             ...\n",
       "Yemen       GDP_Per_Capita -0.451992        1.000000\n",
       "Zambia      Kw              1.000000        0.799113\n",
       "            GDP_Per_Capita  0.799113        1.000000\n",
       "Zimbabwe    Kw              1.000000       -0.227518\n",
       "            GDP_Per_Capita -0.227518        1.000000\n",
       "\n",
       "[340 rows x 2 columns]"
      ]
     },
     "execution_count": 28,
     "metadata": {},
     "output_type": "execute_result"
    }
   ],
   "source": [
    "energy_gdp.groupby('Country')['Kw', 'GDP_Per_Capita'].corr()"
   ]
  },
  {
   "cell_type": "code",
   "execution_count": 10,
   "metadata": {},
   "outputs": [
    {
     "name": "stderr",
     "output_type": "stream",
     "text": [
      "<ipython-input-10-7e7bb0a5bbd3>:1: FutureWarning: Indexing with multiple keys (implicitly converted to a tuple of keys) will be deprecated, use a list instead.\n",
      "  energy_gdp.groupby('Country')['Kw', 'GDP_Per_Capita'].corr().reset_index().sort_values('GDP_Per_Capita')\n"
     ]
    },
    {
     "data": {
      "text/html": [
       "<div>\n",
       "<style scoped>\n",
       "    .dataframe tbody tr th:only-of-type {\n",
       "        vertical-align: middle;\n",
       "    }\n",
       "\n",
       "    .dataframe tbody tr th {\n",
       "        vertical-align: top;\n",
       "    }\n",
       "\n",
       "    .dataframe thead th {\n",
       "        text-align: right;\n",
       "    }\n",
       "</style>\n",
       "<table border=\"1\" class=\"dataframe\">\n",
       "  <thead>\n",
       "    <tr style=\"text-align: right;\">\n",
       "      <th></th>\n",
       "      <th>Country</th>\n",
       "      <th>level_1</th>\n",
       "      <th>Kw</th>\n",
       "      <th>GDP_Per_Capita</th>\n",
       "    </tr>\n",
       "  </thead>\n",
       "  <tbody>\n",
       "    <tr>\n",
       "      <th>322</th>\n",
       "      <td>United Arab Emirates</td>\n",
       "      <td>Kw</td>\n",
       "      <td>1.000000</td>\n",
       "      <td>-0.937264</td>\n",
       "    </tr>\n",
       "    <tr>\n",
       "      <th>176</th>\n",
       "      <td>Lithuania</td>\n",
       "      <td>Kw</td>\n",
       "      <td>1.000000</td>\n",
       "      <td>-0.907615</td>\n",
       "    </tr>\n",
       "    <tr>\n",
       "      <th>60</th>\n",
       "      <td>Cayman Islands</td>\n",
       "      <td>Kw</td>\n",
       "      <td>1.000000</td>\n",
       "      <td>-0.799472</td>\n",
       "    </tr>\n",
       "    <tr>\n",
       "      <th>280</th>\n",
       "      <td>South Sudan</td>\n",
       "      <td>Kw</td>\n",
       "      <td>1.000000</td>\n",
       "      <td>-0.774084</td>\n",
       "    </tr>\n",
       "    <tr>\n",
       "      <th>14</th>\n",
       "      <td>Aruba</td>\n",
       "      <td>Kw</td>\n",
       "      <td>1.000000</td>\n",
       "      <td>-0.758974</td>\n",
       "    </tr>\n",
       "    <tr>\n",
       "      <th>...</th>\n",
       "      <td>...</td>\n",
       "      <td>...</td>\n",
       "      <td>...</td>\n",
       "      <td>...</td>\n",
       "    </tr>\n",
       "    <tr>\n",
       "      <th>171</th>\n",
       "      <td>Lesotho</td>\n",
       "      <td>GDP_Per_Capita</td>\n",
       "      <td>-0.114587</td>\n",
       "      <td>1.000000</td>\n",
       "    </tr>\n",
       "    <tr>\n",
       "      <th>151</th>\n",
       "      <td>Jamaica</td>\n",
       "      <td>GDP_Per_Capita</td>\n",
       "      <td>0.318668</td>\n",
       "      <td>1.000000</td>\n",
       "    </tr>\n",
       "    <tr>\n",
       "      <th>339</th>\n",
       "      <td>Zimbabwe</td>\n",
       "      <td>GDP_Per_Capita</td>\n",
       "      <td>-0.227518</td>\n",
       "      <td>1.000000</td>\n",
       "    </tr>\n",
       "    <tr>\n",
       "      <th>82</th>\n",
       "      <td>Djibouti</td>\n",
       "      <td>Kw</td>\n",
       "      <td>NaN</td>\n",
       "      <td>NaN</td>\n",
       "    </tr>\n",
       "    <tr>\n",
       "      <th>83</th>\n",
       "      <td>Djibouti</td>\n",
       "      <td>GDP_Per_Capita</td>\n",
       "      <td>NaN</td>\n",
       "      <td>NaN</td>\n",
       "    </tr>\n",
       "  </tbody>\n",
       "</table>\n",
       "<p>340 rows × 4 columns</p>\n",
       "</div>"
      ],
      "text/plain": [
       "                  Country         level_1        Kw  GDP_Per_Capita\n",
       "322  United Arab Emirates              Kw  1.000000       -0.937264\n",
       "176             Lithuania              Kw  1.000000       -0.907615\n",
       "60         Cayman Islands              Kw  1.000000       -0.799472\n",
       "280           South Sudan              Kw  1.000000       -0.774084\n",
       "14                  Aruba              Kw  1.000000       -0.758974\n",
       "..                    ...             ...       ...             ...\n",
       "171               Lesotho  GDP_Per_Capita -0.114587        1.000000\n",
       "151               Jamaica  GDP_Per_Capita  0.318668        1.000000\n",
       "339              Zimbabwe  GDP_Per_Capita -0.227518        1.000000\n",
       "82               Djibouti              Kw       NaN             NaN\n",
       "83               Djibouti  GDP_Per_Capita       NaN             NaN\n",
       "\n",
       "[340 rows x 4 columns]"
      ]
     },
     "execution_count": 10,
     "metadata": {},
     "output_type": "execute_result"
    }
   ],
   "source": [
    "energy_gdp.groupby('Country')['Kw', 'GDP_Per_Capita'].corr().reset_index().sort_values('GDP_Per_Capita')"
   ]
  },
  {
   "cell_type": "code",
   "execution_count": 11,
   "metadata": {},
   "outputs": [
    {
     "name": "stderr",
     "output_type": "stream",
     "text": [
      "<ipython-input-11-f8f9b3adff3d>:1: FutureWarning: Indexing with multiple keys (implicitly converted to a tuple of keys) will be deprecated, use a list instead.\n",
      "  temp1 = energy_gdp.groupby('Country')['Kw', 'GDP_Per_Capita'].corr()\n"
     ]
    },
    {
     "data": {
      "text/html": [
       "<div>\n",
       "<style scoped>\n",
       "    .dataframe tbody tr th:only-of-type {\n",
       "        vertical-align: middle;\n",
       "    }\n",
       "\n",
       "    .dataframe tbody tr th {\n",
       "        vertical-align: top;\n",
       "    }\n",
       "\n",
       "    .dataframe thead th {\n",
       "        text-align: right;\n",
       "    }\n",
       "</style>\n",
       "<table border=\"1\" class=\"dataframe\">\n",
       "  <thead>\n",
       "    <tr style=\"text-align: right;\">\n",
       "      <th></th>\n",
       "      <th>Country</th>\n",
       "      <th>level_1</th>\n",
       "      <th>Kw</th>\n",
       "      <th>GDP_Per_Capita</th>\n",
       "    </tr>\n",
       "  </thead>\n",
       "  <tbody>\n",
       "    <tr>\n",
       "      <th>33</th>\n",
       "      <td>China</td>\n",
       "      <td>Kw</td>\n",
       "      <td>1.0</td>\n",
       "      <td>0.997737</td>\n",
       "    </tr>\n",
       "    <tr>\n",
       "      <th>68</th>\n",
       "      <td>India</td>\n",
       "      <td>Kw</td>\n",
       "      <td>1.0</td>\n",
       "      <td>0.985821</td>\n",
       "    </tr>\n",
       "    <tr>\n",
       "      <th>154</th>\n",
       "      <td>Turkey</td>\n",
       "      <td>Kw</td>\n",
       "      <td>1.0</td>\n",
       "      <td>0.984771</td>\n",
       "    </tr>\n",
       "    <tr>\n",
       "      <th>72</th>\n",
       "      <td>Israel</td>\n",
       "      <td>Kw</td>\n",
       "      <td>1.0</td>\n",
       "      <td>0.983934</td>\n",
       "    </tr>\n",
       "    <tr>\n",
       "      <th>45</th>\n",
       "      <td>El Salvador</td>\n",
       "      <td>Kw</td>\n",
       "      <td>1.0</td>\n",
       "      <td>0.983921</td>\n",
       "    </tr>\n",
       "    <tr>\n",
       "      <th>60</th>\n",
       "      <td>Guatemala</td>\n",
       "      <td>Kw</td>\n",
       "      <td>1.0</td>\n",
       "      <td>0.980456</td>\n",
       "    </tr>\n",
       "    <tr>\n",
       "      <th>109</th>\n",
       "      <td>Nicaragua</td>\n",
       "      <td>Kw</td>\n",
       "      <td>1.0</td>\n",
       "      <td>0.979999</td>\n",
       "    </tr>\n",
       "    <tr>\n",
       "      <th>37</th>\n",
       "      <td>Costa Rica</td>\n",
       "      <td>Kw</td>\n",
       "      <td>1.0</td>\n",
       "      <td>0.979167</td>\n",
       "    </tr>\n",
       "    <tr>\n",
       "      <th>91</th>\n",
       "      <td>Malaysia</td>\n",
       "      <td>Kw</td>\n",
       "      <td>1.0</td>\n",
       "      <td>0.977949</td>\n",
       "    </tr>\n",
       "    <tr>\n",
       "      <th>65</th>\n",
       "      <td>Honduras</td>\n",
       "      <td>Kw</td>\n",
       "      <td>1.0</td>\n",
       "      <td>0.976030</td>\n",
       "    </tr>\n",
       "    <tr>\n",
       "      <th>128</th>\n",
       "      <td>Samoa</td>\n",
       "      <td>Kw</td>\n",
       "      <td>1.0</td>\n",
       "      <td>0.974272</td>\n",
       "    </tr>\n",
       "    <tr>\n",
       "      <th>101</th>\n",
       "      <td>Morocco</td>\n",
       "      <td>Kw</td>\n",
       "      <td>1.0</td>\n",
       "      <td>0.971201</td>\n",
       "    </tr>\n",
       "    <tr>\n",
       "      <th>117</th>\n",
       "      <td>Panama</td>\n",
       "      <td>Kw</td>\n",
       "      <td>1.0</td>\n",
       "      <td>0.969755</td>\n",
       "    </tr>\n",
       "    <tr>\n",
       "      <th>134</th>\n",
       "      <td>Singapore</td>\n",
       "      <td>Kw</td>\n",
       "      <td>1.0</td>\n",
       "      <td>0.969602</td>\n",
       "    </tr>\n",
       "    <tr>\n",
       "      <th>57</th>\n",
       "      <td>Ghana</td>\n",
       "      <td>Kw</td>\n",
       "      <td>1.0</td>\n",
       "      <td>0.965332</td>\n",
       "    </tr>\n",
       "    <tr>\n",
       "      <th>112</th>\n",
       "      <td>North Macedonia</td>\n",
       "      <td>Kw</td>\n",
       "      <td>1.0</td>\n",
       "      <td>0.964922</td>\n",
       "    </tr>\n",
       "    <tr>\n",
       "      <th>75</th>\n",
       "      <td>Japan</td>\n",
       "      <td>Kw</td>\n",
       "      <td>1.0</td>\n",
       "      <td>0.964375</td>\n",
       "    </tr>\n",
       "    <tr>\n",
       "      <th>141</th>\n",
       "      <td>Sri Lanka</td>\n",
       "      <td>Kw</td>\n",
       "      <td>1.0</td>\n",
       "      <td>0.963201</td>\n",
       "    </tr>\n",
       "    <tr>\n",
       "      <th>130</th>\n",
       "      <td>Senegal</td>\n",
       "      <td>Kw</td>\n",
       "      <td>1.0</td>\n",
       "      <td>0.961919</td>\n",
       "    </tr>\n",
       "    <tr>\n",
       "      <th>8</th>\n",
       "      <td>Australia</td>\n",
       "      <td>Kw</td>\n",
       "      <td>1.0</td>\n",
       "      <td>0.960422</td>\n",
       "    </tr>\n",
       "    <tr>\n",
       "      <th>120</th>\n",
       "      <td>Peru</td>\n",
       "      <td>Kw</td>\n",
       "      <td>1.0</td>\n",
       "      <td>0.958759</td>\n",
       "    </tr>\n",
       "    <tr>\n",
       "      <th>40</th>\n",
       "      <td>Denmark</td>\n",
       "      <td>Kw</td>\n",
       "      <td>1.0</td>\n",
       "      <td>0.956647</td>\n",
       "    </tr>\n",
       "    <tr>\n",
       "      <th>32</th>\n",
       "      <td>Chile</td>\n",
       "      <td>Kw</td>\n",
       "      <td>1.0</td>\n",
       "      <td>0.955914</td>\n",
       "    </tr>\n",
       "    <tr>\n",
       "      <th>69</th>\n",
       "      <td>Indonesia</td>\n",
       "      <td>Kw</td>\n",
       "      <td>1.0</td>\n",
       "      <td>0.955345</td>\n",
       "    </tr>\n",
       "    <tr>\n",
       "      <th>41</th>\n",
       "      <td>Dominica</td>\n",
       "      <td>Kw</td>\n",
       "      <td>1.0</td>\n",
       "      <td>0.955015</td>\n",
       "    </tr>\n",
       "  </tbody>\n",
       "</table>\n",
       "</div>"
      ],
      "text/plain": [
       "             Country level_1   Kw  GDP_Per_Capita\n",
       "33             China      Kw  1.0        0.997737\n",
       "68             India      Kw  1.0        0.985821\n",
       "154           Turkey      Kw  1.0        0.984771\n",
       "72            Israel      Kw  1.0        0.983934\n",
       "45       El Salvador      Kw  1.0        0.983921\n",
       "60         Guatemala      Kw  1.0        0.980456\n",
       "109        Nicaragua      Kw  1.0        0.979999\n",
       "37        Costa Rica      Kw  1.0        0.979167\n",
       "91          Malaysia      Kw  1.0        0.977949\n",
       "65          Honduras      Kw  1.0        0.976030\n",
       "128            Samoa      Kw  1.0        0.974272\n",
       "101          Morocco      Kw  1.0        0.971201\n",
       "117           Panama      Kw  1.0        0.969755\n",
       "134        Singapore      Kw  1.0        0.969602\n",
       "57             Ghana      Kw  1.0        0.965332\n",
       "112  North Macedonia      Kw  1.0        0.964922\n",
       "75             Japan      Kw  1.0        0.964375\n",
       "141        Sri Lanka      Kw  1.0        0.963201\n",
       "130          Senegal      Kw  1.0        0.961919\n",
       "8          Australia      Kw  1.0        0.960422\n",
       "120             Peru      Kw  1.0        0.958759\n",
       "40           Denmark      Kw  1.0        0.956647\n",
       "32             Chile      Kw  1.0        0.955914\n",
       "69         Indonesia      Kw  1.0        0.955345\n",
       "41          Dominica      Kw  1.0        0.955015"
      ]
     },
     "execution_count": 11,
     "metadata": {},
     "output_type": "execute_result"
    }
   ],
   "source": [
    "temp1 = energy_gdp.groupby('Country')['Kw', 'GDP_Per_Capita'].corr()\n",
    "temp1[temp1['GDP_Per_Capita']<1].reset_index().sort_values('GDP_Per_Capita', ascending = False).head(25)"
   ]
  },
  {
   "cell_type": "code",
   "execution_count": 12,
   "metadata": {},
   "outputs": [],
   "source": [
    "energy_gdp_2000 = (energy_gdp[energy_gdp[\"Year\"]==2000])"
   ]
  },
  {
   "cell_type": "code",
   "execution_count": 13,
   "metadata": {},
   "outputs": [
    {
     "data": {
      "text/html": [
       "<div>\n",
       "<style scoped>\n",
       "    .dataframe tbody tr th:only-of-type {\n",
       "        vertical-align: middle;\n",
       "    }\n",
       "\n",
       "    .dataframe tbody tr th {\n",
       "        vertical-align: top;\n",
       "    }\n",
       "\n",
       "    .dataframe thead th {\n",
       "        text-align: right;\n",
       "    }\n",
       "</style>\n",
       "<table border=\"1\" class=\"dataframe\">\n",
       "  <thead>\n",
       "    <tr style=\"text-align: right;\">\n",
       "      <th></th>\n",
       "      <th>Country</th>\n",
       "      <th>Year</th>\n",
       "      <th>Kw in Thousands</th>\n",
       "      <th>Kw</th>\n",
       "      <th>GDP_Per_Capita</th>\n",
       "    </tr>\n",
       "  </thead>\n",
       "  <tbody>\n",
       "    <tr>\n",
       "      <th>1365</th>\n",
       "      <td>Ethiopia</td>\n",
       "      <td>2000.0</td>\n",
       "      <td>3342.8</td>\n",
       "      <td>3342800.0</td>\n",
       "      <td>621.159817</td>\n",
       "    </tr>\n",
       "    <tr>\n",
       "      <th>2750</th>\n",
       "      <td>Mozambique</td>\n",
       "      <td>2000.0</td>\n",
       "      <td>9472.0</td>\n",
       "      <td>9472000.0</td>\n",
       "      <td>633.458591</td>\n",
       "    </tr>\n",
       "    <tr>\n",
       "      <th>690</th>\n",
       "      <td>Burundi</td>\n",
       "      <td>2000.0</td>\n",
       "      <td>132.0</td>\n",
       "      <td>132000.0</td>\n",
       "      <td>717.973022</td>\n",
       "    </tr>\n",
       "    <tr>\n",
       "      <th>2957</th>\n",
       "      <td>Niger</td>\n",
       "      <td>2000.0</td>\n",
       "      <td>582.0</td>\n",
       "      <td>582000.0</td>\n",
       "      <td>754.855212</td>\n",
       "    </tr>\n",
       "    <tr>\n",
       "      <th>3418</th>\n",
       "      <td>Rwanda</td>\n",
       "      <td>2000.0</td>\n",
       "      <td>137.2</td>\n",
       "      <td>137200.0</td>\n",
       "      <td>801.747554</td>\n",
       "    </tr>\n",
       "    <tr>\n",
       "      <th>...</th>\n",
       "      <td>...</td>\n",
       "      <td>...</td>\n",
       "      <td>...</td>\n",
       "      <td>...</td>\n",
       "      <td>...</td>\n",
       "    </tr>\n",
       "    <tr>\n",
       "      <th>2217</th>\n",
       "      <td>Kuwait</td>\n",
       "      <td>2000.0</td>\n",
       "      <td>33860.0</td>\n",
       "      <td>33860000.0</td>\n",
       "      <td>70458.221419</td>\n",
       "    </tr>\n",
       "    <tr>\n",
       "      <th>820</th>\n",
       "      <td>Cayman Islands</td>\n",
       "      <td>2000.0</td>\n",
       "      <td>460.0</td>\n",
       "      <td>460000.0</td>\n",
       "      <td>78096.108036</td>\n",
       "    </tr>\n",
       "    <tr>\n",
       "      <th>2379</th>\n",
       "      <td>Luxembourg</td>\n",
       "      <td>2000.0</td>\n",
       "      <td>7068.0</td>\n",
       "      <td>7068000.0</td>\n",
       "      <td>81689.816338</td>\n",
       "    </tr>\n",
       "    <tr>\n",
       "      <th>4226</th>\n",
       "      <td>United Arab Emirates</td>\n",
       "      <td>2000.0</td>\n",
       "      <td>33120.0</td>\n",
       "      <td>33120000.0</td>\n",
       "      <td>103318.150198</td>\n",
       "    </tr>\n",
       "    <tr>\n",
       "      <th>3362</th>\n",
       "      <td>Qatar</td>\n",
       "      <td>2000.0</td>\n",
       "      <td>8992.0</td>\n",
       "      <td>8992000.0</td>\n",
       "      <td>108287.154078</td>\n",
       "    </tr>\n",
       "  </tbody>\n",
       "</table>\n",
       "<p>160 rows × 5 columns</p>\n",
       "</div>"
      ],
      "text/plain": [
       "                   Country    Year  Kw in Thousands          Kw  \\\n",
       "1365              Ethiopia  2000.0           3342.8   3342800.0   \n",
       "2750            Mozambique  2000.0           9472.0   9472000.0   \n",
       "690                Burundi  2000.0            132.0    132000.0   \n",
       "2957                 Niger  2000.0            582.0    582000.0   \n",
       "3418                Rwanda  2000.0            137.2    137200.0   \n",
       "...                    ...     ...              ...         ...   \n",
       "2217                Kuwait  2000.0          33860.0  33860000.0   \n",
       "820         Cayman Islands  2000.0            460.0    460000.0   \n",
       "2379            Luxembourg  2000.0           7068.0   7068000.0   \n",
       "4226  United Arab Emirates  2000.0          33120.0  33120000.0   \n",
       "3362                 Qatar  2000.0           8992.0   8992000.0   \n",
       "\n",
       "      GDP_Per_Capita  \n",
       "1365      621.159817  \n",
       "2750      633.458591  \n",
       "690       717.973022  \n",
       "2957      754.855212  \n",
       "3418      801.747554  \n",
       "...              ...  \n",
       "2217    70458.221419  \n",
       "820     78096.108036  \n",
       "2379    81689.816338  \n",
       "4226   103318.150198  \n",
       "3362   108287.154078  \n",
       "\n",
       "[160 rows x 5 columns]"
      ]
     },
     "execution_count": 13,
     "metadata": {},
     "output_type": "execute_result"
    }
   ],
   "source": [
    "#energy_gdp_2000.sort_values('GDP_Per_Capita').head(25)\n",
    "energy_gdp_2000.sort_values('GDP_Per_Capita')"
   ]
  },
  {
   "cell_type": "code",
   "execution_count": 14,
   "metadata": {},
   "outputs": [
    {
     "data": {
      "text/html": [
       "<div>\n",
       "<style scoped>\n",
       "    .dataframe tbody tr th:only-of-type {\n",
       "        vertical-align: middle;\n",
       "    }\n",
       "\n",
       "    .dataframe tbody tr th {\n",
       "        vertical-align: top;\n",
       "    }\n",
       "\n",
       "    .dataframe thead th {\n",
       "        text-align: right;\n",
       "    }\n",
       "</style>\n",
       "<table border=\"1\" class=\"dataframe\">\n",
       "  <thead>\n",
       "    <tr style=\"text-align: right;\">\n",
       "      <th></th>\n",
       "      <th>Country</th>\n",
       "      <th>Year</th>\n",
       "      <th>Kw in Thousands</th>\n",
       "      <th>Kw</th>\n",
       "      <th>GDP_Per_Capita</th>\n",
       "    </tr>\n",
       "  </thead>\n",
       "  <tbody>\n",
       "    <tr>\n",
       "      <th>3362</th>\n",
       "      <td>Qatar</td>\n",
       "      <td>2000.0</td>\n",
       "      <td>8992.0</td>\n",
       "      <td>8992000.0</td>\n",
       "      <td>108287.154078</td>\n",
       "    </tr>\n",
       "    <tr>\n",
       "      <th>4226</th>\n",
       "      <td>United Arab Emirates</td>\n",
       "      <td>2000.0</td>\n",
       "      <td>33120.0</td>\n",
       "      <td>33120000.0</td>\n",
       "      <td>103318.150198</td>\n",
       "    </tr>\n",
       "    <tr>\n",
       "      <th>2379</th>\n",
       "      <td>Luxembourg</td>\n",
       "      <td>2000.0</td>\n",
       "      <td>7068.0</td>\n",
       "      <td>7068000.0</td>\n",
       "      <td>81689.816338</td>\n",
       "    </tr>\n",
       "    <tr>\n",
       "      <th>820</th>\n",
       "      <td>Cayman Islands</td>\n",
       "      <td>2000.0</td>\n",
       "      <td>460.0</td>\n",
       "      <td>460000.0</td>\n",
       "      <td>78096.108036</td>\n",
       "    </tr>\n",
       "    <tr>\n",
       "      <th>2217</th>\n",
       "      <td>Kuwait</td>\n",
       "      <td>2000.0</td>\n",
       "      <td>33860.0</td>\n",
       "      <td>33860000.0</td>\n",
       "      <td>70458.221419</td>\n",
       "    </tr>\n",
       "    <tr>\n",
       "      <th>...</th>\n",
       "      <td>...</td>\n",
       "      <td>...</td>\n",
       "      <td>...</td>\n",
       "      <td>...</td>\n",
       "      <td>...</td>\n",
       "    </tr>\n",
       "    <tr>\n",
       "      <th>3418</th>\n",
       "      <td>Rwanda</td>\n",
       "      <td>2000.0</td>\n",
       "      <td>137.2</td>\n",
       "      <td>137200.0</td>\n",
       "      <td>801.747554</td>\n",
       "    </tr>\n",
       "    <tr>\n",
       "      <th>2957</th>\n",
       "      <td>Niger</td>\n",
       "      <td>2000.0</td>\n",
       "      <td>582.0</td>\n",
       "      <td>582000.0</td>\n",
       "      <td>754.855212</td>\n",
       "    </tr>\n",
       "    <tr>\n",
       "      <th>690</th>\n",
       "      <td>Burundi</td>\n",
       "      <td>2000.0</td>\n",
       "      <td>132.0</td>\n",
       "      <td>132000.0</td>\n",
       "      <td>717.973022</td>\n",
       "    </tr>\n",
       "    <tr>\n",
       "      <th>2750</th>\n",
       "      <td>Mozambique</td>\n",
       "      <td>2000.0</td>\n",
       "      <td>9472.0</td>\n",
       "      <td>9472000.0</td>\n",
       "      <td>633.458591</td>\n",
       "    </tr>\n",
       "    <tr>\n",
       "      <th>1365</th>\n",
       "      <td>Ethiopia</td>\n",
       "      <td>2000.0</td>\n",
       "      <td>3342.8</td>\n",
       "      <td>3342800.0</td>\n",
       "      <td>621.159817</td>\n",
       "    </tr>\n",
       "  </tbody>\n",
       "</table>\n",
       "<p>160 rows × 5 columns</p>\n",
       "</div>"
      ],
      "text/plain": [
       "                   Country    Year  Kw in Thousands          Kw  \\\n",
       "3362                 Qatar  2000.0           8992.0   8992000.0   \n",
       "4226  United Arab Emirates  2000.0          33120.0  33120000.0   \n",
       "2379            Luxembourg  2000.0           7068.0   7068000.0   \n",
       "820         Cayman Islands  2000.0            460.0    460000.0   \n",
       "2217                Kuwait  2000.0          33860.0  33860000.0   \n",
       "...                    ...     ...              ...         ...   \n",
       "3418                Rwanda  2000.0            137.2    137200.0   \n",
       "2957                 Niger  2000.0            582.0    582000.0   \n",
       "690                Burundi  2000.0            132.0    132000.0   \n",
       "2750            Mozambique  2000.0           9472.0   9472000.0   \n",
       "1365              Ethiopia  2000.0           3342.8   3342800.0   \n",
       "\n",
       "      GDP_Per_Capita  \n",
       "3362   108287.154078  \n",
       "4226   103318.150198  \n",
       "2379    81689.816338  \n",
       "820     78096.108036  \n",
       "2217    70458.221419  \n",
       "...              ...  \n",
       "3418      801.747554  \n",
       "2957      754.855212  \n",
       "690       717.973022  \n",
       "2750      633.458591  \n",
       "1365      621.159817  \n",
       "\n",
       "[160 rows x 5 columns]"
      ]
     },
     "execution_count": 14,
     "metadata": {},
     "output_type": "execute_result"
    }
   ],
   "source": [
    "#energy_gdp_2000.sort_values('GDP_Per_Capita', ascending = False).head(25)\n",
    "energy_gdp_2000.sort_values('GDP_Per_Capita', ascending = False)"
   ]
  },
  {
   "cell_type": "code",
   "execution_count": 15,
   "metadata": {},
   "outputs": [
    {
     "data": {
      "text/html": [
       "<div>\n",
       "<style scoped>\n",
       "    .dataframe tbody tr th:only-of-type {\n",
       "        vertical-align: middle;\n",
       "    }\n",
       "\n",
       "    .dataframe tbody tr th {\n",
       "        vertical-align: top;\n",
       "    }\n",
       "\n",
       "    .dataframe thead th {\n",
       "        text-align: right;\n",
       "    }\n",
       "</style>\n",
       "<table border=\"1\" class=\"dataframe\">\n",
       "  <thead>\n",
       "    <tr style=\"text-align: right;\">\n",
       "      <th></th>\n",
       "      <th>Country</th>\n",
       "      <th>Year</th>\n",
       "      <th>Kw in Thousands</th>\n",
       "      <th>Kw</th>\n",
       "      <th>GDP_Per_Capita</th>\n",
       "    </tr>\n",
       "  </thead>\n",
       "  <tbody>\n",
       "    <tr>\n",
       "      <th>4144</th>\n",
       "      <td>Tuvalu</td>\n",
       "      <td>2000.0</td>\n",
       "      <td>4.0</td>\n",
       "      <td>4.000000e+03</td>\n",
       "      <td>3051.833633</td>\n",
       "    </tr>\n",
       "    <tr>\n",
       "      <th>2176</th>\n",
       "      <td>Kiribati</td>\n",
       "      <td>2000.0</td>\n",
       "      <td>16.0</td>\n",
       "      <td>1.600000e+04</td>\n",
       "      <td>1989.430857</td>\n",
       "    </tr>\n",
       "    <tr>\n",
       "      <th>961</th>\n",
       "      <td>Comoros</td>\n",
       "      <td>2000.0</td>\n",
       "      <td>24.0</td>\n",
       "      <td>2.400000e+04</td>\n",
       "      <td>2388.511995</td>\n",
       "    </tr>\n",
       "    <tr>\n",
       "      <th>3999</th>\n",
       "      <td>Tonga</td>\n",
       "      <td>2000.0</td>\n",
       "      <td>36.0</td>\n",
       "      <td>3.600000e+04</td>\n",
       "      <td>4606.857862</td>\n",
       "    </tr>\n",
       "    <tr>\n",
       "      <th>4365</th>\n",
       "      <td>Vanuatu</td>\n",
       "      <td>2000.0</td>\n",
       "      <td>65.6</td>\n",
       "      <td>6.560000e+04</td>\n",
       "      <td>2824.305901</td>\n",
       "    </tr>\n",
       "    <tr>\n",
       "      <th>...</th>\n",
       "      <td>...</td>\n",
       "      <td>...</td>\n",
       "      <td>...</td>\n",
       "      <td>...</td>\n",
       "      <td>...</td>\n",
       "    </tr>\n",
       "    <tr>\n",
       "      <th>1869</th>\n",
       "      <td>India</td>\n",
       "      <td>2000.0</td>\n",
       "      <td>475800.0</td>\n",
       "      <td>4.758000e+08</td>\n",
       "      <td>2710.264072</td>\n",
       "    </tr>\n",
       "    <tr>\n",
       "      <th>1531</th>\n",
       "      <td>Germany</td>\n",
       "      <td>2000.0</td>\n",
       "      <td>485072.0</td>\n",
       "      <td>4.850720e+08</td>\n",
       "      <td>36698.843352</td>\n",
       "    </tr>\n",
       "    <tr>\n",
       "      <th>2065</th>\n",
       "      <td>Japan</td>\n",
       "      <td>2000.0</td>\n",
       "      <td>1090706.0</td>\n",
       "      <td>1.090706e+09</td>\n",
       "      <td>33871.858217</td>\n",
       "    </tr>\n",
       "    <tr>\n",
       "      <th>904</th>\n",
       "      <td>China</td>\n",
       "      <td>2000.0</td>\n",
       "      <td>1277320.0</td>\n",
       "      <td>1.277320e+09</td>\n",
       "      <td>3689.967255</td>\n",
       "    </tr>\n",
       "    <tr>\n",
       "      <th>4282</th>\n",
       "      <td>United States</td>\n",
       "      <td>2000.0</td>\n",
       "      <td>3277446.0</td>\n",
       "      <td>3.277446e+09</td>\n",
       "      <td>45661.268667</td>\n",
       "    </tr>\n",
       "  </tbody>\n",
       "</table>\n",
       "<p>160 rows × 5 columns</p>\n",
       "</div>"
      ],
      "text/plain": [
       "            Country    Year  Kw in Thousands            Kw  GDP_Per_Capita\n",
       "4144         Tuvalu  2000.0              4.0  4.000000e+03     3051.833633\n",
       "2176       Kiribati  2000.0             16.0  1.600000e+04     1989.430857\n",
       "961         Comoros  2000.0             24.0  2.400000e+04     2388.511995\n",
       "3999          Tonga  2000.0             36.0  3.600000e+04     4606.857862\n",
       "4365        Vanuatu  2000.0             65.6  6.560000e+04     2824.305901\n",
       "...             ...     ...              ...           ...             ...\n",
       "1869          India  2000.0         475800.0  4.758000e+08     2710.264072\n",
       "1531        Germany  2000.0         485072.0  4.850720e+08    36698.843352\n",
       "2065          Japan  2000.0        1090706.0  1.090706e+09    33871.858217\n",
       "904           China  2000.0        1277320.0  1.277320e+09     3689.967255\n",
       "4282  United States  2000.0        3277446.0  3.277446e+09    45661.268667\n",
       "\n",
       "[160 rows x 5 columns]"
      ]
     },
     "execution_count": 15,
     "metadata": {},
     "output_type": "execute_result"
    }
   ],
   "source": [
    "#energy_gdp_2000.sort_values('Kw').head(25)\n",
    "energy_gdp_2000.sort_values('Kw')"
   ]
  },
  {
   "cell_type": "code",
   "execution_count": 16,
   "metadata": {},
   "outputs": [
    {
     "data": {
      "text/html": [
       "<div>\n",
       "<style scoped>\n",
       "    .dataframe tbody tr th:only-of-type {\n",
       "        vertical-align: middle;\n",
       "    }\n",
       "\n",
       "    .dataframe tbody tr th {\n",
       "        vertical-align: top;\n",
       "    }\n",
       "\n",
       "    .dataframe thead th {\n",
       "        text-align: right;\n",
       "    }\n",
       "</style>\n",
       "<table border=\"1\" class=\"dataframe\">\n",
       "  <thead>\n",
       "    <tr style=\"text-align: right;\">\n",
       "      <th></th>\n",
       "      <th>Country</th>\n",
       "      <th>Year</th>\n",
       "      <th>Kw in Thousands</th>\n",
       "      <th>Kw</th>\n",
       "      <th>GDP_Per_Capita</th>\n",
       "    </tr>\n",
       "  </thead>\n",
       "  <tbody>\n",
       "    <tr>\n",
       "      <th>4282</th>\n",
       "      <td>United States</td>\n",
       "      <td>2000.0</td>\n",
       "      <td>3277446.0</td>\n",
       "      <td>3.277446e+09</td>\n",
       "      <td>45661.268667</td>\n",
       "    </tr>\n",
       "    <tr>\n",
       "      <th>904</th>\n",
       "      <td>China</td>\n",
       "      <td>2000.0</td>\n",
       "      <td>1277320.0</td>\n",
       "      <td>1.277320e+09</td>\n",
       "      <td>3689.967255</td>\n",
       "    </tr>\n",
       "    <tr>\n",
       "      <th>2065</th>\n",
       "      <td>Japan</td>\n",
       "      <td>2000.0</td>\n",
       "      <td>1090706.0</td>\n",
       "      <td>1.090706e+09</td>\n",
       "      <td>33871.858217</td>\n",
       "    </tr>\n",
       "    <tr>\n",
       "      <th>1531</th>\n",
       "      <td>Germany</td>\n",
       "      <td>2000.0</td>\n",
       "      <td>485072.0</td>\n",
       "      <td>4.850720e+08</td>\n",
       "      <td>36698.843352</td>\n",
       "    </tr>\n",
       "    <tr>\n",
       "      <th>1869</th>\n",
       "      <td>India</td>\n",
       "      <td>2000.0</td>\n",
       "      <td>475800.0</td>\n",
       "      <td>4.758000e+08</td>\n",
       "      <td>2710.264072</td>\n",
       "    </tr>\n",
       "    <tr>\n",
       "      <th>...</th>\n",
       "      <td>...</td>\n",
       "      <td>...</td>\n",
       "      <td>...</td>\n",
       "      <td>...</td>\n",
       "      <td>...</td>\n",
       "    </tr>\n",
       "    <tr>\n",
       "      <th>4365</th>\n",
       "      <td>Vanuatu</td>\n",
       "      <td>2000.0</td>\n",
       "      <td>65.6</td>\n",
       "      <td>6.560000e+04</td>\n",
       "      <td>2824.305901</td>\n",
       "    </tr>\n",
       "    <tr>\n",
       "      <th>3999</th>\n",
       "      <td>Tonga</td>\n",
       "      <td>2000.0</td>\n",
       "      <td>36.0</td>\n",
       "      <td>3.600000e+04</td>\n",
       "      <td>4606.857862</td>\n",
       "    </tr>\n",
       "    <tr>\n",
       "      <th>961</th>\n",
       "      <td>Comoros</td>\n",
       "      <td>2000.0</td>\n",
       "      <td>24.0</td>\n",
       "      <td>2.400000e+04</td>\n",
       "      <td>2388.511995</td>\n",
       "    </tr>\n",
       "    <tr>\n",
       "      <th>2176</th>\n",
       "      <td>Kiribati</td>\n",
       "      <td>2000.0</td>\n",
       "      <td>16.0</td>\n",
       "      <td>1.600000e+04</td>\n",
       "      <td>1989.430857</td>\n",
       "    </tr>\n",
       "    <tr>\n",
       "      <th>4144</th>\n",
       "      <td>Tuvalu</td>\n",
       "      <td>2000.0</td>\n",
       "      <td>4.0</td>\n",
       "      <td>4.000000e+03</td>\n",
       "      <td>3051.833633</td>\n",
       "    </tr>\n",
       "  </tbody>\n",
       "</table>\n",
       "<p>160 rows × 5 columns</p>\n",
       "</div>"
      ],
      "text/plain": [
       "            Country    Year  Kw in Thousands            Kw  GDP_Per_Capita\n",
       "4282  United States  2000.0        3277446.0  3.277446e+09    45661.268667\n",
       "904           China  2000.0        1277320.0  1.277320e+09     3689.967255\n",
       "2065          Japan  2000.0        1090706.0  1.090706e+09    33871.858217\n",
       "1531        Germany  2000.0         485072.0  4.850720e+08    36698.843352\n",
       "1869          India  2000.0         475800.0  4.758000e+08     2710.264072\n",
       "...             ...     ...              ...           ...             ...\n",
       "4365        Vanuatu  2000.0             65.6  6.560000e+04     2824.305901\n",
       "3999          Tonga  2000.0             36.0  3.600000e+04     4606.857862\n",
       "961         Comoros  2000.0             24.0  2.400000e+04     2388.511995\n",
       "2176       Kiribati  2000.0             16.0  1.600000e+04     1989.430857\n",
       "4144         Tuvalu  2000.0              4.0  4.000000e+03     3051.833633\n",
       "\n",
       "[160 rows x 5 columns]"
      ]
     },
     "execution_count": 16,
     "metadata": {},
     "output_type": "execute_result"
    }
   ],
   "source": [
    "#energy_gdp_2000.sort_values('Kw', ascending = False).head(25)\n",
    "energy_gdp_2000.sort_values('Kw', ascending = False)"
   ]
  },
  {
   "cell_type": "code",
   "execution_count": 17,
   "metadata": {},
   "outputs": [
    {
     "name": "stdout",
     "output_type": "stream",
     "text": [
      "         Country    Year  Kw in Thousands          Kw  GDP_Per_Capita\n",
      "322   Bangladesh  1990.0         10080.00  10080000.0     1325.592071\n",
      "323   Bangladesh  1991.0         10760.00  10760000.0     1340.261660\n",
      "324   Bangladesh  1992.0         10952.00  10952000.0     1382.000373\n",
      "325   Bangladesh  1993.0         11792.00  11792000.0     1416.074705\n",
      "326   Bangladesh  1994.0         11912.00  11912000.0     1440.012252\n",
      "...          ...     ...              ...         ...             ...\n",
      "4434      Zambia  2014.0          9808.00   9808000.0     3684.685507\n",
      "4435      Zambia  2015.0          9644.24   9644240.0     3677.735019\n",
      "4436      Zambia  2016.0         11307.64  11307640.0     3703.012866\n",
      "4437      Zambia  2017.0         11587.64  11587640.0     3717.667166\n",
      "4438      Zambia  2018.0         11592.92  11592920.0     3747.972455\n",
      "\n",
      "[115 rows x 5 columns]\n"
     ]
    }
   ],
   "source": [
    "energy_gdp_select = energy_gdp[energy_gdp['Country'].isin(\n",
    "    ['China', 'United States', 'Zambia', 'Bangladesh'])]\n",
    "                               \n",
    "print(energy_gdp_select)"
   ]
  },
  {
   "cell_type": "code",
   "execution_count": 18,
   "metadata": {},
   "outputs": [
    {
     "data": {
      "text/plain": [
       "<seaborn.axisgrid.FacetGrid at 0x2787c0a9d60>"
      ]
     },
     "execution_count": 18,
     "metadata": {},
     "output_type": "execute_result"
    },
    {
     "data": {
      "image/png": "[encoded data removed]",
      "text/plain": [
       "<Figure size 864x216 with 4 Axes>"
      ]
     },
     "metadata": {
      "needs_background": "light"
     },
     "output_type": "display_data"
    }
   ],
   "source": [
    "plottemp = sns.FacetGrid(energy_gdp_select, col = 'Country')\n",
    "plottemp.map_dataframe(sns.lineplot, x = 'Year', y = 'GDP_Per_Capita')"
   ]
  },
  {
   "cell_type": "code",
   "execution_count": 19,
   "metadata": {},
   "outputs": [
    {
     "data": {
      "text/plain": [
       "<seaborn.axisgrid.FacetGrid at 0x2787c0a95e0>"
      ]
     },
     "execution_count": 19,
     "metadata": {},
     "output_type": "execute_result"
    },
    {
     "data": {
      "image/png": "[encoded data removed]",
      "text/plain": [
       "<Figure size 864x216 with 4 Axes>"
      ]
     },
     "metadata": {
      "needs_background": "light"
     },
     "output_type": "display_data"
    }
   ],
   "source": [
    "plottemp = sns.FacetGrid(energy_gdp_select, col = 'Country')\n",
    "plottemp.map_dataframe(sns.lineplot, x = 'Year', y = 'Kw')"
   ]
  },
  {
   "cell_type": "code",
   "execution_count": 20,
   "metadata": {},
   "outputs": [],
   "source": [
    "small = energy_gdp_select[energy_gdp_select['Country'].isin(['Zambia', 'Bangladesh'])]\n",
    "large = energy_gdp_select[energy_gdp_select['Country'].isin(['China', 'United States'])]"
   ]
  },
  {
   "cell_type": "code",
   "execution_count": 21,
   "metadata": {},
   "outputs": [
    {
     "data": {
      "text/plain": [
       "<seaborn.axisgrid.FacetGrid at 0x2787c0dd6a0>"
      ]
     },
     "execution_count": 21,
     "metadata": {},
     "output_type": "execute_result"
    },
    {
     "data": {
      "image/png": "[encoded data removed]",
      "text/plain": [
       "<Figure size 432x216 with 2 Axes>"
      ]
     },
     "metadata": {
      "needs_background": "light"
     },
     "output_type": "display_data"
    }
   ],
   "source": [
    "plottemp = sns.FacetGrid(small, col = 'Country')\n",
    "plottemp.map_dataframe(sns.lineplot, x = 'Year', y = 'GDP_Per_Capita')"
   ]
  },
  {
   "cell_type": "code",
   "execution_count": 22,
   "metadata": {},
   "outputs": [
    {
     "data": {
      "text/plain": [
       "<seaborn.axisgrid.FacetGrid at 0x2787cac9790>"
      ]
     },
     "execution_count": 22,
     "metadata": {},
     "output_type": "execute_result"
    },
    {
     "data": {
      "image/png": "[encoded data removed]",
      "text/plain": [
       "<Figure size 432x216 with 2 Axes>"
      ]
     },
     "metadata": {
      "needs_background": "light"
     },
     "output_type": "display_data"
    }
   ],
   "source": [
    "plottemp = sns.FacetGrid(small, col = 'Country')\n",
    "plottemp.map_dataframe(sns.lineplot, x = 'Year', y = 'Kw')"
   ]
  },
  {
   "cell_type": "code",
   "execution_count": 23,
   "metadata": {},
   "outputs": [
    {
     "data": {
      "text/plain": [
       "<matplotlib.axes._subplots.AxesSubplot at 0x2787cb467c0>"
      ]
     },
     "execution_count": 23,
     "metadata": {},
     "output_type": "execute_result"
    },
    {
     "data": {
      "image/png": "[encoded data removed]",
      "text/plain": [
       "<Figure size 432x288 with 1 Axes>"
      ]
     },
     "metadata": {
      "needs_background": "light"
     },
     "output_type": "display_data"
    }
   ],
   "source": [
    "energy_gdp_2000.plot(\n",
    "    x='Kw', \n",
    "    y='GDP_Per_Capita',\n",
    "    kind='scatter',\n",
    "    title='Kw vs. GDP Per Capita',\n",
    "    label = 'Blue Dots')"
   ]
  },
  {
   "cell_type": "code",
   "execution_count": 24,
   "metadata": {},
   "outputs": [
    {
     "name": "stderr",
     "output_type": "stream",
     "text": [
      "<ipython-input-24-4f0cbb7c0987>:1: SettingWithCopyWarning: \n",
      "A value is trying to be set on a copy of a slice from a DataFrame.\n",
      "Try using .loc[row_indexer,col_indexer] = value instead\n",
      "\n",
      "See the caveats in the documentation: https://pandas.pydata.org/pandas-docs/stable/user_guide/indexing.html#returning-a-view-versus-a-copy\n",
      "  energy_gdp_2000['Kw_Log'] = np.log(energy_gdp_2000['Kw'])\n"
     ]
    }
   ],
   "source": [
    "energy_gdp_2000['Kw_Log'] = np.log(energy_gdp_2000['Kw'])"
   ]
  },
  {
   "cell_type": "code",
   "execution_count": 25,
   "metadata": {},
   "outputs": [
    {
     "data": {
      "text/plain": [
       "<matplotlib.axes._subplots.AxesSubplot at 0x2787cc15d90>"
      ]
     },
     "execution_count": 25,
     "metadata": {},
     "output_type": "execute_result"
    },
    {
     "data": {
      "image/png": "[encoded data removed]",
      "text/plain": [
       "<Figure size 432x288 with 1 Axes>"
      ]
     },
     "metadata": {
      "needs_background": "light"
     },
     "output_type": "display_data"
    }
   ],
   "source": [
    "energy_gdp_2000.plot(\n",
    "    x='Kw_Log', \n",
    "    y='GDP_Per_Capita',\n",
    "    kind='scatter',\n",
    "    title='Kw vs. GDP Per Capita',\n",
    "    label = 'Blue Dots')"
   ]
  },
  {
   "cell_type": "code",
   "execution_count": 26,
   "metadata": {},
   "outputs": [
    {
     "data": {
      "text/plain": [
       "Text(0.5, 0, 'GDP_Per_Capita')"
      ]
     },
     "execution_count": 26,
     "metadata": {},
     "output_type": "execute_result"
    },
    {
     "data": {
      "image/png": "[encoded data removed]",
      "text/plain": [
       "<Figure size 432x288 with 1 Axes>"
      ]
     },
     "metadata": {
      "needs_background": "light"
     },
     "output_type": "display_data"
    }
   ],
   "source": [
    "threedee = plt.figure().gca(projection = '3d')\n",
    "threedee.scatter(energy_gdp_select['Year'], energy_gdp_select['Kw'], energy_gdp_select['GDP_Per_Capita'])\n",
    "threedee.set_xlabel('Year')\n",
    "threedee.set_ylabel('Kw')\n",
    "threedee.set_zlabel('GDP_Per_Capita')"
   ]
  },
  {
   "cell_type": "code",
   "execution_count": null,
   "metadata": {},
   "outputs": [],
   "source": []
  },
  {
   "cell_type": "code",
   "execution_count": null,
   "metadata": {},
   "outputs": [],
   "source": []
  },
  {
   "cell_type": "code",
   "execution_count": null,
   "metadata": {},
   "outputs": [],
   "source": []
  },
  {
   "cell_type": "code",
   "execution_count": null,
   "metadata": {},
   "outputs": [],
   "source": []
  },
  {
   "cell_type": "code",
   "execution_count": null,
   "metadata": {},
   "outputs": [],
   "source": []
  }
 ],
 "metadata": {
  "kernelspec": {
   "display_name": "Python 3",
   "language": "python",
   "name": "python3"
  },
  "language_info": {
   "codemirror_mode": {
    "name": "ipython",
    "version": 3
   },
   "file_extension": ".py",
   "mimetype": "text/x-python",
   "name": "python",
   "nbconvert_exporter": "python",
   "pygments_lexer": "ipython3",
   "version": "3.8.3"
  }
 },
 "nbformat": 4,
 "nbformat_minor": 4
}
