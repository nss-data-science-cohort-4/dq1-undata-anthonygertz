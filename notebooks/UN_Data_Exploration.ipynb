{
 "cells": [
  {
   "cell_type": "code",
   "execution_count": 1,
   "metadata": {},
   "outputs": [],
   "source": [
    "import pandas as pd\n",
    "import numpy as np\n",
    "import matplotlib.pyplot as plt\n",
    "import seaborn as sns\n",
    "import scipy.stats as stats\n",
    "import statsmodels.api as sm\n",
    "%matplotlib inline"
   ]
  },
  {
   "cell_type": "code",
   "execution_count": 2,
   "metadata": {},
   "outputs": [],
   "source": [
    "gdp_df=pd.read_csv(\"../Notebooks/UNdata1.csv\", nrows=6729) "
   ]
  },
  {
   "cell_type": "code",
   "execution_count": 3,
   "metadata": {
    "scrolled": true
   },
   "outputs": [
    {
     "name": "stdout",
     "output_type": "stream",
     "text": [
      "     Country or Area  Year        Value  Value Footnotes\n",
      "0        Afghanistan  2018  1734.723214              NaN\n",
      "1        Afghanistan  2017  1758.465636              NaN\n",
      "2        Afghanistan  2016  1757.023490              NaN\n",
      "3        Afghanistan  2015  1766.593077              NaN\n",
      "4        Afghanistan  2014  1795.735834              NaN\n",
      "...              ...   ...          ...              ...\n",
      "6724        Zimbabwe  1994  2768.309953              NaN\n",
      "6725        Zimbabwe  1993  2572.870395              NaN\n",
      "6726        Zimbabwe  1992  2591.007534              NaN\n",
      "6727        Zimbabwe  1991  2906.272849              NaN\n",
      "6728        Zimbabwe  1990  2819.549467              NaN\n",
      "\n",
      "[6729 rows x 4 columns]\n"
     ]
    }
   ],
   "source": [
    "print(gdp_df)"
   ]
  },
  {
   "cell_type": "code",
   "execution_count": 4,
   "metadata": {},
   "outputs": [],
   "source": [
    "gdp_df = gdp_df.drop(labels=\"Value Footnotes\", axis=1)"
   ]
  },
  {
   "cell_type": "code",
   "execution_count": 5,
   "metadata": {},
   "outputs": [
    {
     "name": "stdout",
     "output_type": "stream",
     "text": [
      "          Country  Year  GDP_Per_Capita\n",
      "0     Afghanistan  2018     1734.723214\n",
      "1     Afghanistan  2017     1758.465636\n",
      "2     Afghanistan  2016     1757.023490\n",
      "3     Afghanistan  2015     1766.593077\n",
      "4     Afghanistan  2014     1795.735834\n",
      "...           ...   ...             ...\n",
      "6724     Zimbabwe  1994     2768.309953\n",
      "6725     Zimbabwe  1993     2572.870395\n",
      "6726     Zimbabwe  1992     2591.007534\n",
      "6727     Zimbabwe  1991     2906.272849\n",
      "6728     Zimbabwe  1990     2819.549467\n",
      "\n",
      "[6729 rows x 3 columns]\n"
     ]
    }
   ],
   "source": [
    "#gdp_df.columns = [\"Country\", \"Year\", \"GDP_Per_Capita\"]\n",
    "gdp_df = gdp_df.rename(columns = {\"Country or Area\": \"Country\", \"Value\":\"GDP_Per_Capita\"} )\n",
    "print(gdp_df)"
   ]
  },
  {
   "cell_type": "markdown",
   "metadata": {},
   "source": []
  },
  {
   "cell_type": "code",
   "execution_count": 6,
   "metadata": {},
   "outputs": [],
   "source": [
    "gdp_df = gdp_df.astype({\"Country\":\"string\"})"
   ]
  },
  {
   "cell_type": "code",
   "execution_count": 7,
   "metadata": {},
   "outputs": [
    {
     "name": "stdout",
     "output_type": "stream",
     "text": [
      "<class 'pandas.core.frame.DataFrame'>\n",
      "RangeIndex: 6729 entries, 0 to 6728\n",
      "Data columns (total 3 columns):\n",
      " #   Column          Non-Null Count  Dtype  \n",
      "---  ------          --------------  -----  \n",
      " 0   Country         6729 non-null   string \n",
      " 1   Year            6729 non-null   int64  \n",
      " 2   GDP_Per_Capita  6729 non-null   float64\n",
      "dtypes: float64(1), int64(1), string(1)\n",
      "memory usage: 157.8 KB\n"
     ]
    }
   ],
   "source": [
    "gdp_df.info()"
   ]
  },
  {
   "cell_type": "code",
   "execution_count": 8,
   "metadata": {},
   "outputs": [
    {
     "data": {
      "text/plain": [
       "243"
      ]
     },
     "execution_count": 8,
     "metadata": {},
     "output_type": "execute_result"
    }
   ],
   "source": [
    "gdp_df[\"Country\"].nunique() #Number of Unique Countries"
   ]
  },
  {
   "cell_type": "markdown",
   "metadata": {},
   "source": []
  },
  {
   "cell_type": "code",
   "execution_count": 9,
   "metadata": {},
   "outputs": [
    {
     "data": {
      "text/plain": [
       "Djibouti                      1\n",
       "Turks and Caicos Islands      8\n",
       "South Sudan                   8\n",
       "Sint Maarten (Dutch part)     9\n",
       "Nauru                        12\n",
       "Afghanistan                  17\n",
       "SÃ£o TomÃ© and Principe      18\n",
       "Other small states           19\n",
       "Palau                        19\n",
       "Small states                 19\n",
       "Liberia                      19\n",
       "CuraÃ§ao                     19\n",
       "Qatar                        19\n",
       "Timor-Leste                  19\n",
       "Kosovo                       19\n",
       "Cayman Islands               20\n",
       "Libya                        20\n",
       "Eritrea                      20\n",
       "San Marino                   21\n",
       "Montenegro                   22\n",
       "Name: Country, dtype: Int64"
      ]
     },
     "execution_count": 9,
     "metadata": {},
     "output_type": "execute_result"
    }
   ],
   "source": [
    "gdp_df[\"Country\"].value_counts(ascending=True).head(20)"
   ]
  },
  {
   "cell_type": "markdown",
   "metadata": {},
   "source": [
    "Countries with less governance, changes in governance, newly founded, or general transparency"
   ]
  },
  {
   "cell_type": "code",
   "execution_count": 10,
   "metadata": {},
   "outputs": [
    {
     "name": "stdout",
     "output_type": "stream",
     "text": [
      "                  Country  Year  GDP_Per_Capita\n",
      "4             Afghanistan  2014     1795.735834\n",
      "21                Albania  2014    10700.993216\n",
      "50                Algeria  2014    13557.769757\n",
      "79                 Angola  2014     6813.052106\n",
      "108   Antigua and Barbuda  2014    20440.540555\n",
      "...                   ...   ...             ...\n",
      "6592   West Bank and Gaza  2014     4445.307470\n",
      "6617                World  2014    14514.392218\n",
      "6646                Yemen  2014     3828.484887\n",
      "6675               Zambia  2014     3684.685507\n",
      "6704             Zimbabwe  2014     2506.490220\n",
      "\n",
      "[240 rows x 3 columns]\n"
     ]
    }
   ],
   "source": [
    "gdp_2014=(gdp_df[gdp_df[\"Year\"]==2014])\n",
    "print(gdp_2014)"
   ]
  },
  {
   "cell_type": "code",
   "execution_count": 11,
   "metadata": {},
   "outputs": [
    {
     "data": {
      "text/html": [
       "<div>\n",
       "<style scoped>\n",
       "    .dataframe tbody tr th:only-of-type {\n",
       "        vertical-align: middle;\n",
       "    }\n",
       "\n",
       "    .dataframe tbody tr th {\n",
       "        vertical-align: top;\n",
       "    }\n",
       "\n",
       "    .dataframe thead th {\n",
       "        text-align: right;\n",
       "    }\n",
       "</style>\n",
       "<table border=\"1\" class=\"dataframe\">\n",
       "  <thead>\n",
       "    <tr style=\"text-align: right;\">\n",
       "      <th></th>\n",
       "      <th>Year</th>\n",
       "      <th>GDP_Per_Capita</th>\n",
       "    </tr>\n",
       "  </thead>\n",
       "  <tbody>\n",
       "    <tr>\n",
       "      <th>count</th>\n",
       "      <td>240.0</td>\n",
       "      <td>240.000000</td>\n",
       "    </tr>\n",
       "    <tr>\n",
       "      <th>mean</th>\n",
       "      <td>2014.0</td>\n",
       "      <td>18034.303556</td>\n",
       "    </tr>\n",
       "    <tr>\n",
       "      <th>std</th>\n",
       "      <td>0.0</td>\n",
       "      <td>19320.930599</td>\n",
       "    </tr>\n",
       "    <tr>\n",
       "      <th>min</th>\n",
       "      <td>2014.0</td>\n",
       "      <td>672.681648</td>\n",
       "    </tr>\n",
       "    <tr>\n",
       "      <th>25%</th>\n",
       "      <td>2014.0</td>\n",
       "      <td>4301.187365</td>\n",
       "    </tr>\n",
       "    <tr>\n",
       "      <th>50%</th>\n",
       "      <td>2014.0</td>\n",
       "      <td>11868.067810</td>\n",
       "    </tr>\n",
       "    <tr>\n",
       "      <th>75%</th>\n",
       "      <td>2014.0</td>\n",
       "      <td>24388.408410</td>\n",
       "    </tr>\n",
       "    <tr>\n",
       "      <th>max</th>\n",
       "      <td>2014.0</td>\n",
       "      <td>130439.106674</td>\n",
       "    </tr>\n",
       "  </tbody>\n",
       "</table>\n",
       "</div>"
      ],
      "text/plain": [
       "         Year  GDP_Per_Capita\n",
       "count   240.0      240.000000\n",
       "mean   2014.0    18034.303556\n",
       "std       0.0    19320.930599\n",
       "min    2014.0      672.681648\n",
       "25%    2014.0     4301.187365\n",
       "50%    2014.0    11868.067810\n",
       "75%    2014.0    24388.408410\n",
       "max    2014.0   130439.106674"
      ]
     },
     "execution_count": 11,
     "metadata": {},
     "output_type": "execute_result"
    }
   ],
   "source": [
    "gdp_2014.describe()"
   ]
  },
  {
   "cell_type": "code",
   "execution_count": 12,
   "metadata": {},
   "outputs": [
    {
     "data": {
      "text/plain": [
       "<matplotlib.axes._subplots.AxesSubplot at 0x26b6072f9a0>"
      ]
     },
     "execution_count": 12,
     "metadata": {},
     "output_type": "execute_result"
    },
    {
     "data": {
      "image/png": "[encoded data removed]",
      "text/plain": [
       "<Figure size 432x288 with 1 Axes>"
      ]
     },
     "metadata": {
      "needs_background": "light"
     },
     "output_type": "display_data"
    }
   ],
   "source": [
    "gdp_2014[\"GDP_Per_Capita\"].hist()"
   ]
  },
  {
   "cell_type": "code",
   "execution_count": 13,
   "metadata": {},
   "outputs": [
    {
     "data": {
      "text/plain": [
       "<matplotlib.axes._subplots.AxesSubplot at 0x26b607cdd60>"
      ]
     },
     "execution_count": 13,
     "metadata": {},
     "output_type": "execute_result"
    },
    {
     "data": {
      "image/png": "[encoded data removed]",
      "text/plain": [
       "<Figure size 432x288 with 1 Axes>"
      ]
     },
     "metadata": {
      "needs_background": "light"
     },
     "output_type": "display_data"
    }
   ],
   "source": [
    "gdp_2014[\"GDP_Per_Capita\"].hist(bins=16)"
   ]
  },
  {
   "cell_type": "code",
   "execution_count": 14,
   "metadata": {},
   "outputs": [
    {
     "data": {
      "text/html": [
       "<div>\n",
       "<style scoped>\n",
       "    .dataframe tbody tr th:only-of-type {\n",
       "        vertical-align: middle;\n",
       "    }\n",
       "\n",
       "    .dataframe tbody tr th {\n",
       "        vertical-align: top;\n",
       "    }\n",
       "\n",
       "    .dataframe thead th {\n",
       "        text-align: right;\n",
       "    }\n",
       "</style>\n",
       "<table border=\"1\" class=\"dataframe\">\n",
       "  <thead>\n",
       "    <tr style=\"text-align: right;\">\n",
       "      <th></th>\n",
       "      <th>Country</th>\n",
       "      <th>Year</th>\n",
       "      <th>GDP_Per_Capita</th>\n",
       "    </tr>\n",
       "  </thead>\n",
       "  <tbody>\n",
       "    <tr>\n",
       "      <th>3639</th>\n",
       "      <td>Macao SAR, China</td>\n",
       "      <td>2014</td>\n",
       "      <td>130439.106674</td>\n",
       "    </tr>\n",
       "    <tr>\n",
       "      <th>5003</th>\n",
       "      <td>Qatar</td>\n",
       "      <td>2014</td>\n",
       "      <td>116693.507701</td>\n",
       "    </tr>\n",
       "    <tr>\n",
       "      <th>3610</th>\n",
       "      <td>Luxembourg</td>\n",
       "      <td>2014</td>\n",
       "      <td>92349.186429</td>\n",
       "    </tr>\n",
       "    <tr>\n",
       "      <th>5316</th>\n",
       "      <td>Singapore</td>\n",
       "      <td>2014</td>\n",
       "      <td>81965.361071</td>\n",
       "    </tr>\n",
       "    <tr>\n",
       "      <th>707</th>\n",
       "      <td>Brunei</td>\n",
       "      <td>2014</td>\n",
       "      <td>76448.593329</td>\n",
       "    </tr>\n",
       "  </tbody>\n",
       "</table>\n",
       "</div>"
      ],
      "text/plain": [
       "               Country  Year  GDP_Per_Capita\n",
       "3639  Macao SAR, China  2014   130439.106674\n",
       "5003             Qatar  2014   116693.507701\n",
       "3610        Luxembourg  2014    92349.186429\n",
       "5316         Singapore  2014    81965.361071\n",
       "707             Brunei  2014    76448.593329"
      ]
     },
     "execution_count": 14,
     "metadata": {},
     "output_type": "execute_result"
    }
   ],
   "source": [
    "gdp_2014.sort_values(\"GDP_Per_Capita\", ascending=False).head(5)"
   ]
  },
  {
   "cell_type": "code",
   "execution_count": 15,
   "metadata": {},
   "outputs": [
    {
     "data": {
      "text/html": [
       "<div>\n",
       "<style scoped>\n",
       "    .dataframe tbody tr th:only-of-type {\n",
       "        vertical-align: middle;\n",
       "    }\n",
       "\n",
       "    .dataframe tbody tr th {\n",
       "        vertical-align: top;\n",
       "    }\n",
       "\n",
       "    .dataframe thead th {\n",
       "        text-align: right;\n",
       "    }\n",
       "</style>\n",
       "<table border=\"1\" class=\"dataframe\">\n",
       "  <thead>\n",
       "    <tr style=\"text-align: right;\">\n",
       "      <th></th>\n",
       "      <th>Country</th>\n",
       "      <th>Year</th>\n",
       "      <th>GDP_Per_Capita</th>\n",
       "    </tr>\n",
       "  </thead>\n",
       "  <tbody>\n",
       "    <tr>\n",
       "      <th>1014</th>\n",
       "      <td>Central African Republic</td>\n",
       "      <td>2014</td>\n",
       "      <td>672.681648</td>\n",
       "    </tr>\n",
       "    <tr>\n",
       "      <th>794</th>\n",
       "      <td>Burundi</td>\n",
       "      <td>2014</td>\n",
       "      <td>768.469837</td>\n",
       "    </tr>\n",
       "    <tr>\n",
       "      <th>1375</th>\n",
       "      <td>Dem. Rep. Congo</td>\n",
       "      <td>2014</td>\n",
       "      <td>784.872656</td>\n",
       "    </tr>\n",
       "    <tr>\n",
       "      <th>4414</th>\n",
       "      <td>Niger</td>\n",
       "      <td>2014</td>\n",
       "      <td>900.136918</td>\n",
       "    </tr>\n",
       "    <tr>\n",
       "      <th>3697</th>\n",
       "      <td>Malawi</td>\n",
       "      <td>2014</td>\n",
       "      <td>1142.530804</td>\n",
       "    </tr>\n",
       "  </tbody>\n",
       "</table>\n",
       "</div>"
      ],
      "text/plain": [
       "                       Country  Year  GDP_Per_Capita\n",
       "1014  Central African Republic  2014      672.681648\n",
       "794                    Burundi  2014      768.469837\n",
       "1375           Dem. Rep. Congo  2014      784.872656\n",
       "4414                     Niger  2014      900.136918\n",
       "3697                    Malawi  2014     1142.530804"
      ]
     },
     "execution_count": 15,
     "metadata": {},
     "output_type": "execute_result"
    }
   ],
   "source": [
    "gdp_2014.sort_values(\"GDP_Per_Capita\").head(5)"
   ]
  },
  {
   "cell_type": "code",
   "execution_count": 16,
   "metadata": {},
   "outputs": [
    {
     "data": {
      "text/html": [
       "<div>\n",
       "<style scoped>\n",
       "    .dataframe tbody tr th:only-of-type {\n",
       "        vertical-align: middle;\n",
       "    }\n",
       "\n",
       "    .dataframe tbody tr th {\n",
       "        vertical-align: top;\n",
       "    }\n",
       "\n",
       "    .dataframe thead th {\n",
       "        text-align: right;\n",
       "    }\n",
       "</style>\n",
       "<table border=\"1\" class=\"dataframe\">\n",
       "  <thead>\n",
       "    <tr style=\"text-align: right;\">\n",
       "      <th>Year</th>\n",
       "      <th>1990</th>\n",
       "      <th>1991</th>\n",
       "      <th>1992</th>\n",
       "      <th>1993</th>\n",
       "      <th>1994</th>\n",
       "      <th>1995</th>\n",
       "      <th>1996</th>\n",
       "      <th>1997</th>\n",
       "      <th>1998</th>\n",
       "      <th>1999</th>\n",
       "      <th>...</th>\n",
       "      <th>2009</th>\n",
       "      <th>2010</th>\n",
       "      <th>2011</th>\n",
       "      <th>2012</th>\n",
       "      <th>2013</th>\n",
       "      <th>2014</th>\n",
       "      <th>2015</th>\n",
       "      <th>2016</th>\n",
       "      <th>2017</th>\n",
       "      <th>2018</th>\n",
       "    </tr>\n",
       "    <tr>\n",
       "      <th>Country</th>\n",
       "      <th></th>\n",
       "      <th></th>\n",
       "      <th></th>\n",
       "      <th></th>\n",
       "      <th></th>\n",
       "      <th></th>\n",
       "      <th></th>\n",
       "      <th></th>\n",
       "      <th></th>\n",
       "      <th></th>\n",
       "      <th></th>\n",
       "      <th></th>\n",
       "      <th></th>\n",
       "      <th></th>\n",
       "      <th></th>\n",
       "      <th></th>\n",
       "      <th></th>\n",
       "      <th></th>\n",
       "      <th></th>\n",
       "      <th></th>\n",
       "      <th></th>\n",
       "    </tr>\n",
       "  </thead>\n",
       "  <tbody>\n",
       "    <tr>\n",
       "      <th>Afghanistan</th>\n",
       "      <td>NaN</td>\n",
       "      <td>NaN</td>\n",
       "      <td>NaN</td>\n",
       "      <td>NaN</td>\n",
       "      <td>NaN</td>\n",
       "      <td>NaN</td>\n",
       "      <td>NaN</td>\n",
       "      <td>NaN</td>\n",
       "      <td>NaN</td>\n",
       "      <td>NaN</td>\n",
       "      <td>...</td>\n",
       "      <td>1502.354073</td>\n",
       "      <td>1671.581238</td>\n",
       "      <td>1626.764793</td>\n",
       "      <td>1772.764974</td>\n",
       "      <td>1807.762344</td>\n",
       "      <td>1795.735834</td>\n",
       "      <td>1766.593077</td>\n",
       "      <td>1757.023490</td>\n",
       "      <td>1758.465636</td>\n",
       "      <td>1734.723214</td>\n",
       "    </tr>\n",
       "    <tr>\n",
       "      <th>Albania</th>\n",
       "      <td>4458.247115</td>\n",
       "      <td>3229.250120</td>\n",
       "      <td>3015.391377</td>\n",
       "      <td>3323.864388</td>\n",
       "      <td>3622.007101</td>\n",
       "      <td>4129.975340</td>\n",
       "      <td>4533.894357</td>\n",
       "      <td>4064.132804</td>\n",
       "      <td>4450.922523</td>\n",
       "      <td>5056.566515</td>\n",
       "      <td>...</td>\n",
       "      <td>9525.377979</td>\n",
       "      <td>9927.638204</td>\n",
       "      <td>10207.752347</td>\n",
       "      <td>10369.561032</td>\n",
       "      <td>10492.669028</td>\n",
       "      <td>10700.993216</td>\n",
       "      <td>10970.321401</td>\n",
       "      <td>11352.101422</td>\n",
       "      <td>11796.719185</td>\n",
       "      <td>12316.071501</td>\n",
       "    </tr>\n",
       "    <tr>\n",
       "      <th>Algeria</th>\n",
       "      <td>10300.015042</td>\n",
       "      <td>9929.097717</td>\n",
       "      <td>9873.024864</td>\n",
       "      <td>9453.323181</td>\n",
       "      <td>9176.235569</td>\n",
       "      <td>9344.748909</td>\n",
       "      <td>9558.822868</td>\n",
       "      <td>9509.123393</td>\n",
       "      <td>9845.209222</td>\n",
       "      <td>10017.374034</td>\n",
       "      <td>...</td>\n",
       "      <td>12697.690780</td>\n",
       "      <td>12919.491054</td>\n",
       "      <td>13046.128511</td>\n",
       "      <td>13229.008711</td>\n",
       "      <td>13329.770758</td>\n",
       "      <td>13557.769757</td>\n",
       "      <td>13774.758920</td>\n",
       "      <td>13926.910489</td>\n",
       "      <td>13822.389087</td>\n",
       "      <td>13737.356063</td>\n",
       "    </tr>\n",
       "    <tr>\n",
       "      <th>Angola</th>\n",
       "      <td>4761.229638</td>\n",
       "      <td>4651.204299</td>\n",
       "      <td>4238.318419</td>\n",
       "      <td>3118.903488</td>\n",
       "      <td>3060.336207</td>\n",
       "      <td>3407.974524</td>\n",
       "      <td>3747.164004</td>\n",
       "      <td>3892.473420</td>\n",
       "      <td>3945.594930</td>\n",
       "      <td>3902.774196</td>\n",
       "      <td>...</td>\n",
       "      <td>6292.534856</td>\n",
       "      <td>6360.441938</td>\n",
       "      <td>6346.395122</td>\n",
       "      <td>6645.085625</td>\n",
       "      <td>6730.945822</td>\n",
       "      <td>6813.052106</td>\n",
       "      <td>6644.857255</td>\n",
       "      <td>6258.376628</td>\n",
       "      <td>6044.972035</td>\n",
       "      <td>5725.327238</td>\n",
       "    </tr>\n",
       "    <tr>\n",
       "      <th>Antigua and Barbuda</th>\n",
       "      <td>17454.549799</td>\n",
       "      <td>17598.378401</td>\n",
       "      <td>17497.380127</td>\n",
       "      <td>18055.500956</td>\n",
       "      <td>18851.937822</td>\n",
       "      <td>17645.173769</td>\n",
       "      <td>18407.710553</td>\n",
       "      <td>19000.281878</td>\n",
       "      <td>19486.171892</td>\n",
       "      <td>19816.291441</td>\n",
       "      <td>...</td>\n",
       "      <td>22568.626530</td>\n",
       "      <td>20555.414205</td>\n",
       "      <td>19876.215323</td>\n",
       "      <td>20283.897534</td>\n",
       "      <td>19918.131682</td>\n",
       "      <td>20440.540555</td>\n",
       "      <td>20994.725890</td>\n",
       "      <td>21923.796037</td>\n",
       "      <td>22400.379562</td>\n",
       "      <td>23840.729896</td>\n",
       "    </tr>\n",
       "    <tr>\n",
       "      <th>...</th>\n",
       "      <td>...</td>\n",
       "      <td>...</td>\n",
       "      <td>...</td>\n",
       "      <td>...</td>\n",
       "      <td>...</td>\n",
       "      <td>...</td>\n",
       "      <td>...</td>\n",
       "      <td>...</td>\n",
       "      <td>...</td>\n",
       "      <td>...</td>\n",
       "      <td>...</td>\n",
       "      <td>...</td>\n",
       "      <td>...</td>\n",
       "      <td>...</td>\n",
       "      <td>...</td>\n",
       "      <td>...</td>\n",
       "      <td>...</td>\n",
       "      <td>...</td>\n",
       "      <td>...</td>\n",
       "      <td>...</td>\n",
       "      <td>...</td>\n",
       "    </tr>\n",
       "    <tr>\n",
       "      <th>West Bank and Gaza</th>\n",
       "      <td>NaN</td>\n",
       "      <td>NaN</td>\n",
       "      <td>NaN</td>\n",
       "      <td>NaN</td>\n",
       "      <td>3236.196368</td>\n",
       "      <td>3314.761163</td>\n",
       "      <td>3208.119899</td>\n",
       "      <td>3517.569954</td>\n",
       "      <td>3920.320010</td>\n",
       "      <td>4137.843864</td>\n",
       "      <td>...</td>\n",
       "      <td>3816.165070</td>\n",
       "      <td>4019.485067</td>\n",
       "      <td>4405.778573</td>\n",
       "      <td>4568.509070</td>\n",
       "      <td>4559.032259</td>\n",
       "      <td>4445.307470</td>\n",
       "      <td>4493.612080</td>\n",
       "      <td>4600.685400</td>\n",
       "      <td>4651.723645</td>\n",
       "      <td>4576.432497</td>\n",
       "    </tr>\n",
       "    <tr>\n",
       "      <th>World</th>\n",
       "      <td>8966.014072</td>\n",
       "      <td>8942.915645</td>\n",
       "      <td>8959.240204</td>\n",
       "      <td>8984.696890</td>\n",
       "      <td>9109.764275</td>\n",
       "      <td>9271.364990</td>\n",
       "      <td>9489.446042</td>\n",
       "      <td>9725.189314</td>\n",
       "      <td>9831.530107</td>\n",
       "      <td>10041.606392</td>\n",
       "      <td>...</td>\n",
       "      <td>12726.100963</td>\n",
       "      <td>13226.953625</td>\n",
       "      <td>13592.336383</td>\n",
       "      <td>13880.359252</td>\n",
       "      <td>14187.709075</td>\n",
       "      <td>14514.392218</td>\n",
       "      <td>14828.598884</td>\n",
       "      <td>15142.226499</td>\n",
       "      <td>15527.280228</td>\n",
       "      <td>15914.172172</td>\n",
       "    </tr>\n",
       "    <tr>\n",
       "      <th>Yemen</th>\n",
       "      <td>3425.707169</td>\n",
       "      <td>3466.039074</td>\n",
       "      <td>3561.740073</td>\n",
       "      <td>3519.550101</td>\n",
       "      <td>3581.814359</td>\n",
       "      <td>3628.620445</td>\n",
       "      <td>3660.350262</td>\n",
       "      <td>3729.732721</td>\n",
       "      <td>3839.688064</td>\n",
       "      <td>3873.781695</td>\n",
       "      <td>...</td>\n",
       "      <td>4359.812628</td>\n",
       "      <td>4566.157400</td>\n",
       "      <td>3876.302619</td>\n",
       "      <td>3861.116716</td>\n",
       "      <td>3938.891066</td>\n",
       "      <td>3828.484887</td>\n",
       "      <td>3108.764217</td>\n",
       "      <td>2619.050681</td>\n",
       "      <td>2404.422370</td>\n",
       "      <td>2284.970504</td>\n",
       "    </tr>\n",
       "    <tr>\n",
       "      <th>Zambia</th>\n",
       "      <td>2339.137959</td>\n",
       "      <td>2278.802025</td>\n",
       "      <td>2185.120656</td>\n",
       "      <td>2278.347123</td>\n",
       "      <td>2031.776457</td>\n",
       "      <td>2038.510332</td>\n",
       "      <td>2108.910953</td>\n",
       "      <td>2130.519957</td>\n",
       "      <td>2064.467651</td>\n",
       "      <td>2102.074889</td>\n",
       "      <td>...</td>\n",
       "      <td>3115.937579</td>\n",
       "      <td>3338.097186</td>\n",
       "      <td>3419.010460</td>\n",
       "      <td>3566.382521</td>\n",
       "      <td>3631.003858</td>\n",
       "      <td>3684.685507</td>\n",
       "      <td>3677.735019</td>\n",
       "      <td>3703.012866</td>\n",
       "      <td>3717.667166</td>\n",
       "      <td>3747.972455</td>\n",
       "    </tr>\n",
       "    <tr>\n",
       "      <th>Zimbabwe</th>\n",
       "      <td>2819.549467</td>\n",
       "      <td>2906.272849</td>\n",
       "      <td>2591.007534</td>\n",
       "      <td>2572.870395</td>\n",
       "      <td>2768.309953</td>\n",
       "      <td>2736.486436</td>\n",
       "      <td>2985.856605</td>\n",
       "      <td>3036.422224</td>\n",
       "      <td>3099.076182</td>\n",
       "      <td>3054.064189</td>\n",
       "      <td>...</td>\n",
       "      <td>1632.999866</td>\n",
       "      <td>1928.017081</td>\n",
       "      <td>2168.110293</td>\n",
       "      <td>2486.847930</td>\n",
       "      <td>2491.635140</td>\n",
       "      <td>2506.490220</td>\n",
       "      <td>2509.008140</td>\n",
       "      <td>2489.097494</td>\n",
       "      <td>2568.410072</td>\n",
       "      <td>2688.406942</td>\n",
       "    </tr>\n",
       "  </tbody>\n",
       "</table>\n",
       "<p>243 rows × 29 columns</p>\n",
       "</div>"
      ],
      "text/plain": [
       "Year                         1990          1991          1992          1993  \\\n",
       "Country                                                                       \n",
       "Afghanistan                   NaN           NaN           NaN           NaN   \n",
       "Albania               4458.247115   3229.250120   3015.391377   3323.864388   \n",
       "Algeria              10300.015042   9929.097717   9873.024864   9453.323181   \n",
       "Angola                4761.229638   4651.204299   4238.318419   3118.903488   \n",
       "Antigua and Barbuda  17454.549799  17598.378401  17497.380127  18055.500956   \n",
       "...                           ...           ...           ...           ...   \n",
       "West Bank and Gaza            NaN           NaN           NaN           NaN   \n",
       "World                 8966.014072   8942.915645   8959.240204   8984.696890   \n",
       "Yemen                 3425.707169   3466.039074   3561.740073   3519.550101   \n",
       "Zambia                2339.137959   2278.802025   2185.120656   2278.347123   \n",
       "Zimbabwe              2819.549467   2906.272849   2591.007534   2572.870395   \n",
       "\n",
       "Year                         1994          1995          1996          1997  \\\n",
       "Country                                                                       \n",
       "Afghanistan                   NaN           NaN           NaN           NaN   \n",
       "Albania               3622.007101   4129.975340   4533.894357   4064.132804   \n",
       "Algeria               9176.235569   9344.748909   9558.822868   9509.123393   \n",
       "Angola                3060.336207   3407.974524   3747.164004   3892.473420   \n",
       "Antigua and Barbuda  18851.937822  17645.173769  18407.710553  19000.281878   \n",
       "...                           ...           ...           ...           ...   \n",
       "West Bank and Gaza    3236.196368   3314.761163   3208.119899   3517.569954   \n",
       "World                 9109.764275   9271.364990   9489.446042   9725.189314   \n",
       "Yemen                 3581.814359   3628.620445   3660.350262   3729.732721   \n",
       "Zambia                2031.776457   2038.510332   2108.910953   2130.519957   \n",
       "Zimbabwe              2768.309953   2736.486436   2985.856605   3036.422224   \n",
       "\n",
       "Year                         1998          1999  ...          2009  \\\n",
       "Country                                          ...                 \n",
       "Afghanistan                   NaN           NaN  ...   1502.354073   \n",
       "Albania               4450.922523   5056.566515  ...   9525.377979   \n",
       "Algeria               9845.209222  10017.374034  ...  12697.690780   \n",
       "Angola                3945.594930   3902.774196  ...   6292.534856   \n",
       "Antigua and Barbuda  19486.171892  19816.291441  ...  22568.626530   \n",
       "...                           ...           ...  ...           ...   \n",
       "West Bank and Gaza    3920.320010   4137.843864  ...   3816.165070   \n",
       "World                 9831.530107  10041.606392  ...  12726.100963   \n",
       "Yemen                 3839.688064   3873.781695  ...   4359.812628   \n",
       "Zambia                2064.467651   2102.074889  ...   3115.937579   \n",
       "Zimbabwe              3099.076182   3054.064189  ...   1632.999866   \n",
       "\n",
       "Year                         2010          2011          2012          2013  \\\n",
       "Country                                                                       \n",
       "Afghanistan           1671.581238   1626.764793   1772.764974   1807.762344   \n",
       "Albania               9927.638204  10207.752347  10369.561032  10492.669028   \n",
       "Algeria              12919.491054  13046.128511  13229.008711  13329.770758   \n",
       "Angola                6360.441938   6346.395122   6645.085625   6730.945822   \n",
       "Antigua and Barbuda  20555.414205  19876.215323  20283.897534  19918.131682   \n",
       "...                           ...           ...           ...           ...   \n",
       "West Bank and Gaza    4019.485067   4405.778573   4568.509070   4559.032259   \n",
       "World                13226.953625  13592.336383  13880.359252  14187.709075   \n",
       "Yemen                 4566.157400   3876.302619   3861.116716   3938.891066   \n",
       "Zambia                3338.097186   3419.010460   3566.382521   3631.003858   \n",
       "Zimbabwe              1928.017081   2168.110293   2486.847930   2491.635140   \n",
       "\n",
       "Year                         2014          2015          2016          2017  \\\n",
       "Country                                                                       \n",
       "Afghanistan           1795.735834   1766.593077   1757.023490   1758.465636   \n",
       "Albania              10700.993216  10970.321401  11352.101422  11796.719185   \n",
       "Algeria              13557.769757  13774.758920  13926.910489  13822.389087   \n",
       "Angola                6813.052106   6644.857255   6258.376628   6044.972035   \n",
       "Antigua and Barbuda  20440.540555  20994.725890  21923.796037  22400.379562   \n",
       "...                           ...           ...           ...           ...   \n",
       "West Bank and Gaza    4445.307470   4493.612080   4600.685400   4651.723645   \n",
       "World                14514.392218  14828.598884  15142.226499  15527.280228   \n",
       "Yemen                 3828.484887   3108.764217   2619.050681   2404.422370   \n",
       "Zambia                3684.685507   3677.735019   3703.012866   3717.667166   \n",
       "Zimbabwe              2506.490220   2509.008140   2489.097494   2568.410072   \n",
       "\n",
       "Year                         2018  \n",
       "Country                            \n",
       "Afghanistan           1734.723214  \n",
       "Albania              12316.071501  \n",
       "Algeria              13737.356063  \n",
       "Angola                5725.327238  \n",
       "Antigua and Barbuda  23840.729896  \n",
       "...                           ...  \n",
       "West Bank and Gaza    4576.432497  \n",
       "World                15914.172172  \n",
       "Yemen                 2284.970504  \n",
       "Zambia                3747.972455  \n",
       "Zimbabwe              2688.406942  \n",
       "\n",
       "[243 rows x 29 columns]"
      ]
     },
     "execution_count": 16,
     "metadata": {},
     "output_type": "execute_result"
    }
   ],
   "source": [
    "gdp_df.pivot_table(values = \"GDP_Per_Capita\", index = \"Country\", columns = \"Year\")"
   ]
  },
  {
   "cell_type": "code",
   "execution_count": 17,
   "metadata": {},
   "outputs": [
    {
     "data": {
      "text/plain": [
       "(449, 3)"
      ]
     },
     "execution_count": 17,
     "metadata": {},
     "output_type": "execute_result"
    }
   ],
   "source": [
    "#gdp_pivoted\n",
    "#print(gdp_df[(gdp_df[\"Year\"] == 1990) | (gdp_df[\"Year\"] ==2017)])\n",
    "\n",
    "filteredGDP=gdp_df[(gdp_df[\"Year\"] == 1990) | (gdp_df[\"Year\"] ==2017)]\n",
    "filteredGDP.shape"
   ]
  },
  {
   "cell_type": "code",
   "execution_count": 18,
   "metadata": {},
   "outputs": [],
   "source": [
    "pivotGDP = filteredGDP.pivot_table(values = \"GDP_Per_Capita\", index = \"Country\", columns = \"Year\")"
   ]
  },
  {
   "cell_type": "code",
   "execution_count": 19,
   "metadata": {},
   "outputs": [],
   "source": [
    "pivotGDP = pivotGDP.dropna()\n",
    "#filteredGDP.shape\n",
    "#filteredGDP.isna()"
   ]
  },
  {
   "cell_type": "code",
   "execution_count": 20,
   "metadata": {},
   "outputs": [
    {
     "name": "stdout",
     "output_type": "stream",
     "text": [
      "Year                         1990          2017\n",
      "Country                                        \n",
      "Albania               4458.247115  11796.719185\n",
      "Algeria              10300.015042  13822.389087\n",
      "Angola                4761.229638   6044.972035\n",
      "Antigua and Barbuda  17454.549799  22400.379562\n",
      "Arab World           10491.507721  15542.746104\n",
      "...                           ...           ...\n",
      "Vietnam               1457.594613   6233.485045\n",
      "World                 8966.014072  15527.280228\n",
      "Yemen                 3425.707169   2404.422370\n",
      "Zambia                2339.137959   3717.667166\n",
      "Zimbabwe              2819.549467   2568.410072\n",
      "\n",
      "[209 rows x 2 columns]\n"
     ]
    }
   ],
   "source": [
    "print(pivotGDP)"
   ]
  },
  {
   "cell_type": "code",
   "execution_count": 21,
   "metadata": {},
   "outputs": [
    {
     "data": {
      "text/html": [
       "<div>\n",
       "<style scoped>\n",
       "    .dataframe tbody tr th:only-of-type {\n",
       "        vertical-align: middle;\n",
       "    }\n",
       "\n",
       "    .dataframe tbody tr th {\n",
       "        vertical-align: top;\n",
       "    }\n",
       "\n",
       "    .dataframe thead th {\n",
       "        text-align: right;\n",
       "    }\n",
       "</style>\n",
       "<table border=\"1\" class=\"dataframe\">\n",
       "  <thead>\n",
       "    <tr style=\"text-align: right;\">\n",
       "      <th>Year</th>\n",
       "      <th>1990</th>\n",
       "      <th>2017</th>\n",
       "    </tr>\n",
       "    <tr>\n",
       "      <th>Country</th>\n",
       "      <th></th>\n",
       "      <th></th>\n",
       "    </tr>\n",
       "  </thead>\n",
       "  <tbody>\n",
       "    <tr>\n",
       "      <th>Albania</th>\n",
       "      <td>False</td>\n",
       "      <td>False</td>\n",
       "    </tr>\n",
       "    <tr>\n",
       "      <th>Algeria</th>\n",
       "      <td>False</td>\n",
       "      <td>False</td>\n",
       "    </tr>\n",
       "    <tr>\n",
       "      <th>Angola</th>\n",
       "      <td>False</td>\n",
       "      <td>False</td>\n",
       "    </tr>\n",
       "    <tr>\n",
       "      <th>Antigua and Barbuda</th>\n",
       "      <td>False</td>\n",
       "      <td>False</td>\n",
       "    </tr>\n",
       "    <tr>\n",
       "      <th>Arab World</th>\n",
       "      <td>False</td>\n",
       "      <td>False</td>\n",
       "    </tr>\n",
       "    <tr>\n",
       "      <th>...</th>\n",
       "      <td>...</td>\n",
       "      <td>...</td>\n",
       "    </tr>\n",
       "    <tr>\n",
       "      <th>Vietnam</th>\n",
       "      <td>False</td>\n",
       "      <td>False</td>\n",
       "    </tr>\n",
       "    <tr>\n",
       "      <th>World</th>\n",
       "      <td>False</td>\n",
       "      <td>False</td>\n",
       "    </tr>\n",
       "    <tr>\n",
       "      <th>Yemen</th>\n",
       "      <td>False</td>\n",
       "      <td>False</td>\n",
       "    </tr>\n",
       "    <tr>\n",
       "      <th>Zambia</th>\n",
       "      <td>False</td>\n",
       "      <td>False</td>\n",
       "    </tr>\n",
       "    <tr>\n",
       "      <th>Zimbabwe</th>\n",
       "      <td>False</td>\n",
       "      <td>False</td>\n",
       "    </tr>\n",
       "  </tbody>\n",
       "</table>\n",
       "<p>209 rows × 2 columns</p>\n",
       "</div>"
      ],
      "text/plain": [
       "Year                  1990   2017\n",
       "Country                          \n",
       "Albania              False  False\n",
       "Algeria              False  False\n",
       "Angola               False  False\n",
       "Antigua and Barbuda  False  False\n",
       "Arab World           False  False\n",
       "...                    ...    ...\n",
       "Vietnam              False  False\n",
       "World                False  False\n",
       "Yemen                False  False\n",
       "Zambia               False  False\n",
       "Zimbabwe             False  False\n",
       "\n",
       "[209 rows x 2 columns]"
      ]
     },
     "execution_count": 21,
     "metadata": {},
     "output_type": "execute_result"
    }
   ],
   "source": [
    "pivotGDP.isnull()"
   ]
  },
  {
   "cell_type": "code",
   "execution_count": 22,
   "metadata": {},
   "outputs": [],
   "source": [
    "#Creates a column in the pivote table of GDP growth per capita from 1990 to 2017\n",
    "pivotGDP['PercentChange'] = 100 * (pivotGDP[2017] - pivotGDP[1990]) / pivotGDP[1990]\n",
    "\n",
    "\n",
    "#SCRAP CODE\n",
    "#print(pivotGDP.head())\n",
    "#pivotGDP.columns"
   ]
  },
  {
   "cell_type": "code",
   "execution_count": 23,
   "metadata": {},
   "outputs": [
    {
     "name": "stdout",
     "output_type": "stream",
     "text": [
      "20 Countries have had negative per capita change in GDP from 1990 to 2017 and are liste below:\n",
      "\n",
      "\n",
      "Year                               1990          2017  PercentChange\n",
      "Country                                                             \n",
      "Dem. Rep. Congo             1386.933242    807.752905     -41.759785\n",
      "United Arab Emirates      112349.597967  66477.818719     -40.829500\n",
      "Burundi                     1027.396660    670.777072     -34.710993\n",
      "Yemen                       3425.707169   2404.422370     -29.812379\n",
      "Ukraine                    10463.959955   7906.540301     -24.440266\n",
      "Central African Republic     982.659793    746.434942     -24.039332\n",
      "Venezuela                  14619.454190  11489.648818     -21.408497\n",
      "Tajikistan                  3661.340213   2923.673718     -20.147445\n",
      "Haiti                       2061.842854   1653.001460     -19.828931\n",
      "Gabon                      19556.665840  16144.935297     -17.445359\n",
      "Madagascar                  1928.012284   1648.373871     -14.503975\n",
      "Brunei                     84693.336970  72523.729446     -14.369026\n",
      "Zimbabwe                    2819.549467   2568.410072      -8.907075\n",
      "The Bahamas                31005.636485  28318.107428      -8.667873\n",
      "The Gambia                  2448.493198   2240.327478      -8.501789\n",
      "Congo                       5323.022707   5103.142821      -4.130734\n",
      "Guinea-Bissau               1633.612989   1576.748994      -3.480873\n",
      "Aruba                      37140.024657  35861.828118      -3.441561\n",
      "Kyrgyz Republic             3474.667969   3393.617990      -2.332596\n",
      "Comoros                     2580.500555   2555.966364      -0.950753\n"
     ]
    }
   ],
   "source": [
    "#Number of countries with negative GDP growth from 1990 to 2017\n",
    "print(str(pivotGDP[pivotGDP['PercentChange'] < 0]['PercentChange']\n",
    "      .count()) + ' Countries have had negative per capita change in GDP from 1990 to 2017 and are liste below:')\n",
    "print(\"\\n\")\n",
    "      \n",
    "#All countries with negative GDP growth from 1990 to 2017, sorted\n",
    "print(pivotGDP[pivotGDP['PercentChange']<0].sort_values(by='PercentChange'))"
   ]
  },
  {
   "cell_type": "code",
   "execution_count": 24,
   "metadata": {
    "scrolled": false
   },
   "outputs": [
    {
     "name": "stdout",
     "output_type": "stream",
     "text": [
      "Year                      1990          2017  PercentChange\n",
      "Country                                                    \n",
      "Equatorial Guinea  1017.764136  22298.942144    2090.973464\n",
      "China              1521.963868  15253.993071     902.257241\n",
      "\n",
      "\n",
      "\n",
      "\n",
      "Year                      1990          2017  PercentChange\n",
      "Country                                                    \n",
      "Equatorial Guinea  1017.764136  22298.942144    2090.973464\n",
      "\n",
      "\n",
      "\n",
      "\n",
      "Year            1990          2017  PercentChange\n",
      "Country                                          \n",
      "China    1521.963868  15253.993071     902.257241\n"
     ]
    }
   ],
   "source": [
    "#DF combination of the two scrap code functions at the end of this cell\n",
    "criteria_max_comb = pivotGDP.sort_values('PercentChange',ascending=False).iloc[0:2]\n",
    "print(criteria_max_comb)\n",
    "print(\"\\n\")\n",
    "print(\"\\n\")\n",
    "\n",
    "\n",
    "criteria_max1 = pivotGDP[pivotGDP['PercentChange'] == pivotGDP['PercentChange'].max()]\n",
    "print(criteria_max1)\n",
    "print(\"\\n\")\n",
    "print(\"\\n\")\n",
    "\n",
    "\n",
    "#DF selection of the country with the 2nd highest GDP per cap growth\n",
    "criteria_max2 = criteria_max_comb.iloc[1:2]\n",
    "print(criteria_max2)\n",
    "\n",
    "\n",
    "#DIRECT ANSWER\n",
    "#pivotGDP[pivotGDP['PercentChange'] == pivotGDP['PercentChange'].max()]\n",
    "\n",
    "#SCRAP CODE - TESTED AND FAILED\n",
    "#pivotGDP[pivotGDP['PercentChange'] == pivotGDP['PercentChange'].max()][['Country']]\n",
    "#pivotGDP.loc[pivotGDP['PercentChange'] == pivotGDP['PercentChange'].max(), ['Country']] \n",
    "\n",
    "#SAMPLE TEMP CODE\n",
    "#pivotGDP['PercentChange'].max()\n",
    "\n",
    "#SCRAP CODE -- AD HOC \n",
    "#DF of sorted pivot table to ensure the top 2 GDP per cap countries can be selected through .iloc\n",
    "#pivotGDP_sort = pivotGDP.sort_values('PercentChange', ascending=False)\n",
    "\n",
    "#SCRAP CODE -- AD HOC\n",
    "#DF contraining the top 2 GDP Growth Per Capita identified via the pivot table\n",
    "#criteria_max2 = pivotGDP_sort.iloc[0:2]"
   ]
  },
  {
   "cell_type": "code",
   "execution_count": 25,
   "metadata": {},
   "outputs": [
    {
     "name": "stdout",
     "output_type": "stream",
     "text": [
      "Year            Country         1990          2017  PercentChange\n",
      "0     Equatorial Guinea  1017.764136  22298.942144    2090.973464\n"
     ]
    }
   ],
   "source": [
    "#Add indices to each of the criteria DFs created from the pivot table so they are compatible with the original DF\n",
    "criteria_max_comb = criteria_max_comb.reset_index()\n",
    "criteria_max1 = criteria_max1.reset_index()\n",
    "criteria_max2 = criteria_max2.reset_index()\n",
    "\n",
    "print(criteria_max1)\n",
    "#print(gdp_df.head())"
   ]
  },
  {
   "cell_type": "code",
   "execution_count": 26,
   "metadata": {},
   "outputs": [
    {
     "name": "stdout",
     "output_type": "stream",
     "text": [
      "<class 'pandas.core.frame.DataFrame'>\n",
      "RangeIndex: 1 entries, 0 to 0\n",
      "Data columns (total 4 columns):\n",
      " #   Column         Non-Null Count  Dtype  \n",
      "---  ------         --------------  -----  \n",
      " 0   Country        1 non-null      object \n",
      " 1   1990           1 non-null      float64\n",
      " 2   2017           1 non-null      float64\n",
      " 3   PercentChange  1 non-null      float64\n",
      "dtypes: float64(3), object(1)\n",
      "memory usage: 160.0+ bytes\n",
      "Year            Country         1990          2017  PercentChange\n",
      "0     Equatorial Guinea  1017.764136  22298.942144    2090.973464\n"
     ]
    }
   ],
   "source": [
    "#TEMP CODE -- SHOULD WORK BUT DOES NOT CONVERT OBJECT TO STRING -- Something about the way Numpy stores string due an 8 bit limitation\n",
    "#criteria_max1 = criteria_max1.to_string()\n",
    "\n",
    "criteria_max1['Country'] = criteria_max1['Country'].astype(str)\n",
    "\n",
    "#criteria_max1['Country'] = criteria_max1['Country'].apply(str)\n",
    "\n",
    "\n",
    "\n",
    "criteria_max1.info()\n",
    "print(criteria_max1)"
   ]
  },
  {
   "cell_type": "code",
   "execution_count": 28,
   "metadata": {},
   "outputs": [
    {
     "name": "stdout",
     "output_type": "stream",
     "text": [
      "Year Country         1990          2017  PercentChange\n",
      "0      China  1521.963868  15253.993071     902.257241\n"
     ]
    }
   ],
   "source": [
    "#print(criteria_max1['Country'])\n",
    "\n",
    "#gdp_df_top2 = gdp_df['Country'].isin([criteria_max2])              \n",
    "#gdp_df[gdp_df_top2]\n",
    "\n",
    "#print(gdp_df_top2)\n",
    "\n",
    "#gdp_df[gdp_df_top2]\n",
    "\n",
    "\n",
    "#TEMP CODE DID NOT WORK\n",
    "#str(criteria_max1[\"Country\"])\n",
    "\n",
    "#SCRAP CODE USED FOR SYNTAX TESTING\n",
    "#gdp_df_top2 = gdp_df['Country'].isin(['China'])"
   ]
  },
  {
   "cell_type": "markdown",
   "metadata": {},
   "source": [
    "#1990 - 2017, EQ and China, 3 plots, gdp_df\n",
    "\n",
    "gdp_df[\n",
    "    gdp_df['Country']==criteria_max1['Country']].plot(\n",
    "    x='Year',\n",
    "    y='GDP_Per_Capita',\n",
    "    kind='line',\n",
    "    title='GDP Per Capita',\n",
    "    label='Equatorial Guinea') #criteria_max1\n",
    "\n",
    "#gdp_df.plot(x='Year', y='GDP_Per_Capita', kind='line', title=\"Equatorial Guinea\")"
   ]
  },
  {
   "cell_type": "markdown",
   "metadata": {},
   "source": [
    "gdp_df[gdp_df['Country']=='China'].plot(x='Year', y='GDP_Per_Capita', kind='line', title='China')"
   ]
  },
  {
   "cell_type": "markdown",
   "metadata": {},
   "source": [
    "#gdp_df[gdp_df['Country'].plot(\n",
    "#    x1=gdp_df[gdp_df['Country']=='China',gdp_df['Year']], \n",
    " #   x2=gdp_df[['Country']=='Equatorial Guinea',gdp_df['Year']], \n",
    "  #  y1=gdp_df[['Country']=='China',gdp_df['GPD_Per_Capita']], \n",
    "   # y2=gdp_df[['Country']=='Equatorial Guinea',gdp_df['GPD_Per_Capita']], \n",
    "    #kind='line', \n",
    "    #title='GDP Per Capita', \n",
    "    #label1='Equatorial Guinea', \n",
    "    #label2='China')\n",
    "\n",
    "gdp_df[gdp_df['Country']==[('Equatorial Guinea') | ('China')]].plot(\n",
    "    x='Year',\n",
    "    y='GDP_Per_Capita',\n",
    "    kind='line', \n",
    "    title='GDP Per Capita', \n",
    "    label='Equatorial Guinea')"
   ]
  },
  {
   "cell_type": "code",
   "execution_count": null,
   "metadata": {},
   "outputs": [],
   "source": [
    "#internet_df = pd.read_csv('../data/internet_use.csv', error_bad_lines=False)\n",
    "#internet_df = pd.read_csv('../data/internet_use.csv', warn_error_bad_lines=True)\n"
   ]
  },
  {
   "cell_type": "code",
   "execution_count": null,
   "metadata": {},
   "outputs": [],
   "source": [
    "#groupby('continent')['country'].nunique()"
   ]
  },
  {
   "cell_type": "markdown",
   "metadata": {},
   "source": [
    "gdp_df=gdp_df[[\"Country\", \"Year\", \"GDP_Per_Capita\"]]  ######USE BRACES TO CALL COLUMN AND EQUALS TO RENAME IT\n",
    "print(gdp_df)"
   ]
  },
  {
   "cell_type": "markdown",
   "metadata": {},
   "source": [
    "git commit -m 'MESSAGE'\n",
    "git push origin master\n"
   ]
  }
 ],
 "metadata": {
  "kernelspec": {
   "display_name": "Python 3",
   "language": "python",
   "name": "python3"
  },
  "language_info": {
   "codemirror_mode": {
    "name": "ipython",
    "version": 3
   },
   "file_extension": ".py",
   "mimetype": "text/x-python",
   "name": "python",
   "nbconvert_exporter": "python",
   "pygments_lexer": "ipython3",
   "version": "3.8.3"
  }
 },
 "nbformat": 4,
 "nbformat_minor": 4
}
