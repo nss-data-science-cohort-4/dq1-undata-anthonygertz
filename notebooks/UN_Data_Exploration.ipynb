{
 "cells": [
  {
   "cell_type": "code",
   "execution_count": 1,
   "metadata": {},
   "outputs": [],
   "source": [
    "import pandas as pd\n",
    "import numpy as np\n",
    "import matplotlib.pyplot as plt\n",
    "import seaborn as sns\n",
    "import scipy.stats as stats\n",
    "import statsmodels.api as sm\n",
    "%matplotlib inline"
   ]
  },
  {
   "cell_type": "code",
   "execution_count": 2,
   "metadata": {},
   "outputs": [],
   "source": [
    "gdp_df=pd.read_csv(\"../Notebooks/UNdata1.csv\", nrows=6729)"
   ]
  },
  {
   "cell_type": "code",
   "execution_count": 3,
   "metadata": {
    "scrolled": true
   },
   "outputs": [
    {
     "name": "stdout",
     "output_type": "stream",
     "text": [
      "     Country or Area  Year        Value  Value Footnotes\n",
      "0        Afghanistan  2018  1734.723214              NaN\n",
      "1        Afghanistan  2017  1758.465636              NaN\n",
      "2        Afghanistan  2016  1757.023490              NaN\n",
      "3        Afghanistan  2015  1766.593077              NaN\n",
      "4        Afghanistan  2014  1795.735834              NaN\n",
      "...              ...   ...          ...              ...\n",
      "6724        Zimbabwe  1994  2768.309953              NaN\n",
      "6725        Zimbabwe  1993  2572.870395              NaN\n",
      "6726        Zimbabwe  1992  2591.007534              NaN\n",
      "6727        Zimbabwe  1991  2906.272849              NaN\n",
      "6728        Zimbabwe  1990  2819.549467              NaN\n",
      "\n",
      "[6729 rows x 4 columns]\n"
     ]
    }
   ],
   "source": [
    "print(gdp_df)"
   ]
  },
  {
   "cell_type": "code",
   "execution_count": 4,
   "metadata": {},
   "outputs": [],
   "source": [
    "gdp_df = gdp_df.drop(labels=\"Value Footnotes\", axis=1)"
   ]
  },
  {
   "cell_type": "code",
   "execution_count": 5,
   "metadata": {},
   "outputs": [
    {
     "name": "stdout",
     "output_type": "stream",
     "text": [
      "          Country  Year  GDP_Per_Capita\n",
      "0     Afghanistan  2018     1734.723214\n",
      "1     Afghanistan  2017     1758.465636\n",
      "2     Afghanistan  2016     1757.023490\n",
      "3     Afghanistan  2015     1766.593077\n",
      "4     Afghanistan  2014     1795.735834\n",
      "...           ...   ...             ...\n",
      "6724     Zimbabwe  1994     2768.309953\n",
      "6725     Zimbabwe  1993     2572.870395\n",
      "6726     Zimbabwe  1992     2591.007534\n",
      "6727     Zimbabwe  1991     2906.272849\n",
      "6728     Zimbabwe  1990     2819.549467\n",
      "\n",
      "[6729 rows x 3 columns]\n"
     ]
    }
   ],
   "source": [
    "#gdp_df.columns = [\"Country\", \"Year\", \"GDP_Per_Capita\"]\n",
    "gdp_df = gdp_df.rename(columns = {\"Country or Area\": \"Country\", \"Value\":\"GDP_Per_Capita\"} )\n",
    "print(gdp_df)"
   ]
  },
  {
   "cell_type": "markdown",
   "metadata": {},
   "source": []
  },
  {
   "cell_type": "code",
   "execution_count": 6,
   "metadata": {},
   "outputs": [],
   "source": [
    "gdp_df = gdp_df.astype({\"Country\":\"string\"})"
   ]
  },
  {
   "cell_type": "code",
   "execution_count": 7,
   "metadata": {},
   "outputs": [
    {
     "name": "stdout",
     "output_type": "stream",
     "text": [
      "<class 'pandas.core.frame.DataFrame'>\n",
      "RangeIndex: 6729 entries, 0 to 6728\n",
      "Data columns (total 3 columns):\n",
      " #   Column          Non-Null Count  Dtype  \n",
      "---  ------          --------------  -----  \n",
      " 0   Country         6729 non-null   string \n",
      " 1   Year            6729 non-null   int64  \n",
      " 2   GDP_Per_Capita  6729 non-null   float64\n",
      "dtypes: float64(1), int64(1), string(1)\n",
      "memory usage: 157.8 KB\n"
     ]
    }
   ],
   "source": [
    "gdp_df.info()"
   ]
  },
  {
   "cell_type": "code",
   "execution_count": 8,
   "metadata": {},
   "outputs": [
    {
     "data": {
      "text/plain": [
       "243"
      ]
     },
     "execution_count": 8,
     "metadata": {},
     "output_type": "execute_result"
    }
   ],
   "source": [
    "gdp_df[\"Country\"].nunique() #Number of Unique Countries"
   ]
  },
  {
   "cell_type": "markdown",
   "metadata": {},
   "source": []
  },
  {
   "cell_type": "code",
   "execution_count": 9,
   "metadata": {},
   "outputs": [
    {
     "data": {
      "text/plain": [
       "Djibouti                      1\n",
       "Turks and Caicos Islands      8\n",
       "South Sudan                   8\n",
       "Sint Maarten (Dutch part)     9\n",
       "Nauru                        12\n",
       "Afghanistan                  17\n",
       "SÃ£o TomÃ© and Principe      18\n",
       "CuraÃ§ao                     19\n",
       "Qatar                        19\n",
       "Other small states           19\n",
       "Kosovo                       19\n",
       "Liberia                      19\n",
       "Palau                        19\n",
       "Small states                 19\n",
       "Timor-Leste                  19\n",
       "Eritrea                      20\n",
       "Libya                        20\n",
       "Cayman Islands               20\n",
       "San Marino                   21\n",
       "Montenegro                   22\n",
       "Name: Country, dtype: Int64"
      ]
     },
     "execution_count": 9,
     "metadata": {},
     "output_type": "execute_result"
    }
   ],
   "source": [
    "gdp_df[\"Country\"].value_counts(ascending=True).head(20)"
   ]
  },
  {
   "cell_type": "markdown",
   "metadata": {},
   "source": [
    "Countries with less governance, changes in governance, newly founded, or general transparency"
   ]
  },
  {
   "cell_type": "code",
   "execution_count": 10,
   "metadata": {},
   "outputs": [
    {
     "name": "stdout",
     "output_type": "stream",
     "text": [
      "                  Country  Year  GDP_Per_Capita\n",
      "4             Afghanistan  2014     1795.735834\n",
      "21                Albania  2014    10700.993216\n",
      "50                Algeria  2014    13557.769757\n",
      "79                 Angola  2014     6813.052106\n",
      "108   Antigua and Barbuda  2014    20440.540555\n",
      "...                   ...   ...             ...\n",
      "6592   West Bank and Gaza  2014     4445.307470\n",
      "6617                World  2014    14514.392218\n",
      "6646                Yemen  2014     3828.484887\n",
      "6675               Zambia  2014     3684.685507\n",
      "6704             Zimbabwe  2014     2506.490220\n",
      "\n",
      "[240 rows x 3 columns]\n"
     ]
    }
   ],
   "source": [
    "gdp_2014=(gdp_df[gdp_df[\"Year\"]==2014])\n",
    "print(gdp_2014)"
   ]
  },
  {
   "cell_type": "code",
   "execution_count": 11,
   "metadata": {},
   "outputs": [
    {
     "data": {
      "text/html": [
       "<div>\n",
       "<style scoped>\n",
       "    .dataframe tbody tr th:only-of-type {\n",
       "        vertical-align: middle;\n",
       "    }\n",
       "\n",
       "    .dataframe tbody tr th {\n",
       "        vertical-align: top;\n",
       "    }\n",
       "\n",
       "    .dataframe thead th {\n",
       "        text-align: right;\n",
       "    }\n",
       "</style>\n",
       "<table border=\"1\" class=\"dataframe\">\n",
       "  <thead>\n",
       "    <tr style=\"text-align: right;\">\n",
       "      <th></th>\n",
       "      <th>Year</th>\n",
       "      <th>GDP_Per_Capita</th>\n",
       "    </tr>\n",
       "  </thead>\n",
       "  <tbody>\n",
       "    <tr>\n",
       "      <th>count</th>\n",
       "      <td>240.0</td>\n",
       "      <td>240.000000</td>\n",
       "    </tr>\n",
       "    <tr>\n",
       "      <th>mean</th>\n",
       "      <td>2014.0</td>\n",
       "      <td>18034.303556</td>\n",
       "    </tr>\n",
       "    <tr>\n",
       "      <th>std</th>\n",
       "      <td>0.0</td>\n",
       "      <td>19320.930599</td>\n",
       "    </tr>\n",
       "    <tr>\n",
       "      <th>min</th>\n",
       "      <td>2014.0</td>\n",
       "      <td>672.681648</td>\n",
       "    </tr>\n",
       "    <tr>\n",
       "      <th>25%</th>\n",
       "      <td>2014.0</td>\n",
       "      <td>4301.187365</td>\n",
       "    </tr>\n",
       "    <tr>\n",
       "      <th>50%</th>\n",
       "      <td>2014.0</td>\n",
       "      <td>11868.067810</td>\n",
       "    </tr>\n",
       "    <tr>\n",
       "      <th>75%</th>\n",
       "      <td>2014.0</td>\n",
       "      <td>24388.408410</td>\n",
       "    </tr>\n",
       "    <tr>\n",
       "      <th>max</th>\n",
       "      <td>2014.0</td>\n",
       "      <td>130439.106674</td>\n",
       "    </tr>\n",
       "  </tbody>\n",
       "</table>\n",
       "</div>"
      ],
      "text/plain": [
       "         Year  GDP_Per_Capita\n",
       "count   240.0      240.000000\n",
       "mean   2014.0    18034.303556\n",
       "std       0.0    19320.930599\n",
       "min    2014.0      672.681648\n",
       "25%    2014.0     4301.187365\n",
       "50%    2014.0    11868.067810\n",
       "75%    2014.0    24388.408410\n",
       "max    2014.0   130439.106674"
      ]
     },
     "execution_count": 11,
     "metadata": {},
     "output_type": "execute_result"
    }
   ],
   "source": [
    "gdp_2014.describe()"
   ]
  },
  {
   "cell_type": "code",
   "execution_count": 12,
   "metadata": {},
   "outputs": [
    {
     "data": {
      "text/plain": [
       "<matplotlib.axes._subplots.AxesSubplot at 0x26351e2f9a0>"
      ]
     },
     "execution_count": 12,
     "metadata": {},
     "output_type": "execute_result"
    },
    {
     "data": {
      "image/png": "[encoded data removed]",
      "text/plain": [
       "<Figure size 432x288 with 1 Axes>"
      ]
     },
     "metadata": {
      "needs_background": "light"
     },
     "output_type": "display_data"
    }
   ],
   "source": [
    "gdp_2014[\"GDP_Per_Capita\"].hist()"
   ]
  },
  {
   "cell_type": "code",
   "execution_count": 13,
   "metadata": {},
   "outputs": [
    {
     "data": {
      "text/plain": [
       "<matplotlib.axes._subplots.AxesSubplot at 0x26351f07eb0>"
      ]
     },
     "execution_count": 13,
     "metadata": {},
     "output_type": "execute_result"
    },
    {
     "data": {
      "image/png": "[encoded data removed]",
      "text/plain": [
       "<Figure size 432x288 with 1 Axes>"
      ]
     },
     "metadata": {
      "needs_background": "light"
     },
     "output_type": "display_data"
    }
   ],
   "source": [
    "gdp_2014[\"GDP_Per_Capita\"].hist(bins=16)"
   ]
  },
  {
   "cell_type": "code",
   "execution_count": 14,
   "metadata": {},
   "outputs": [
    {
     "data": {
      "text/html": [
       "<div>\n",
       "<style scoped>\n",
       "    .dataframe tbody tr th:only-of-type {\n",
       "        vertical-align: middle;\n",
       "    }\n",
       "\n",
       "    .dataframe tbody tr th {\n",
       "        vertical-align: top;\n",
       "    }\n",
       "\n",
       "    .dataframe thead th {\n",
       "        text-align: right;\n",
       "    }\n",
       "</style>\n",
       "<table border=\"1\" class=\"dataframe\">\n",
       "  <thead>\n",
       "    <tr style=\"text-align: right;\">\n",
       "      <th></th>\n",
       "      <th>Country</th>\n",
       "      <th>Year</th>\n",
       "      <th>GDP_Per_Capita</th>\n",
       "    </tr>\n",
       "  </thead>\n",
       "  <tbody>\n",
       "    <tr>\n",
       "      <th>3639</th>\n",
       "      <td>Macao SAR, China</td>\n",
       "      <td>2014</td>\n",
       "      <td>130439.106674</td>\n",
       "    </tr>\n",
       "    <tr>\n",
       "      <th>5003</th>\n",
       "      <td>Qatar</td>\n",
       "      <td>2014</td>\n",
       "      <td>116693.507701</td>\n",
       "    </tr>\n",
       "    <tr>\n",
       "      <th>3610</th>\n",
       "      <td>Luxembourg</td>\n",
       "      <td>2014</td>\n",
       "      <td>92349.186429</td>\n",
       "    </tr>\n",
       "    <tr>\n",
       "      <th>5316</th>\n",
       "      <td>Singapore</td>\n",
       "      <td>2014</td>\n",
       "      <td>81965.361071</td>\n",
       "    </tr>\n",
       "    <tr>\n",
       "      <th>707</th>\n",
       "      <td>Brunei</td>\n",
       "      <td>2014</td>\n",
       "      <td>76448.593329</td>\n",
       "    </tr>\n",
       "  </tbody>\n",
       "</table>\n",
       "</div>"
      ],
      "text/plain": [
       "               Country  Year  GDP_Per_Capita\n",
       "3639  Macao SAR, China  2014   130439.106674\n",
       "5003             Qatar  2014   116693.507701\n",
       "3610        Luxembourg  2014    92349.186429\n",
       "5316         Singapore  2014    81965.361071\n",
       "707             Brunei  2014    76448.593329"
      ]
     },
     "execution_count": 14,
     "metadata": {},
     "output_type": "execute_result"
    }
   ],
   "source": [
    "gdp_2014.sort_values(\"GDP_Per_Capita\", ascending=False).head(5)"
   ]
  },
  {
   "cell_type": "code",
   "execution_count": 15,
   "metadata": {},
   "outputs": [
    {
     "data": {
      "text/html": [
       "<div>\n",
       "<style scoped>\n",
       "    .dataframe tbody tr th:only-of-type {\n",
       "        vertical-align: middle;\n",
       "    }\n",
       "\n",
       "    .dataframe tbody tr th {\n",
       "        vertical-align: top;\n",
       "    }\n",
       "\n",
       "    .dataframe thead th {\n",
       "        text-align: right;\n",
       "    }\n",
       "</style>\n",
       "<table border=\"1\" class=\"dataframe\">\n",
       "  <thead>\n",
       "    <tr style=\"text-align: right;\">\n",
       "      <th></th>\n",
       "      <th>Country</th>\n",
       "      <th>Year</th>\n",
       "      <th>GDP_Per_Capita</th>\n",
       "    </tr>\n",
       "  </thead>\n",
       "  <tbody>\n",
       "    <tr>\n",
       "      <th>1014</th>\n",
       "      <td>Central African Republic</td>\n",
       "      <td>2014</td>\n",
       "      <td>672.681648</td>\n",
       "    </tr>\n",
       "    <tr>\n",
       "      <th>794</th>\n",
       "      <td>Burundi</td>\n",
       "      <td>2014</td>\n",
       "      <td>768.469837</td>\n",
       "    </tr>\n",
       "    <tr>\n",
       "      <th>1375</th>\n",
       "      <td>Dem. Rep. Congo</td>\n",
       "      <td>2014</td>\n",
       "      <td>784.872656</td>\n",
       "    </tr>\n",
       "    <tr>\n",
       "      <th>4414</th>\n",
       "      <td>Niger</td>\n",
       "      <td>2014</td>\n",
       "      <td>900.136918</td>\n",
       "    </tr>\n",
       "    <tr>\n",
       "      <th>3697</th>\n",
       "      <td>Malawi</td>\n",
       "      <td>2014</td>\n",
       "      <td>1142.530804</td>\n",
       "    </tr>\n",
       "  </tbody>\n",
       "</table>\n",
       "</div>"
      ],
      "text/plain": [
       "                       Country  Year  GDP_Per_Capita\n",
       "1014  Central African Republic  2014      672.681648\n",
       "794                    Burundi  2014      768.469837\n",
       "1375           Dem. Rep. Congo  2014      784.872656\n",
       "4414                     Niger  2014      900.136918\n",
       "3697                    Malawi  2014     1142.530804"
      ]
     },
     "execution_count": 15,
     "metadata": {},
     "output_type": "execute_result"
    }
   ],
   "source": [
    "gdp_2014.sort_values(\"GDP_Per_Capita\").head(5)"
   ]
  },
  {
   "cell_type": "code",
   "execution_count": 16,
   "metadata": {},
   "outputs": [
    {
     "data": {
      "text/html": [
       "<div>\n",
       "<style scoped>\n",
       "    .dataframe tbody tr th:only-of-type {\n",
       "        vertical-align: middle;\n",
       "    }\n",
       "\n",
       "    .dataframe tbody tr th {\n",
       "        vertical-align: top;\n",
       "    }\n",
       "\n",
       "    .dataframe thead th {\n",
       "        text-align: right;\n",
       "    }\n",
       "</style>\n",
       "<table border=\"1\" class=\"dataframe\">\n",
       "  <thead>\n",
       "    <tr style=\"text-align: right;\">\n",
       "      <th>Year</th>\n",
       "      <th>1990</th>\n",
       "      <th>1991</th>\n",
       "      <th>1992</th>\n",
       "      <th>1993</th>\n",
       "      <th>1994</th>\n",
       "      <th>1995</th>\n",
       "      <th>1996</th>\n",
       "      <th>1997</th>\n",
       "      <th>1998</th>\n",
       "      <th>1999</th>\n",
       "      <th>...</th>\n",
       "      <th>2009</th>\n",
       "      <th>2010</th>\n",
       "      <th>2011</th>\n",
       "      <th>2012</th>\n",
       "      <th>2013</th>\n",
       "      <th>2014</th>\n",
       "      <th>2015</th>\n",
       "      <th>2016</th>\n",
       "      <th>2017</th>\n",
       "      <th>2018</th>\n",
       "    </tr>\n",
       "    <tr>\n",
       "      <th>Country</th>\n",
       "      <th></th>\n",
       "      <th></th>\n",
       "      <th></th>\n",
       "      <th></th>\n",
       "      <th></th>\n",
       "      <th></th>\n",
       "      <th></th>\n",
       "      <th></th>\n",
       "      <th></th>\n",
       "      <th></th>\n",
       "      <th></th>\n",
       "      <th></th>\n",
       "      <th></th>\n",
       "      <th></th>\n",
       "      <th></th>\n",
       "      <th></th>\n",
       "      <th></th>\n",
       "      <th></th>\n",
       "      <th></th>\n",
       "      <th></th>\n",
       "      <th></th>\n",
       "    </tr>\n",
       "  </thead>\n",
       "  <tbody>\n",
       "    <tr>\n",
       "      <th>Afghanistan</th>\n",
       "      <td>NaN</td>\n",
       "      <td>NaN</td>\n",
       "      <td>NaN</td>\n",
       "      <td>NaN</td>\n",
       "      <td>NaN</td>\n",
       "      <td>NaN</td>\n",
       "      <td>NaN</td>\n",
       "      <td>NaN</td>\n",
       "      <td>NaN</td>\n",
       "      <td>NaN</td>\n",
       "      <td>...</td>\n",
       "      <td>1502.354073</td>\n",
       "      <td>1671.581238</td>\n",
       "      <td>1626.764793</td>\n",
       "      <td>1772.764974</td>\n",
       "      <td>1807.762344</td>\n",
       "      <td>1795.735834</td>\n",
       "      <td>1766.593077</td>\n",
       "      <td>1757.023490</td>\n",
       "      <td>1758.465636</td>\n",
       "      <td>1734.723214</td>\n",
       "    </tr>\n",
       "    <tr>\n",
       "      <th>Albania</th>\n",
       "      <td>4458.247115</td>\n",
       "      <td>3229.250120</td>\n",
       "      <td>3015.391377</td>\n",
       "      <td>3323.864388</td>\n",
       "      <td>3622.007101</td>\n",
       "      <td>4129.975340</td>\n",
       "      <td>4533.894357</td>\n",
       "      <td>4064.132804</td>\n",
       "      <td>4450.922523</td>\n",
       "      <td>5056.566515</td>\n",
       "      <td>...</td>\n",
       "      <td>9525.377979</td>\n",
       "      <td>9927.638204</td>\n",
       "      <td>10207.752347</td>\n",
       "      <td>10369.561032</td>\n",
       "      <td>10492.669028</td>\n",
       "      <td>10700.993216</td>\n",
       "      <td>10970.321401</td>\n",
       "      <td>11352.101422</td>\n",
       "      <td>11796.719185</td>\n",
       "      <td>12316.071501</td>\n",
       "    </tr>\n",
       "    <tr>\n",
       "      <th>Algeria</th>\n",
       "      <td>10300.015042</td>\n",
       "      <td>9929.097717</td>\n",
       "      <td>9873.024864</td>\n",
       "      <td>9453.323181</td>\n",
       "      <td>9176.235569</td>\n",
       "      <td>9344.748909</td>\n",
       "      <td>9558.822868</td>\n",
       "      <td>9509.123393</td>\n",
       "      <td>9845.209222</td>\n",
       "      <td>10017.374034</td>\n",
       "      <td>...</td>\n",
       "      <td>12697.690780</td>\n",
       "      <td>12919.491054</td>\n",
       "      <td>13046.128511</td>\n",
       "      <td>13229.008711</td>\n",
       "      <td>13329.770758</td>\n",
       "      <td>13557.769757</td>\n",
       "      <td>13774.758920</td>\n",
       "      <td>13926.910489</td>\n",
       "      <td>13822.389087</td>\n",
       "      <td>13737.356063</td>\n",
       "    </tr>\n",
       "    <tr>\n",
       "      <th>Angola</th>\n",
       "      <td>4761.229638</td>\n",
       "      <td>4651.204299</td>\n",
       "      <td>4238.318419</td>\n",
       "      <td>3118.903488</td>\n",
       "      <td>3060.336207</td>\n",
       "      <td>3407.974524</td>\n",
       "      <td>3747.164004</td>\n",
       "      <td>3892.473420</td>\n",
       "      <td>3945.594930</td>\n",
       "      <td>3902.774196</td>\n",
       "      <td>...</td>\n",
       "      <td>6292.534856</td>\n",
       "      <td>6360.441938</td>\n",
       "      <td>6346.395122</td>\n",
       "      <td>6645.085625</td>\n",
       "      <td>6730.945822</td>\n",
       "      <td>6813.052106</td>\n",
       "      <td>6644.857255</td>\n",
       "      <td>6258.376628</td>\n",
       "      <td>6044.972035</td>\n",
       "      <td>5725.327238</td>\n",
       "    </tr>\n",
       "    <tr>\n",
       "      <th>Antigua and Barbuda</th>\n",
       "      <td>17454.549799</td>\n",
       "      <td>17598.378401</td>\n",
       "      <td>17497.380127</td>\n",
       "      <td>18055.500956</td>\n",
       "      <td>18851.937822</td>\n",
       "      <td>17645.173769</td>\n",
       "      <td>18407.710553</td>\n",
       "      <td>19000.281878</td>\n",
       "      <td>19486.171892</td>\n",
       "      <td>19816.291441</td>\n",
       "      <td>...</td>\n",
       "      <td>22568.626530</td>\n",
       "      <td>20555.414205</td>\n",
       "      <td>19876.215323</td>\n",
       "      <td>20283.897534</td>\n",
       "      <td>19918.131682</td>\n",
       "      <td>20440.540555</td>\n",
       "      <td>20994.725890</td>\n",
       "      <td>21923.796037</td>\n",
       "      <td>22400.379562</td>\n",
       "      <td>23840.729896</td>\n",
       "    </tr>\n",
       "    <tr>\n",
       "      <th>...</th>\n",
       "      <td>...</td>\n",
       "      <td>...</td>\n",
       "      <td>...</td>\n",
       "      <td>...</td>\n",
       "      <td>...</td>\n",
       "      <td>...</td>\n",
       "      <td>...</td>\n",
       "      <td>...</td>\n",
       "      <td>...</td>\n",
       "      <td>...</td>\n",
       "      <td>...</td>\n",
       "      <td>...</td>\n",
       "      <td>...</td>\n",
       "      <td>...</td>\n",
       "      <td>...</td>\n",
       "      <td>...</td>\n",
       "      <td>...</td>\n",
       "      <td>...</td>\n",
       "      <td>...</td>\n",
       "      <td>...</td>\n",
       "      <td>...</td>\n",
       "    </tr>\n",
       "    <tr>\n",
       "      <th>West Bank and Gaza</th>\n",
       "      <td>NaN</td>\n",
       "      <td>NaN</td>\n",
       "      <td>NaN</td>\n",
       "      <td>NaN</td>\n",
       "      <td>3236.196368</td>\n",
       "      <td>3314.761163</td>\n",
       "      <td>3208.119899</td>\n",
       "      <td>3517.569954</td>\n",
       "      <td>3920.320010</td>\n",
       "      <td>4137.843864</td>\n",
       "      <td>...</td>\n",
       "      <td>3816.165070</td>\n",
       "      <td>4019.485067</td>\n",
       "      <td>4405.778573</td>\n",
       "      <td>4568.509070</td>\n",
       "      <td>4559.032259</td>\n",
       "      <td>4445.307470</td>\n",
       "      <td>4493.612080</td>\n",
       "      <td>4600.685400</td>\n",
       "      <td>4651.723645</td>\n",
       "      <td>4576.432497</td>\n",
       "    </tr>\n",
       "    <tr>\n",
       "      <th>World</th>\n",
       "      <td>8966.014072</td>\n",
       "      <td>8942.915645</td>\n",
       "      <td>8959.240204</td>\n",
       "      <td>8984.696890</td>\n",
       "      <td>9109.764275</td>\n",
       "      <td>9271.364990</td>\n",
       "      <td>9489.446042</td>\n",
       "      <td>9725.189314</td>\n",
       "      <td>9831.530107</td>\n",
       "      <td>10041.606392</td>\n",
       "      <td>...</td>\n",
       "      <td>12726.100963</td>\n",
       "      <td>13226.953625</td>\n",
       "      <td>13592.336383</td>\n",
       "      <td>13880.359252</td>\n",
       "      <td>14187.709075</td>\n",
       "      <td>14514.392218</td>\n",
       "      <td>14828.598884</td>\n",
       "      <td>15142.226499</td>\n",
       "      <td>15527.280228</td>\n",
       "      <td>15914.172172</td>\n",
       "    </tr>\n",
       "    <tr>\n",
       "      <th>Yemen</th>\n",
       "      <td>3425.707169</td>\n",
       "      <td>3466.039074</td>\n",
       "      <td>3561.740073</td>\n",
       "      <td>3519.550101</td>\n",
       "      <td>3581.814359</td>\n",
       "      <td>3628.620445</td>\n",
       "      <td>3660.350262</td>\n",
       "      <td>3729.732721</td>\n",
       "      <td>3839.688064</td>\n",
       "      <td>3873.781695</td>\n",
       "      <td>...</td>\n",
       "      <td>4359.812628</td>\n",
       "      <td>4566.157400</td>\n",
       "      <td>3876.302619</td>\n",
       "      <td>3861.116716</td>\n",
       "      <td>3938.891066</td>\n",
       "      <td>3828.484887</td>\n",
       "      <td>3108.764217</td>\n",
       "      <td>2619.050681</td>\n",
       "      <td>2404.422370</td>\n",
       "      <td>2284.970504</td>\n",
       "    </tr>\n",
       "    <tr>\n",
       "      <th>Zambia</th>\n",
       "      <td>2339.137959</td>\n",
       "      <td>2278.802025</td>\n",
       "      <td>2185.120656</td>\n",
       "      <td>2278.347123</td>\n",
       "      <td>2031.776457</td>\n",
       "      <td>2038.510332</td>\n",
       "      <td>2108.910953</td>\n",
       "      <td>2130.519957</td>\n",
       "      <td>2064.467651</td>\n",
       "      <td>2102.074889</td>\n",
       "      <td>...</td>\n",
       "      <td>3115.937579</td>\n",
       "      <td>3338.097186</td>\n",
       "      <td>3419.010460</td>\n",
       "      <td>3566.382521</td>\n",
       "      <td>3631.003858</td>\n",
       "      <td>3684.685507</td>\n",
       "      <td>3677.735019</td>\n",
       "      <td>3703.012866</td>\n",
       "      <td>3717.667166</td>\n",
       "      <td>3747.972455</td>\n",
       "    </tr>\n",
       "    <tr>\n",
       "      <th>Zimbabwe</th>\n",
       "      <td>2819.549467</td>\n",
       "      <td>2906.272849</td>\n",
       "      <td>2591.007534</td>\n",
       "      <td>2572.870395</td>\n",
       "      <td>2768.309953</td>\n",
       "      <td>2736.486436</td>\n",
       "      <td>2985.856605</td>\n",
       "      <td>3036.422224</td>\n",
       "      <td>3099.076182</td>\n",
       "      <td>3054.064189</td>\n",
       "      <td>...</td>\n",
       "      <td>1632.999866</td>\n",
       "      <td>1928.017081</td>\n",
       "      <td>2168.110293</td>\n",
       "      <td>2486.847930</td>\n",
       "      <td>2491.635140</td>\n",
       "      <td>2506.490220</td>\n",
       "      <td>2509.008140</td>\n",
       "      <td>2489.097494</td>\n",
       "      <td>2568.410072</td>\n",
       "      <td>2688.406942</td>\n",
       "    </tr>\n",
       "  </tbody>\n",
       "</table>\n",
       "<p>243 rows × 29 columns</p>\n",
       "</div>"
      ],
      "text/plain": [
       "Year                         1990          1991          1992          1993  \\\n",
       "Country                                                                       \n",
       "Afghanistan                   NaN           NaN           NaN           NaN   \n",
       "Albania               4458.247115   3229.250120   3015.391377   3323.864388   \n",
       "Algeria              10300.015042   9929.097717   9873.024864   9453.323181   \n",
       "Angola                4761.229638   4651.204299   4238.318419   3118.903488   \n",
       "Antigua and Barbuda  17454.549799  17598.378401  17497.380127  18055.500956   \n",
       "...                           ...           ...           ...           ...   \n",
       "West Bank and Gaza            NaN           NaN           NaN           NaN   \n",
       "World                 8966.014072   8942.915645   8959.240204   8984.696890   \n",
       "Yemen                 3425.707169   3466.039074   3561.740073   3519.550101   \n",
       "Zambia                2339.137959   2278.802025   2185.120656   2278.347123   \n",
       "Zimbabwe              2819.549467   2906.272849   2591.007534   2572.870395   \n",
       "\n",
       "Year                         1994          1995          1996          1997  \\\n",
       "Country                                                                       \n",
       "Afghanistan                   NaN           NaN           NaN           NaN   \n",
       "Albania               3622.007101   4129.975340   4533.894357   4064.132804   \n",
       "Algeria               9176.235569   9344.748909   9558.822868   9509.123393   \n",
       "Angola                3060.336207   3407.974524   3747.164004   3892.473420   \n",
       "Antigua and Barbuda  18851.937822  17645.173769  18407.710553  19000.281878   \n",
       "...                           ...           ...           ...           ...   \n",
       "West Bank and Gaza    3236.196368   3314.761163   3208.119899   3517.569954   \n",
       "World                 9109.764275   9271.364990   9489.446042   9725.189314   \n",
       "Yemen                 3581.814359   3628.620445   3660.350262   3729.732721   \n",
       "Zambia                2031.776457   2038.510332   2108.910953   2130.519957   \n",
       "Zimbabwe              2768.309953   2736.486436   2985.856605   3036.422224   \n",
       "\n",
       "Year                         1998          1999  ...          2009  \\\n",
       "Country                                          ...                 \n",
       "Afghanistan                   NaN           NaN  ...   1502.354073   \n",
       "Albania               4450.922523   5056.566515  ...   9525.377979   \n",
       "Algeria               9845.209222  10017.374034  ...  12697.690780   \n",
       "Angola                3945.594930   3902.774196  ...   6292.534856   \n",
       "Antigua and Barbuda  19486.171892  19816.291441  ...  22568.626530   \n",
       "...                           ...           ...  ...           ...   \n",
       "West Bank and Gaza    3920.320010   4137.843864  ...   3816.165070   \n",
       "World                 9831.530107  10041.606392  ...  12726.100963   \n",
       "Yemen                 3839.688064   3873.781695  ...   4359.812628   \n",
       "Zambia                2064.467651   2102.074889  ...   3115.937579   \n",
       "Zimbabwe              3099.076182   3054.064189  ...   1632.999866   \n",
       "\n",
       "Year                         2010          2011          2012          2013  \\\n",
       "Country                                                                       \n",
       "Afghanistan           1671.581238   1626.764793   1772.764974   1807.762344   \n",
       "Albania               9927.638204  10207.752347  10369.561032  10492.669028   \n",
       "Algeria              12919.491054  13046.128511  13229.008711  13329.770758   \n",
       "Angola                6360.441938   6346.395122   6645.085625   6730.945822   \n",
       "Antigua and Barbuda  20555.414205  19876.215323  20283.897534  19918.131682   \n",
       "...                           ...           ...           ...           ...   \n",
       "West Bank and Gaza    4019.485067   4405.778573   4568.509070   4559.032259   \n",
       "World                13226.953625  13592.336383  13880.359252  14187.709075   \n",
       "Yemen                 4566.157400   3876.302619   3861.116716   3938.891066   \n",
       "Zambia                3338.097186   3419.010460   3566.382521   3631.003858   \n",
       "Zimbabwe              1928.017081   2168.110293   2486.847930   2491.635140   \n",
       "\n",
       "Year                         2014          2015          2016          2017  \\\n",
       "Country                                                                       \n",
       "Afghanistan           1795.735834   1766.593077   1757.023490   1758.465636   \n",
       "Albania              10700.993216  10970.321401  11352.101422  11796.719185   \n",
       "Algeria              13557.769757  13774.758920  13926.910489  13822.389087   \n",
       "Angola                6813.052106   6644.857255   6258.376628   6044.972035   \n",
       "Antigua and Barbuda  20440.540555  20994.725890  21923.796037  22400.379562   \n",
       "...                           ...           ...           ...           ...   \n",
       "West Bank and Gaza    4445.307470   4493.612080   4600.685400   4651.723645   \n",
       "World                14514.392218  14828.598884  15142.226499  15527.280228   \n",
       "Yemen                 3828.484887   3108.764217   2619.050681   2404.422370   \n",
       "Zambia                3684.685507   3677.735019   3703.012866   3717.667166   \n",
       "Zimbabwe              2506.490220   2509.008140   2489.097494   2568.410072   \n",
       "\n",
       "Year                         2018  \n",
       "Country                            \n",
       "Afghanistan           1734.723214  \n",
       "Albania              12316.071501  \n",
       "Algeria              13737.356063  \n",
       "Angola                5725.327238  \n",
       "Antigua and Barbuda  23840.729896  \n",
       "...                           ...  \n",
       "West Bank and Gaza    4576.432497  \n",
       "World                15914.172172  \n",
       "Yemen                 2284.970504  \n",
       "Zambia                3747.972455  \n",
       "Zimbabwe              2688.406942  \n",
       "\n",
       "[243 rows x 29 columns]"
      ]
     },
     "execution_count": 16,
     "metadata": {},
     "output_type": "execute_result"
    }
   ],
   "source": [
    "gdp_df.pivot_table(values = \"GDP_Per_Capita\", index = \"Country\", columns = \"Year\")"
   ]
  },
  {
   "cell_type": "code",
   "execution_count": 17,
   "metadata": {},
   "outputs": [
    {
     "data": {
      "text/plain": [
       "(449, 3)"
      ]
     },
     "execution_count": 17,
     "metadata": {},
     "output_type": "execute_result"
    }
   ],
   "source": [
    "#gdp_pivoted\n",
    "#print(gdp_df[(gdp_df[\"Year\"] == 1990) | (gdp_df[\"Year\"] ==2017)])\n",
    "\n",
    "filteredGDP=gdp_df[(gdp_df[\"Year\"] == 1990) | (gdp_df[\"Year\"] ==2017)]\n",
    "filteredGDP.shape"
   ]
  },
  {
   "cell_type": "code",
   "execution_count": 18,
   "metadata": {},
   "outputs": [],
   "source": [
    "pivotGDP = filteredGDP.pivot_table(values = \"GDP_Per_Capita\", index = \"Country\", columns = \"Year\")"
   ]
  },
  {
   "cell_type": "code",
   "execution_count": 19,
   "metadata": {},
   "outputs": [],
   "source": [
    "pivotGDP = pivotGDP.dropna()\n",
    "#filteredGDP.shape\n",
    "#filteredGDP.isna()"
   ]
  },
  {
   "cell_type": "code",
   "execution_count": 20,
   "metadata": {},
   "outputs": [
    {
     "name": "stdout",
     "output_type": "stream",
     "text": [
      "Year                         1990          2017\n",
      "Country                                        \n",
      "Albania               4458.247115  11796.719185\n",
      "Algeria              10300.015042  13822.389087\n",
      "Angola                4761.229638   6044.972035\n",
      "Antigua and Barbuda  17454.549799  22400.379562\n",
      "Arab World           10491.507721  15542.746104\n",
      "...                           ...           ...\n",
      "Vietnam               1457.594613   6233.485045\n",
      "World                 8966.014072  15527.280228\n",
      "Yemen                 3425.707169   2404.422370\n",
      "Zambia                2339.137959   3717.667166\n",
      "Zimbabwe              2819.549467   2568.410072\n",
      "\n",
      "[209 rows x 2 columns]\n"
     ]
    }
   ],
   "source": [
    "print(pivotGDP)"
   ]
  },
  {
   "cell_type": "code",
   "execution_count": 21,
   "metadata": {},
   "outputs": [
    {
     "data": {
      "text/html": [
       "<div>\n",
       "<style scoped>\n",
       "    .dataframe tbody tr th:only-of-type {\n",
       "        vertical-align: middle;\n",
       "    }\n",
       "\n",
       "    .dataframe tbody tr th {\n",
       "        vertical-align: top;\n",
       "    }\n",
       "\n",
       "    .dataframe thead th {\n",
       "        text-align: right;\n",
       "    }\n",
       "</style>\n",
       "<table border=\"1\" class=\"dataframe\">\n",
       "  <thead>\n",
       "    <tr style=\"text-align: right;\">\n",
       "      <th>Year</th>\n",
       "      <th>1990</th>\n",
       "      <th>2017</th>\n",
       "    </tr>\n",
       "    <tr>\n",
       "      <th>Country</th>\n",
       "      <th></th>\n",
       "      <th></th>\n",
       "    </tr>\n",
       "  </thead>\n",
       "  <tbody>\n",
       "    <tr>\n",
       "      <th>Albania</th>\n",
       "      <td>False</td>\n",
       "      <td>False</td>\n",
       "    </tr>\n",
       "    <tr>\n",
       "      <th>Algeria</th>\n",
       "      <td>False</td>\n",
       "      <td>False</td>\n",
       "    </tr>\n",
       "    <tr>\n",
       "      <th>Angola</th>\n",
       "      <td>False</td>\n",
       "      <td>False</td>\n",
       "    </tr>\n",
       "    <tr>\n",
       "      <th>Antigua and Barbuda</th>\n",
       "      <td>False</td>\n",
       "      <td>False</td>\n",
       "    </tr>\n",
       "    <tr>\n",
       "      <th>Arab World</th>\n",
       "      <td>False</td>\n",
       "      <td>False</td>\n",
       "    </tr>\n",
       "    <tr>\n",
       "      <th>...</th>\n",
       "      <td>...</td>\n",
       "      <td>...</td>\n",
       "    </tr>\n",
       "    <tr>\n",
       "      <th>Vietnam</th>\n",
       "      <td>False</td>\n",
       "      <td>False</td>\n",
       "    </tr>\n",
       "    <tr>\n",
       "      <th>World</th>\n",
       "      <td>False</td>\n",
       "      <td>False</td>\n",
       "    </tr>\n",
       "    <tr>\n",
       "      <th>Yemen</th>\n",
       "      <td>False</td>\n",
       "      <td>False</td>\n",
       "    </tr>\n",
       "    <tr>\n",
       "      <th>Zambia</th>\n",
       "      <td>False</td>\n",
       "      <td>False</td>\n",
       "    </tr>\n",
       "    <tr>\n",
       "      <th>Zimbabwe</th>\n",
       "      <td>False</td>\n",
       "      <td>False</td>\n",
       "    </tr>\n",
       "  </tbody>\n",
       "</table>\n",
       "<p>209 rows × 2 columns</p>\n",
       "</div>"
      ],
      "text/plain": [
       "Year                  1990   2017\n",
       "Country                          \n",
       "Albania              False  False\n",
       "Algeria              False  False\n",
       "Angola               False  False\n",
       "Antigua and Barbuda  False  False\n",
       "Arab World           False  False\n",
       "...                    ...    ...\n",
       "Vietnam              False  False\n",
       "World                False  False\n",
       "Yemen                False  False\n",
       "Zambia               False  False\n",
       "Zimbabwe             False  False\n",
       "\n",
       "[209 rows x 2 columns]"
      ]
     },
     "execution_count": 21,
     "metadata": {},
     "output_type": "execute_result"
    }
   ],
   "source": [
    "pivotGDP.isnull()"
   ]
  },
  {
   "cell_type": "code",
   "execution_count": 22,
   "metadata": {},
   "outputs": [],
   "source": [
    "#Creates a column in the pivote table of GDP growth per capita from 1990 to 2017\n",
    "pivotGDP['PercentChange'] = 100 * (pivotGDP[2017] - pivotGDP[1990]) / pivotGDP[1990]\n",
    "\n",
    "\n",
    "#SCRAP CODE\n",
    "#print(pivotGDP.head())\n",
    "#pivotGDP.columns"
   ]
  },
  {
   "cell_type": "code",
   "execution_count": 23,
   "metadata": {},
   "outputs": [
    {
     "name": "stdout",
     "output_type": "stream",
     "text": [
      "20 Countries have had negative per capita change in GDP from 1990 to 2017 and are liste below:\n",
      "\n",
      "\n",
      "Year                               1990          2017  PercentChange\n",
      "Country                                                             \n",
      "Dem. Rep. Congo             1386.933242    807.752905     -41.759785\n",
      "United Arab Emirates      112349.597967  66477.818719     -40.829500\n",
      "Burundi                     1027.396660    670.777072     -34.710993\n",
      "Yemen                       3425.707169   2404.422370     -29.812379\n",
      "Ukraine                    10463.959955   7906.540301     -24.440266\n",
      "Central African Republic     982.659793    746.434942     -24.039332\n",
      "Venezuela                  14619.454190  11489.648818     -21.408497\n",
      "Tajikistan                  3661.340213   2923.673718     -20.147445\n",
      "Haiti                       2061.842854   1653.001460     -19.828931\n",
      "Gabon                      19556.665840  16144.935297     -17.445359\n",
      "Madagascar                  1928.012284   1648.373871     -14.503975\n",
      "Brunei                     84693.336970  72523.729446     -14.369026\n",
      "Zimbabwe                    2819.549467   2568.410072      -8.907075\n",
      "The Bahamas                31005.636485  28318.107428      -8.667873\n",
      "The Gambia                  2448.493198   2240.327478      -8.501789\n",
      "Congo                       5323.022707   5103.142821      -4.130734\n",
      "Guinea-Bissau               1633.612989   1576.748994      -3.480873\n",
      "Aruba                      37140.024657  35861.828118      -3.441561\n",
      "Kyrgyz Republic             3474.667969   3393.617990      -2.332596\n",
      "Comoros                     2580.500555   2555.966364      -0.950753\n"
     ]
    }
   ],
   "source": [
    "#Number of countries with negative GDP growth from 1990 to 2017\n",
    "print(str(pivotGDP[pivotGDP['PercentChange'] < 0]['PercentChange']\n",
    "      .count()) + ' Countries have had negative per capita change in GDP from 1990 to 2017 and are liste below:')\n",
    "print(\"\\n\")\n",
    "      \n",
    "#All countries with negative GDP growth from 1990 to 2017, sorted\n",
    "print(pivotGDP[pivotGDP['PercentChange']<0].sort_values(by='PercentChange'))"
   ]
  },
  {
   "cell_type": "code",
   "execution_count": 24,
   "metadata": {
    "scrolled": false
   },
   "outputs": [
    {
     "name": "stdout",
     "output_type": "stream",
     "text": [
      "Year                      1990          2017  PercentChange\n",
      "Country                                                    \n",
      "Equatorial Guinea  1017.764136  22298.942144    2090.973464\n",
      "China              1521.963868  15253.993071     902.257241\n",
      "\n",
      "\n",
      "\n",
      "\n",
      "Year                      1990          2017  PercentChange\n",
      "Country                                                    \n",
      "Equatorial Guinea  1017.764136  22298.942144    2090.973464\n",
      "\n",
      "\n",
      "\n",
      "\n",
      "Year            1990          2017  PercentChange\n",
      "Country                                          \n",
      "China    1521.963868  15253.993071     902.257241\n"
     ]
    }
   ],
   "source": [
    "#DF combination of the two scrap code functions at the end of this cell\n",
    "criteria_max_comb = pivotGDP.sort_values('PercentChange',ascending=False).iloc[0:2]\n",
    "print(criteria_max_comb)\n",
    "print(\"\\n\")\n",
    "print(\"\\n\")\n",
    "\n",
    "\n",
    "#DF selection of the country with the (1st) highest GDP per cap growth\n",
    "criteria_max1 = pivotGDP[pivotGDP['PercentChange'] == pivotGDP['PercentChange'].max()]\n",
    "print(criteria_max1)\n",
    "print(\"\\n\")\n",
    "print(\"\\n\")\n",
    "\n",
    "\n",
    "#DF selection of the country with the 2nd highest GDP per cap growth\n",
    "criteria_max2 = criteria_max_comb.iloc[1:2]\n",
    "print(criteria_max2)"
   ]
  },
  {
   "cell_type": "code",
   "execution_count": 25,
   "metadata": {},
   "outputs": [],
   "source": [
    "#Add indices to each of the criteria DFs created from the pivot table so they are compatible with the original DF\n",
    "\n",
    "criteria_max_comb = criteria_max_comb.reset_index()\n",
    "criteria_max1 = criteria_max1.reset_index()\n",
    "criteria_max2 = criteria_max2.reset_index()\n",
    "\n",
    "#Convert DF type object to string\n",
    "\n",
    "criteria_max1['Country'] = criteria_max1['Country'].astype('string')\n",
    "criteria_max2['Country'] = criteria_max2['Country'].astype('string')\n",
    "criteria_max_comb['Country'] = criteria_max_comb['Country'].astype('string')\n",
    "\n",
    "#Code for Verification that conversion worked\n",
    "#criteria_max1.info()\n",
    "#criteria_max2.info()\n",
    "#criteria_max_comb.info()"
   ]
  },
  {
   "cell_type": "code",
   "execution_count": 26,
   "metadata": {},
   "outputs": [],
   "source": [
    "#criteria_max2.Country.values"
   ]
  },
  {
   "cell_type": "code",
   "execution_count": 27,
   "metadata": {},
   "outputs": [],
   "source": [
    "gdp_df_max_comb = gdp_df[gdp_df['Country'].isin(criteria_max_comb.Country.values)]\n",
    "gdp_df_max1 = gdp_df[gdp_df['Country'].isin(criteria_max1.Country.values)]\n",
    "gdp_df_max2 = gdp_df[gdp_df['Country'].isin(criteria_max2.Country.values)]\n",
    "\n",
    "\n",
    "#SCRAP CODE USED FOR SYNTAX TESTING\n",
    "#gdp_df_top2 = gdp_df['Country'].isin(['China'])"
   ]
  },
  {
   "cell_type": "code",
   "execution_count": 28,
   "metadata": {},
   "outputs": [
    {
     "name": "stdout",
     "output_type": "stream",
     "text": [
      "     Country  Year  GDP_Per_Capita\n",
      "1126   China  2018    16181.777716\n",
      "1127   China  2017    15253.993071\n",
      "1128   China  2016    14368.630801\n",
      "1129   China  2015    13534.846237\n",
      "1130   China  2014    12725.089099\n",
      "                Country  Year  GDP_Per_Capita\n",
      "1715  Equatorial Guinea  1994     1538.475957\n",
      "1716  Equatorial Guinea  1993     1365.588482\n",
      "1717  Equatorial Guinea  1992     1272.159060\n",
      "1718  Equatorial Guinea  1991      975.558189\n",
      "1719  Equatorial Guinea  1990     1017.764136\n"
     ]
    }
   ],
   "source": [
    "#OLD CODE\n",
    "\n",
    "#gdp_df_top2 = gdp_df[gdp_df['Country'].isin(['Equatorial Guinea', 'China'])]\n",
    "print(gdp_df_max_comb.head())\n",
    "print(gdp_df_max_comb.tail())"
   ]
  },
  {
   "cell_type": "code",
   "execution_count": 29,
   "metadata": {},
   "outputs": [],
   "source": [
    "#1990 - 2017, EQ and China, 3 plots, gdp_df\n",
    "\n",
    "#gdp_df[gdp_df['Country']=='Equatorial Guinea'].plot(x='Year',y='GDP_Per_Capita',kind='line',title='GDP Per Capita',label='Equatorial Guinea') #criteria_max1\n",
    "\n",
    "#gdp_df.plot(x='Year', y='GDP_Per_Capita', kind='line', title=\"Equatorial Guinea\")"
   ]
  },
  {
   "cell_type": "code",
   "execution_count": 30,
   "metadata": {},
   "outputs": [],
   "source": [
    "#Creates Titles/Labels for 1st and 2nd placed countries\n",
    "\n",
    "max1_lab = criteria_max1.iloc[0,0]\n",
    "max2_lab = criteria_max2.iloc[0,0]"
   ]
  },
  {
   "cell_type": "code",
   "execution_count": 31,
   "metadata": {},
   "outputs": [
    {
     "data": {
      "text/plain": [
       "<matplotlib.axes._subplots.AxesSubplot at 0x26351f8d8e0>"
      ]
     },
     "execution_count": 31,
     "metadata": {},
     "output_type": "execute_result"
    },
    {
     "data": {
      "image/png": "[encoded data removed]",
      "text/plain": [
       "<Figure size 432x288 with 1 Axes>"
      ]
     },
     "metadata": {
      "needs_background": "light"
     },
     "output_type": "display_data"
    }
   ],
   "source": [
    "gdp_df_max1.plot(\n",
    "    x = 'Year',\n",
    "    y = 'GDP_Per_Capita',\n",
    "    kind = 'line',\n",
    "    title = 'GDP Per Capita', \n",
    "    label = max1_lab)"
   ]
  },
  {
   "cell_type": "code",
   "execution_count": 32,
   "metadata": {},
   "outputs": [
    {
     "data": {
      "text/plain": [
       "<matplotlib.axes._subplots.AxesSubplot at 0x26352092a00>"
      ]
     },
     "execution_count": 32,
     "metadata": {},
     "output_type": "execute_result"
    },
    {
     "data": {
      "image/png": "[encoded data removed]",
      "text/plain": [
       "<Figure size 432x288 with 1 Axes>"
      ]
     },
     "metadata": {
      "needs_background": "light"
     },
     "output_type": "display_data"
    }
   ],
   "source": [
    "gdp_df[gdp_df['Country']=='China'].plot(\n",
    "    x='Year', \n",
    "    y='GDP_Per_Capita',\n",
    "    kind='line',\n",
    "    title='GDP Per Capita',\n",
    "    label = max2_lab)"
   ]
  },
  {
   "cell_type": "code",
   "execution_count": 33,
   "metadata": {},
   "outputs": [
    {
     "data": {
      "text/plain": [
       "Text(0, 0.5, 'USD')"
      ]
     },
     "execution_count": 33,
     "metadata": {},
     "output_type": "execute_result"
    },
    {
     "data": {
      "image/png": "[encoded data removed]",
      "text/plain": [
       "<Figure size 432x288 with 1 Axes>"
      ]
     },
     "metadata": {
      "needs_background": "light"
     },
     "output_type": "display_data"
    }
   ],
   "source": [
    "fig, ax = plt.subplots()\n",
    "\n",
    "gdp_df_max_comb.groupby('Country').plot(\n",
    "    ax = ax, \n",
    "    x = 'Year', \n",
    "    y = 'GDP_Per_Capita', \n",
    "    kind = 'line', \n",
    "    title = max1_lab + \" & \" + max2_lab)\n",
    "\n",
    "plt.legend(labels=[max1_lab, max2_lab])\n",
    "plt.xlabel('Year')\n",
    "plt.ylabel('USD')\n",
    "\n",
    "#TEST CODE\n",
    "#plt.legend(labels=['TEMP1','TEMP2'])"
   ]
  },
  {
   "cell_type": "code",
   "execution_count": 34,
   "metadata": {},
   "outputs": [
    {
     "name": "stdout",
     "output_type": "stream",
     "text": [
      "  Continent      Country\n",
      "0      Asia  Afghanistan\n",
      "1    Europe      Albania\n",
      "2    Africa      Algeria\n",
      "3    Europe      Andorra\n",
      "4    Africa       Angola\n"
     ]
    }
   ],
   "source": [
    "continents=pd.read_csv(\"../Data/continents.csv\")\n",
    "print(continents.head())"
   ]
  },
  {
   "cell_type": "code",
   "execution_count": 35,
   "metadata": {},
   "outputs": [
    {
     "name": "stdout",
     "output_type": "stream",
     "text": [
      "          Country  Year  GDP_Per_Capita Continent\n",
      "0     Afghanistan  2018     1734.723214      Asia\n",
      "1     Afghanistan  2017     1758.465636      Asia\n",
      "2     Afghanistan  2016     1757.023490      Asia\n",
      "3     Afghanistan  2015     1766.593077      Asia\n",
      "4     Afghanistan  2014     1795.735834      Asia\n",
      "...           ...   ...             ...       ...\n",
      "5329     Zimbabwe  1994     2768.309953    Africa\n",
      "5330     Zimbabwe  1993     2572.870395    Africa\n",
      "5331     Zimbabwe  1992     2591.007534    Africa\n",
      "5332     Zimbabwe  1991     2906.272849    Africa\n",
      "5333     Zimbabwe  1990     2819.549467    Africa\n",
      "\n",
      "[5334 rows x 4 columns]\n"
     ]
    }
   ],
   "source": [
    "gdp_df2 = gdp_df.merge(continents, on='Country')\n",
    "print(gdp_df2)"
   ]
  },
  {
   "cell_type": "code",
   "execution_count": 36,
   "metadata": {},
   "outputs": [
    {
     "name": "stdout",
     "output_type": "stream",
     "text": [
      "<class 'pandas.core.frame.DataFrame'>\n",
      "Int64Index: 5334 entries, 0 to 5333\n",
      "Data columns (total 4 columns):\n",
      " #   Column          Non-Null Count  Dtype  \n",
      "---  ------          --------------  -----  \n",
      " 0   Country         5334 non-null   object \n",
      " 1   Year            5334 non-null   int64  \n",
      " 2   GDP_Per_Capita  5334 non-null   float64\n",
      " 3   Continent       5334 non-null   object \n",
      "dtypes: float64(1), int64(1), object(2)\n",
      "memory usage: 208.4+ KB\n"
     ]
    }
   ],
   "source": [
    "gdp_df2.info()"
   ]
  },
  {
   "cell_type": "code",
   "execution_count": 37,
   "metadata": {},
   "outputs": [
    {
     "data": {
      "text/plain": [
       "Country            192\n",
       "Year                29\n",
       "GDP_Per_Capita    5334\n",
       "Continent            6\n",
       "dtype: int64"
      ]
     },
     "execution_count": 37,
     "metadata": {},
     "output_type": "execute_result"
    }
   ],
   "source": [
    "gdp_df2.nunique()"
   ]
  },
  {
   "cell_type": "code",
   "execution_count": 38,
   "metadata": {},
   "outputs": [
    {
     "data": {
      "text/plain": [
       "Continent\n",
       "Africa           51\n",
       "Asia             44\n",
       "Europe           45\n",
       "North America    26\n",
       "Oceania          14\n",
       "South America    12\n",
       "Name: Country, dtype: int64"
      ]
     },
     "execution_count": 38,
     "metadata": {},
     "output_type": "execute_result"
    }
   ],
   "source": [
    "gdp_df2.groupby('Continent')['Country'].nunique()"
   ]
  },
  {
   "cell_type": "code",
   "execution_count": 39,
   "metadata": {},
   "outputs": [
    {
     "data": {
      "text/plain": [
       "<matplotlib.axes._subplots.AxesSubplot at 0x26351e953d0>"
      ]
     },
     "execution_count": 39,
     "metadata": {},
     "output_type": "execute_result"
    },
    {
     "data": {
      "image/png": "[encoded data removed]",
      "text/plain": [
       "<Figure size 432x288 with 1 Axes>"
      ]
     },
     "metadata": {
      "needs_background": "light"
     },
     "output_type": "display_data"
    }
   ],
   "source": [
    "gdp_df2.groupby('Continent')['Country'].nunique().plot(kind = 'bar')"
   ]
  },
  {
   "cell_type": "code",
   "execution_count": 40,
   "metadata": {},
   "outputs": [],
   "source": [
    "#Multi-step PROC - Works\n",
    "\n",
    "#gdp_df2_2014 = gdp_df2[gdp_df2['Year'] == 2014]\n",
    "#sns.boxplot(data = gdp_df2_2014, x = 'Continent', y = 'GDP_Per_Capita')"
   ]
  },
  {
   "cell_type": "code",
   "execution_count": 41,
   "metadata": {},
   "outputs": [
    {
     "data": {
      "text/plain": [
       "<matplotlib.axes._subplots.AxesSubplot at 0x263521bc100>"
      ]
     },
     "execution_count": 41,
     "metadata": {},
     "output_type": "execute_result"
    },
    {
     "data": {
      "image/png": "[encoded data removed]",
      "text/plain": [
       "<Figure size 432x288 with 1 Axes>"
      ]
     },
     "metadata": {
      "needs_background": "light"
     },
     "output_type": "display_data"
    }
   ],
   "source": [
    "#Implemented PROC\n",
    "\n",
    "sns.boxplot(data = gdp_df2[gdp_df2['Year'] == 2014], x = 'Continent', y = 'GDP_Per_Capita')\n",
    "\n",
    "#Question #21, What do you notice? \n",
    "#Quick comparison of median GDP per capita shows expected variations\n",
    "#Quick comparison of IQR Q2 and Q3 range shows that Africa and SA have far less variation than Asia or Europe"
   ]
  },
  {
   "cell_type": "code",
   "execution_count": 42,
   "metadata": {},
   "outputs": [],
   "source": [
    "internet_df = pd.read_csv('../Notebooks/UNdata2.csv', nrows=4495)\n",
    "#pint(internet_df)"
   ]
  },
  {
   "cell_type": "code",
   "execution_count": 43,
   "metadata": {},
   "outputs": [],
   "source": [
    "internet_df = internet_df.drop(columns = ['Value Footnotes'])\n",
    "#print(internet_df)"
   ]
  },
  {
   "cell_type": "code",
   "execution_count": 44,
   "metadata": {},
   "outputs": [
    {
     "name": "stdout",
     "output_type": "stream",
     "text": [
      "          Country  Year  Internet_Users_Pct\n",
      "0     Afghanistan  2014            6.390000\n",
      "1     Afghanistan  2013            5.900000\n",
      "2     Afghanistan  2012            5.454545\n",
      "3     Afghanistan  2011            5.000000\n",
      "4     Afghanistan  2010            4.000000\n",
      "...           ...   ...                 ...\n",
      "4490     Zimbabwe  1997            0.033080\n",
      "4491     Zimbabwe  1996            0.016790\n",
      "4492     Zimbabwe  1995            0.007684\n",
      "4493     Zimbabwe  1994            0.001739\n",
      "4494     Zimbabwe  1990            0.000000\n",
      "\n",
      "[4495 rows x 3 columns]\n"
     ]
    },
    {
     "data": {
      "text/plain": [
       "1990"
      ]
     },
     "execution_count": 44,
     "metadata": {},
     "output_type": "execute_result"
    }
   ],
   "source": [
    "internet_df = internet_df.rename(columns = {'Country or Area':'Country', 'Year':'Year', 'Value':'Internet_Users_Pct'})\n",
    "print(internet_df)\n",
    "\n",
    "#internet_df.columns\n",
    "#internet_df.info\n",
    "#internet_df.info()\n",
    "#type(internet_df)\n",
    "\n",
    "internet_df[internet_df['Internet_Users_Pct'] > 0]['Year'].min()"
   ]
  },
  {
   "cell_type": "code",
   "execution_count": 45,
   "metadata": {},
   "outputs": [],
   "source": [
    "#internet_sorted = internet_df[internet_df['Internet_Users_Pct'] > 0]\n",
    "#internet_sorted.sort_values(by = 'Year').head(10)"
   ]
  },
  {
   "cell_type": "code",
   "execution_count": 46,
   "metadata": {},
   "outputs": [
    {
     "data": {
      "text/html": [
       "<div>\n",
       "<style scoped>\n",
       "    .dataframe tbody tr th:only-of-type {\n",
       "        vertical-align: middle;\n",
       "    }\n",
       "\n",
       "    .dataframe tbody tr th {\n",
       "        vertical-align: top;\n",
       "    }\n",
       "\n",
       "    .dataframe thead th {\n",
       "        text-align: right;\n",
       "    }\n",
       "</style>\n",
       "<table border=\"1\" class=\"dataframe\">\n",
       "  <thead>\n",
       "    <tr style=\"text-align: right;\">\n",
       "      <th></th>\n",
       "      <th>Country</th>\n",
       "      <th>Year</th>\n",
       "      <th>GDP_Per_Capita</th>\n",
       "      <th>Internet_Users_Pct</th>\n",
       "    </tr>\n",
       "  </thead>\n",
       "  <tbody>\n",
       "    <tr>\n",
       "      <th>3514</th>\n",
       "      <td>Zimbabwe</td>\n",
       "      <td>1997</td>\n",
       "      <td>3036.422224</td>\n",
       "      <td>0.033080</td>\n",
       "    </tr>\n",
       "    <tr>\n",
       "      <th>3515</th>\n",
       "      <td>Zimbabwe</td>\n",
       "      <td>1996</td>\n",
       "      <td>2985.856605</td>\n",
       "      <td>0.016790</td>\n",
       "    </tr>\n",
       "    <tr>\n",
       "      <th>3516</th>\n",
       "      <td>Zimbabwe</td>\n",
       "      <td>1995</td>\n",
       "      <td>2736.486436</td>\n",
       "      <td>0.007684</td>\n",
       "    </tr>\n",
       "    <tr>\n",
       "      <th>3517</th>\n",
       "      <td>Zimbabwe</td>\n",
       "      <td>1994</td>\n",
       "      <td>2768.309953</td>\n",
       "      <td>0.001739</td>\n",
       "    </tr>\n",
       "    <tr>\n",
       "      <th>3518</th>\n",
       "      <td>Zimbabwe</td>\n",
       "      <td>1990</td>\n",
       "      <td>2819.549467</td>\n",
       "      <td>0.000000</td>\n",
       "    </tr>\n",
       "  </tbody>\n",
       "</table>\n",
       "</div>"
      ],
      "text/plain": [
       "       Country  Year  GDP_Per_Capita  Internet_Users_Pct\n",
       "3514  Zimbabwe  1997     3036.422224            0.033080\n",
       "3515  Zimbabwe  1996     2985.856605            0.016790\n",
       "3516  Zimbabwe  1995     2736.486436            0.007684\n",
       "3517  Zimbabwe  1994     2768.309953            0.001739\n",
       "3518  Zimbabwe  1990     2819.549467            0.000000"
      ]
     },
     "execution_count": 46,
     "metadata": {},
     "output_type": "execute_result"
    }
   ],
   "source": [
    "gdp_and_internet_use = gdp_df.merge(internet_df, on = ['Country', 'Year'],)\n",
    "#print(gdp_and_internet_use)\n",
    "\n",
    "#gdp_and_internet_use.head()\n",
    "gdp_and_internet_use.tail()"
   ]
  },
  {
   "cell_type": "code",
   "execution_count": 47,
   "metadata": {},
   "outputs": [
    {
     "data": {
      "text/plain": [
       "44.673536463414635"
      ]
     },
     "execution_count": 47,
     "metadata": {},
     "output_type": "execute_result"
    }
   ],
   "source": [
    "gdp_and_internet_use_2014 = gdp_and_internet_use[gdp_and_internet_use['Year']==2014]\n",
    "#print(gdp_and_internet_use_2014)\n",
    "\n",
    "#gdp_and_internet_use_2014.mean()\n",
    "gdp_and_internet_use_2014['Internet_Users_Pct'].mean()"
   ]
  },
  {
   "cell_type": "code",
   "execution_count": 48,
   "metadata": {},
   "outputs": [
    {
     "name": "stdout",
     "output_type": "stream",
     "text": [
      "12\n",
      "\n",
      "\n",
      "                   Country  Year  GDP_Per_Capita  Internet_Users_Pct\n",
      "228                Bahrain  2014    43846.568554            90.99998\n",
      "854                Denmark  2014    45057.083449            95.99000\n",
      "1067               Finland  2014    39301.058763            92.38000\n",
      "1395               Iceland  2014    42774.888849            98.16000\n",
      "1578                 Japan  2014    37337.317406            90.58000\n",
      "1812            Luxembourg  2014    92349.186429            94.67000\n",
      "2199           Netherlands  2014    46238.209707            93.17000\n",
      "2310                Norway  2014    63328.259526            96.30000\n",
      "2556                 Qatar  2014   116693.507701            91.49000\n",
      "2992                Sweden  2014    44762.490296            92.52000\n",
      "3297  United Arab Emirates  2014    62879.703021            90.40000\n",
      "3318        United Kingdom  2014    38693.893263            91.61000\n"
     ]
    }
   ],
   "source": [
    "print(gdp_and_internet_use_2014[gdp_and_internet_use_2014['Internet_Users_Pct'] >= 90]['Country'].count())\n",
    "\n",
    "print(\"\\n\")\n",
    "\n",
    "print(gdp_and_internet_use_2014[gdp_and_internet_use_2014['Internet_Users_Pct'] >= 90])"
   ]
  },
  {
   "cell_type": "code",
   "execution_count": 49,
   "metadata": {},
   "outputs": [
    {
     "name": "stdout",
     "output_type": "stream",
     "text": [
      "         Country  Year  GDP_Per_Capita  Internet_Users_Pct\n",
      "1812  Luxembourg  2014    92349.186429           94.670000\n",
      "1813  Luxembourg  2013    90656.380431           93.776500\n",
      "1814  Luxembourg  2012    89505.159080           91.949924\n",
      "1815  Luxembourg  2011    92005.016836           90.029859\n",
      "1816  Luxembourg  2010    91743.293852           90.620000\n",
      "...          ...   ...             ...                 ...\n",
      "2785   Singapore  1994    43835.783293            1.185204\n",
      "2786   Singapore  1993    40714.217145            0.763278\n",
      "2787   Singapore  1992    37463.009189            0.471368\n",
      "2788   Singapore  1991    36201.887548            0.161504\n",
      "2789   Singapore  1990    34911.740001            0.000000\n",
      "\n",
      "[64 rows x 4 columns]\n"
     ]
    }
   ],
   "source": [
    "#print(gdp_and_internet_use_2014.sort_values('GDP_Per_Capita', ascending=False).head(3))\n",
    "\n",
    "top3 = gdp_and_internet_use_2014.sort_values('GDP_Per_Capita', ascending=False).iloc[0:3]\n",
    "#print(top3)\n",
    "\n",
    "gdp_and_internet_use_top3 = gdp_and_internet_use[gdp_and_internet_use['Country'].\n",
    "                                                 isin(top3.Country.values)]\n",
    "print(gdp_and_internet_use_top3)"
   ]
  },
  {
   "cell_type": "code",
   "execution_count": 50,
   "metadata": {},
   "outputs": [
    {
     "name": "stdout",
     "output_type": "stream",
     "text": [
      "<class 'pandas.core.frame.DataFrame'>\n",
      "Int64Index: 64 entries, 1812 to 2789\n",
      "Data columns (total 4 columns):\n",
      " #   Column              Non-Null Count  Dtype  \n",
      "---  ------              --------------  -----  \n",
      " 0   Country             64 non-null     object \n",
      " 1   Year                64 non-null     int64  \n",
      " 2   GDP_Per_Capita      64 non-null     float64\n",
      " 3   Internet_Users_Pct  64 non-null     float64\n",
      "dtypes: float64(2), int64(1), object(1)\n",
      "memory usage: 2.5+ KB\n"
     ]
    }
   ],
   "source": [
    "gdp_and_internet_use_top3.info()\n",
    "#type(gdp_and_internet_use_top3)"
   ]
  },
  {
   "cell_type": "code",
   "execution_count": 51,
   "metadata": {},
   "outputs": [
    {
     "data": {
      "text/plain": [
       "<seaborn.axisgrid.FacetGrid at 0x263522a1c40>"
      ]
     },
     "execution_count": 51,
     "metadata": {},
     "output_type": "execute_result"
    },
    {
     "data": {
      "image/png": "[encoded data removed]",
      "text/plain": [
       "<Figure size 648x216 with 3 Axes>"
      ]
     },
     "metadata": {
      "needs_background": "light"
     },
     "output_type": "display_data"
    }
   ],
   "source": [
    "#I know this isn't how it's supposed to display, but I can't find any good documentation or\n",
    "#discussions on why this isn't self selecting the data. I know I could just create 3 data frames, but\n",
    "#I believe that defeats the point. Every piece of documentation I look at shows examples working \n",
    "#with code like I have it below, but sorting it out properly. \n",
    "\n",
    "#sns.lineplot(x = 'Year', y = 'Internet_Users_Pct', data = gdp_and_internet_use_top3)\n",
    "\n",
    "plottemp = sns.FacetGrid(gdp_and_internet_use_top3, col = 'Country')\n",
    "plottemp.map(sns.lineplot, x = 'Year', y = 'Internet_Users_Pct', data = gdp_and_internet_use_top3)"
   ]
  },
  {
   "cell_type": "code",
   "execution_count": 52,
   "metadata": {},
   "outputs": [
    {
     "data": {
      "text/plain": [
       "<seaborn.axisgrid.FacetGrid at 0x263523a4970>"
      ]
     },
     "execution_count": 52,
     "metadata": {},
     "output_type": "execute_result"
    },
    {
     "data": {
      "image/png": "[encoded data removed]",
      "text/plain": [
       "<Figure size 648x216 with 3 Axes>"
      ]
     },
     "metadata": {
      "needs_background": "light"
     },
     "output_type": "display_data"
    }
   ],
   "source": [
    "#Same as above. \n",
    "\n",
    "plottemp = sns.FacetGrid(gdp_and_internet_use_top3, col = 'Country')\n",
    "plottemp.map(sns.scatterplot, x = 'GDP_Per_Capita', y = 'Internet_Users_Pct', data = gdp_and_internet_use_top3)"
   ]
  },
  {
   "cell_type": "code",
   "execution_count": 53,
   "metadata": {},
   "outputs": [
    {
     "data": {
      "text/plain": [
       "0.7879885707262837"
      ]
     },
     "execution_count": 53,
     "metadata": {},
     "output_type": "execute_result"
    }
   ],
   "source": [
    "#78.80 Percent of the variability within the data, can be explained by the relationship between GDP\n",
    "#per capita and percent of users having access to the internet (I assume the variable is \"Access\"). \n",
    "\n",
    "gdp_and_internet_use_2014['GDP_Per_Capita'].corr(gdp_and_internet_use_2014['Internet_Users_Pct'])"
   ]
  },
  {
   "cell_type": "code",
   "execution_count": 54,
   "metadata": {},
   "outputs": [
    {
     "name": "stdout",
     "output_type": "stream",
     "text": [
      "<class 'pandas.core.frame.DataFrame'>\n",
      "Int64Index: 164 entries, 0 to 3497\n",
      "Data columns (total 4 columns):\n",
      " #   Column              Non-Null Count  Dtype  \n",
      "---  ------              --------------  -----  \n",
      " 0   Country             164 non-null    object \n",
      " 1   Year                164 non-null    int64  \n",
      " 2   GDP_Per_Capita      164 non-null    float64\n",
      " 3   Internet_Users_Pct  164 non-null    float64\n",
      "dtypes: float64(2), int64(1), object(1)\n",
      "memory usage: 6.4+ KB\n"
     ]
    }
   ],
   "source": [
    "#For comparison before and after due to the copy warning\n",
    "gdp_and_internet_use_2014.info()"
   ]
  },
  {
   "cell_type": "code",
   "execution_count": 55,
   "metadata": {},
   "outputs": [
    {
     "name": "stdout",
     "output_type": "stream",
     "text": [
      "                  Country  Year  GDP_Per_Capita  Internet_Users_Pct   GDP_Log\n",
      "0             Afghanistan  2014     1795.735834                6.39  7.493170\n",
      "13                Albania  2014    10700.993216               60.10  9.278092\n",
      "34                Algeria  2014    13557.769757               18.09  9.514715\n",
      "56                 Angola  2014     6813.052106               21.26  8.826595\n",
      "76    Antigua and Barbuda  2014    20440.540555               64.00  9.925275\n",
      "...                   ...   ...             ...                 ...       ...\n",
      "3411              Vanuatu  2014     2837.122659               18.80  7.950546\n",
      "3431            Venezuela  2014    17131.386907               57.00  9.748668\n",
      "3455                Yemen  2014     3828.484887               22.55  8.250224\n",
      "3475               Zambia  2014     3684.685507               17.34  8.211940\n",
      "3497             Zimbabwe  2014     2506.490220               19.89  7.826639\n",
      "\n",
      "[164 rows x 5 columns]\n"
     ]
    },
    {
     "name": "stderr",
     "output_type": "stream",
     "text": [
      "<ipython-input-55-918a258a526f>:1: SettingWithCopyWarning: \n",
      "A value is trying to be set on a copy of a slice from a DataFrame.\n",
      "Try using .loc[row_indexer,col_indexer] = value instead\n",
      "\n",
      "See the caveats in the documentation: https://pandas.pydata.org/pandas-docs/stable/user_guide/indexing.html#returning-a-view-versus-a-copy\n",
      "  gdp_and_internet_use_2014['GDP_Log'] = np.log(gdp_and_internet_use_2014['GDP_Per_Capita'])\n"
     ]
    }
   ],
   "source": [
    "gdp_and_internet_use_2014['GDP_Log'] = np.log(gdp_and_internet_use_2014['GDP_Per_Capita'])\n",
    "\n",
    "print(gdp_and_internet_use_2014)\n",
    "#gdp_and_internet_use_2014.info()"
   ]
  },
  {
   "cell_type": "code",
   "execution_count": 56,
   "metadata": {},
   "outputs": [
    {
     "name": "stdout",
     "output_type": "stream",
     "text": [
      "7.493170152297873\n",
      "<class 'pandas.core.frame.DataFrame'>\n",
      "Int64Index: 164 entries, 0 to 3497\n",
      "Data columns (total 5 columns):\n",
      " #   Column              Non-Null Count  Dtype  \n",
      "---  ------              --------------  -----  \n",
      " 0   Country             164 non-null    object \n",
      " 1   Year                164 non-null    int64  \n",
      " 2   GDP_Per_Capita      164 non-null    float64\n",
      " 3   Internet_Users_Pct  164 non-null    float64\n",
      " 4   GDP_Log             164 non-null    float64\n",
      "dtypes: float64(3), int64(1), object(1)\n",
      "memory usage: 7.7+ KB\n"
     ]
    }
   ],
   "source": [
    "#Test of log function, math checks out, no null values created, same number of observations as before\n",
    "#the calculation, looks good to me!\n",
    "\n",
    "print(np.log(1795.735834))\n",
    "gdp_and_internet_use_2014.info()"
   ]
  },
  {
   "cell_type": "code",
   "execution_count": 68,
   "metadata": {},
   "outputs": [
    {
     "data": {
      "text/plain": [
       "0.8844322971419837"
      ]
     },
     "execution_count": 68,
     "metadata": {},
     "output_type": "execute_result"
    }
   ],
   "source": [
    "gdp_and_internet_use_2014['GDP_Log'].corr(gdp_and_internet_use_2014['Internet_Users_Pct'])\n",
    "\n",
    "#New correlation using a log function shows a higher R^^2 value, unsure of what this means, instinct\n",
    "#thinks this may have something to do with what I would expect to be a lag time relationship between\n",
    "#the interactions of GDP per capita and internet users percentage. "
   ]
  },
  {
   "cell_type": "code",
   "execution_count": 76,
   "metadata": {},
   "outputs": [
    {
     "data": {
      "text/plain": [
       "Country\n",
       "United Arab Emirates    21\n",
       "United Kingdom          25\n",
       "United States           25\n",
       "Uruguay                 22\n",
       "Uzbekistan              21\n",
       "Vanuatu                 20\n",
       "Venezuela               24\n",
       "Yemen                   20\n",
       "Zambia                  22\n",
       "Zimbabwe                22\n",
       "Name: Year, dtype: int64"
      ]
     },
     "execution_count": 76,
     "metadata": {},
     "output_type": "execute_result"
    }
   ],
   "source": [
    "#What is the label for USA? \n",
    "\n",
    "gdp_and_internet_use.groupby('Country')['Year'].nunique().tail(10)"
   ]
  },
  {
   "cell_type": "code",
   "execution_count": 77,
   "metadata": {},
   "outputs": [],
   "source": [
    "#Create new df of only the USA\n",
    "\n",
    "gdp_USA = gdp_and_internet_use[gdp_and_internet_use['Country']=='United States']"
   ]
  },
  {
   "cell_type": "code",
   "execution_count": 79,
   "metadata": {},
   "outputs": [
    {
     "name": "stdout",
     "output_type": "stream",
     "text": [
      "<class 'pandas.core.frame.DataFrame'>\n",
      "Int64Index: 25 entries, 3343 to 3367\n",
      "Data columns (total 4 columns):\n",
      " #   Column              Non-Null Count  Dtype  \n",
      "---  ------              --------------  -----  \n",
      " 0   Country             25 non-null     object \n",
      " 1   Year                25 non-null     int64  \n",
      " 2   GDP_Per_Capita      25 non-null     float64\n",
      " 3   Internet_Users_Pct  25 non-null     float64\n",
      "dtypes: float64(2), int64(1), object(1)\n",
      "memory usage: 1000.0+ bytes\n"
     ]
    }
   ],
   "source": [
    "#print(gdp_USA)\n",
    "\n",
    "gdp_USA.info()"
   ]
  },
  {
   "cell_type": "code",
   "execution_count": 81,
   "metadata": {},
   "outputs": [
    {
     "data": {
      "text/plain": [
       "0.9916180229578647"
      ]
     },
     "execution_count": 81,
     "metadata": {},
     "output_type": "execute_result"
    }
   ],
   "source": [
    "gdp_USA['GDP_Per_Capita'].corr(gdp_USA['Internet_Users_Pct'])\n",
    "\n",
    "#Yes, it is useful depending on what one is trying to learn form the data. Although the correlation\n",
    "#is extremely strong, I would argue in favor of some sort of oultlier status. As in all things stats\n",
    "#context is key. The USA being the largest tech inovator for internet related technologies probably\n",
    "#has something to do with them having a stronger correlation. "
   ]
  },
  {
   "cell_type": "code",
   "execution_count": null,
   "metadata": {},
   "outputs": [],
   "source": []
  },
  {
   "cell_type": "code",
   "execution_count": null,
   "metadata": {},
   "outputs": [],
   "source": []
  },
  {
   "cell_type": "code",
   "execution_count": null,
   "metadata": {},
   "outputs": [],
   "source": []
  },
  {
   "cell_type": "code",
   "execution_count": null,
   "metadata": {},
   "outputs": [],
   "source": []
  },
  {
   "cell_type": "code",
   "execution_count": null,
   "metadata": {},
   "outputs": [],
   "source": []
  },
  {
   "cell_type": "code",
   "execution_count": 60,
   "metadata": {},
   "outputs": [],
   "source": []
  },
  {
   "cell_type": "markdown",
   "metadata": {},
   "source": [
    "git commit -m 'MESSAGE'\n",
    "git push origin master\n"
   ]
  }
 ],
 "metadata": {
  "kernelspec": {
   "display_name": "Python 3",
   "language": "python",
   "name": "python3"
  },
  "language_info": {
   "codemirror_mode": {
    "name": "ipython",
    "version": 3
   },
   "file_extension": ".py",
   "mimetype": "text/x-python",
   "name": "python",
   "nbconvert_exporter": "python",
   "pygments_lexer": "ipython3",
   "version": "3.8.3"
  }
 },
 "nbformat": 4,
 "nbformat_minor": 4
}
