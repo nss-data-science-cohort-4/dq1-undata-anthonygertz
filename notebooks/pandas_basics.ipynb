{
 "cells": [
  {
   "cell_type": "markdown",
   "metadata": {},
   "source": [
    "# _pandas_ Fundamentals Review\n",
    "\n",
    "In this notebook, we'll review some of the `pandas` basic tools that you learned on DataCamp.\n",
    "\n",
    "We'll be looking at a (modified version of a) dataset of house sales prices from King County, Washington between 2014 and 2015.\n",
    "\n",
    "https://www.kaggle.com/harlfoxem/housesalesprediction\n",
    "\n",
    "The procedure we follow in this notebook is what should be done any time you have a new dataset to familiarize yourself with it."
   ]
  },
  {
   "cell_type": "markdown",
   "metadata": {},
   "source": [
    "## Step 1: Reading in data and initial inspection/checking missing values and datatypes"
   ]
  },
  {
   "cell_type": "code",
   "execution_count": 3,
   "metadata": {},
   "outputs": [],
   "source": [
    "import pandas as pd\n",
    "import numpy as np"
   ]
  },
  {
   "cell_type": "code",
   "execution_count": 6,
   "metadata": {},
   "outputs": [],
   "source": [
    "house_sales =pd.read_csv(\"/NSS/pandas_basics/data/kc_house_data.csv\") "
   ]
  },
  {
   "cell_type": "code",
   "execution_count": 37,
   "metadata": {},
   "outputs": [
    {
     "name": "stdout",
     "output_type": "stream",
     "text": [
      "<class 'pandas.core.frame.DataFrame'>\n",
      "RangeIndex: 21613 entries, 0 to 21612\n",
      "Data columns (total 21 columns):\n",
      " #   Column         Non-Null Count  Dtype  \n",
      "---  ------         --------------  -----  \n",
      " 0   id             21613 non-null  int64  \n",
      " 1   date           20367 non-null  object \n",
      " 2   price          21613 non-null  float64\n",
      " 3   bedrooms       20704 non-null  float64\n",
      " 4   bathrooms      21613 non-null  float64\n",
      " 5   sqft_living    21593 non-null  float64\n",
      " 6   sqft_lot       20070 non-null  float64\n",
      " 7   floors         20862 non-null  float64\n",
      " 8   waterfront     21613 non-null  int64  \n",
      " 9   view           21613 non-null  int64  \n",
      " 10  condition      21613 non-null  int64  \n",
      " 11  grade          21613 non-null  int64  \n",
      " 12  sqft_above     21613 non-null  int64  \n",
      " 13  sqft_basement  21613 non-null  int64  \n",
      " 14  yr_built       21613 non-null  int64  \n",
      " 15  yr_renovated   19571 non-null  float64\n",
      " 16  zipcode        21613 non-null  int64  \n",
      " 17  lat            21613 non-null  float64\n",
      " 18  long           21613 non-null  float64\n",
      " 19  sqft_living15  21613 non-null  int64  \n",
      " 20  sqft_lot15     21613 non-null  int64  \n",
      "dtypes: float64(9), int64(11), object(1)\n",
      "memory usage: 3.5+ MB\n"
     ]
    }
   ],
   "source": [
    "#house_sales.head()\n",
    "#house_sales.tail()\n",
    "#print(house_sales)\n",
    "#house_sales.columns.values\n",
    "#house_sales.isna().any()\n",
    "house_sales.info()"
   ]
  },
  {
   "cell_type": "markdown",
   "metadata": {},
   "source": [
    "1.) sqft_living is an object (FIXED)\n",
    "2.) waterfront is likely a boolean encoded as 0/1\n",
    "3.) condition is categorical, multiple leves\n",
    "4.) NaN values\n",
    "\n"
   ]
  },
  {
   "cell_type": "code",
   "execution_count": 39,
   "metadata": {},
   "outputs": [
    {
     "data": {
      "text/plain": [
       "id                    5556300102\n",
       "date             20140714T000000\n",
       "price                     933399\n",
       "bedrooms                       3\n",
       "bathrooms                    2.5\n",
       "sqft_living                  NaN\n",
       "sqft_lot                   10360\n",
       "floors                         2\n",
       "waterfront                     0\n",
       "view                           0\n",
       "condition                      3\n",
       "grade                          9\n",
       "sqft_above                  3110\n",
       "sqft_basement                830\n",
       "yr_built                    1992\n",
       "yr_renovated                   0\n",
       "zipcode                    98052\n",
       "lat                      47.6468\n",
       "long                    -122.116\n",
       "sqft_living15               2720\n",
       "sqft_lot15                 11941\n",
       "Name: 1363, dtype: object"
      ]
     },
     "execution_count": 39,
     "metadata": {},
     "output_type": "execute_result"
    }
   ],
   "source": [
    "#house_sales.waterfront.value_counts()\n",
    "#pd.to_numeric(house_sales[\"sqft_living\"])\n",
    "house_sales[\"sqft_living\"] = pd.to_numeric(house_sales.sqft_living, errors = 'coerce')\n",
    "\n",
    "#house_sales.iloc[1363]\n",
    "house_sales.loc[1363]\n",
    "#house_sales.loc[1363, \"sqft_living\"]"
   ]
  },
  {
   "cell_type": "code",
   "execution_count": 40,
   "metadata": {},
   "outputs": [
    {
     "data": {
      "text/plain": [
       "0.0       18753\n",
       "2014.0       81\n",
       "2003.0       34\n",
       "2000.0       32\n",
       "2013.0       32\n",
       "          ...  \n",
       "1950.0        2\n",
       "1954.0        1\n",
       "1959.0        1\n",
       "1948.0        1\n",
       "1934.0        1\n",
       "Name: yr_renovated, Length: 67, dtype: int64"
      ]
     },
     "execution_count": 40,
     "metadata": {},
     "output_type": "execute_result"
    }
   ],
   "source": [
    "#house_sales.yr_renovated.value_counts()  #yr_renovated is 0 for not renovated???"
   ]
  },
  {
   "cell_type": "markdown",
   "metadata": {},
   "source": [
    "## Step 2: Take a closer look at the variables individually"
   ]
  },
  {
   "cell_type": "code",
   "execution_count": null,
   "metadata": {},
   "outputs": [],
   "source": []
  },
  {
   "cell_type": "markdown",
   "metadata": {},
   "source": [
    "## Step 3: Bivariate Analysis/Relationships Between Variables"
   ]
  },
  {
   "cell_type": "code",
   "execution_count": null,
   "metadata": {},
   "outputs": [],
   "source": []
  }
 ],
 "metadata": {
  "kernelspec": {
   "display_name": "Python 3",
   "language": "python",
   "name": "python3"
  },
  "language_info": {
   "codemirror_mode": {
    "name": "ipython",
    "version": 3
   },
   "file_extension": ".py",
   "mimetype": "text/x-python",
   "name": "python",
   "nbconvert_exporter": "python",
   "pygments_lexer": "ipython3",
   "version": "3.8.3"
  }
 },
 "nbformat": 4,
 "nbformat_minor": 4
}
